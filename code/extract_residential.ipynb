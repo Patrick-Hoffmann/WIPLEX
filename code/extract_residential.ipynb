{
 "cells": [
  {
   "cell_type": "code",
   "execution_count": 1,
   "id": "b9c8499b",
   "metadata": {},
   "outputs": [],
   "source": [
    "import urllib.request\n",
    "import os\n",
    "os.environ[\"USE_PYGEOS\"] = \"0\"\n",
    "import geopandas as gpd\n",
    "from bs4 import BeautifulSoup\n",
    "import requests\n",
    "import re\n",
    "import numpy as np\n",
    "from urllib.parse import urljoin\n",
    "#import urllib\n",
    "from urllib.parse import urlparse\n",
    "import time\n",
    "import glob\n",
    "import pandas as pd\n",
    "from pathlib import Path\n",
    "#import pickle\n",
    "#import psutil\n",
    "#from zipfile import ZipFile\n",
    "#import gc\n",
    "#import matplotlib.pyplot as plt \n",
    "import rasterio\n",
    "import rasterio.mask\n",
    "from osgeo import gdal\n",
    "from shutil import copyfile\n",
    "import config"
   ]
  },
  {
   "cell_type": "code",
   "execution_count": 2,
   "id": "401839c3",
   "metadata": {},
   "outputs": [],
   "source": [
    "WIPLEX_config = config.WIPLEX_settings()\n",
    "WIPLEX_config.initialize_config()\n",
    "param_dict = WIPLEX_config.param\n",
    "paths_dict = WIPLEX_config.paths"
   ]
  },
  {
   "cell_type": "code",
   "execution_count": 3,
   "id": "116fc07f",
   "metadata": {},
   "outputs": [],
   "source": [
    "pa_gdf = gpd.read_file(f'{paths_dict[\"gwa_placement_area\"]}', crs=param_dict[\"epsg_general\"])"
   ]
  },
  {
   "cell_type": "code",
   "execution_count": 3,
   "id": "9ba6a9bb",
   "metadata": {},
   "outputs": [],
   "source": [
    "building_files = glob.glob(os.path.join(paths_dict[\"osm_out_path\"], '*.geojson'))"
   ]
  },
  {
   "cell_type": "code",
   "execution_count": 4,
   "id": "6f2da25e",
   "metadata": {},
   "outputs": [
    {
     "data": {
      "text/plain": [
       "['E:\\\\Master_Thesis\\\\WIPLEX\\\\Database\\\\Intermediate Outputs\\\\osm\\\\germany_4.geojson',\n",
       " 'E:\\\\Master_Thesis\\\\WIPLEX\\\\Database\\\\Intermediate Outputs\\\\osm\\\\germany_5.geojson']"
      ]
     },
     "execution_count": 4,
     "metadata": {},
     "output_type": "execute_result"
    }
   ],
   "source": [
    "building_files"
   ]
  },
  {
   "cell_type": "code",
   "execution_count": 5,
   "id": "14ef5a78",
   "metadata": {},
   "outputs": [
    {
     "ename": "KeyboardInterrupt",
     "evalue": "",
     "output_type": "error",
     "traceback": [
      "\u001b[1;31m---------------------------------------------------------------------------\u001b[0m",
      "\u001b[1;31mKeyboardInterrupt\u001b[0m                         Traceback (most recent call last)",
      "Cell \u001b[1;32mIn [5], line 1\u001b[0m\n\u001b[1;32m----> 1\u001b[0m osm_gdf \u001b[38;5;241m=\u001b[39m \u001b[43mgpd\u001b[49m\u001b[38;5;241;43m.\u001b[39;49m\u001b[43mread_file\u001b[49m\u001b[43m(\u001b[49m\u001b[43mbuilding_files\u001b[49m\u001b[43m[\u001b[49m\u001b[38;5;241;43m2\u001b[39;49m\u001b[43m]\u001b[49m\u001b[43m)\u001b[49m\n",
      "File \u001b[1;32m~\\Anaconda3\\envs\\mt_env\\lib\\site-packages\\geopandas\\io\\file.py:244\u001b[0m, in \u001b[0;36m_read_file\u001b[1;34m(filename, bbox, mask, rows, **kwargs)\u001b[0m\n\u001b[0;32m    239\u001b[0m \u001b[38;5;28;01mif\u001b[39;00m kwargs\u001b[38;5;241m.\u001b[39mget(\u001b[38;5;124m\"\u001b[39m\u001b[38;5;124mignore_geometry\u001b[39m\u001b[38;5;124m\"\u001b[39m, \u001b[38;5;28;01mFalse\u001b[39;00m):\n\u001b[0;32m    240\u001b[0m     \u001b[38;5;28;01mreturn\u001b[39;00m pd\u001b[38;5;241m.\u001b[39mDataFrame(\n\u001b[0;32m    241\u001b[0m         [record[\u001b[38;5;124m\"\u001b[39m\u001b[38;5;124mproperties\u001b[39m\u001b[38;5;124m\"\u001b[39m] \u001b[38;5;28;01mfor\u001b[39;00m record \u001b[38;5;129;01min\u001b[39;00m f_filt], columns\u001b[38;5;241m=\u001b[39mcolumns\n\u001b[0;32m    242\u001b[0m     )\n\u001b[1;32m--> 244\u001b[0m \u001b[38;5;28;01mreturn\u001b[39;00m \u001b[43mGeoDataFrame\u001b[49m\u001b[38;5;241;43m.\u001b[39;49m\u001b[43mfrom_features\u001b[49m\u001b[43m(\u001b[49m\n\u001b[0;32m    245\u001b[0m \u001b[43m    \u001b[49m\u001b[43mf_filt\u001b[49m\u001b[43m,\u001b[49m\u001b[43m \u001b[49m\u001b[43mcrs\u001b[49m\u001b[38;5;241;43m=\u001b[39;49m\u001b[43mcrs\u001b[49m\u001b[43m,\u001b[49m\u001b[43m \u001b[49m\u001b[43mcolumns\u001b[49m\u001b[38;5;241;43m=\u001b[39;49m\u001b[43mcolumns\u001b[49m\u001b[43m \u001b[49m\u001b[38;5;241;43m+\u001b[39;49m\u001b[43m \u001b[49m\u001b[43m[\u001b[49m\u001b[38;5;124;43m\"\u001b[39;49m\u001b[38;5;124;43mgeometry\u001b[39;49m\u001b[38;5;124;43m\"\u001b[39;49m\u001b[43m]\u001b[49m\n\u001b[0;32m    246\u001b[0m \u001b[43m\u001b[49m\u001b[43m)\u001b[49m\n",
      "File \u001b[1;32m~\\Anaconda3\\envs\\mt_env\\lib\\site-packages\\geopandas\\geodataframe.py:605\u001b[0m, in \u001b[0;36mGeoDataFrame.from_features\u001b[1;34m(cls, features, crs, columns)\u001b[0m\n\u001b[0;32m    602\u001b[0m \u001b[38;5;28;01mif\u001b[39;00m \u001b[38;5;28mhasattr\u001b[39m(feature, \u001b[38;5;124m\"\u001b[39m\u001b[38;5;124m__geo_interface__\u001b[39m\u001b[38;5;124m\"\u001b[39m):\n\u001b[0;32m    603\u001b[0m     feature \u001b[38;5;241m=\u001b[39m feature\u001b[38;5;241m.\u001b[39m__geo_interface__\n\u001b[0;32m    604\u001b[0m row \u001b[38;5;241m=\u001b[39m {\n\u001b[1;32m--> 605\u001b[0m     \u001b[38;5;124m\"\u001b[39m\u001b[38;5;124mgeometry\u001b[39m\u001b[38;5;124m\"\u001b[39m: \u001b[43mshape\u001b[49m\u001b[43m(\u001b[49m\u001b[43mfeature\u001b[49m\u001b[43m[\u001b[49m\u001b[38;5;124;43m\"\u001b[39;49m\u001b[38;5;124;43mgeometry\u001b[39;49m\u001b[38;5;124;43m\"\u001b[39;49m\u001b[43m]\u001b[49m\u001b[43m)\u001b[49m \u001b[38;5;28;01mif\u001b[39;00m feature[\u001b[38;5;124m\"\u001b[39m\u001b[38;5;124mgeometry\u001b[39m\u001b[38;5;124m\"\u001b[39m] \u001b[38;5;28;01melse\u001b[39;00m \u001b[38;5;28;01mNone\u001b[39;00m\n\u001b[0;32m    606\u001b[0m }\n\u001b[0;32m    607\u001b[0m \u001b[38;5;66;03m# load properties\u001b[39;00m\n\u001b[0;32m    608\u001b[0m row\u001b[38;5;241m.\u001b[39mupdate(feature[\u001b[38;5;124m\"\u001b[39m\u001b[38;5;124mproperties\u001b[39m\u001b[38;5;124m\"\u001b[39m])\n",
      "File \u001b[1;32m~\\Anaconda3\\envs\\mt_env\\lib\\site-packages\\shapely\\geometry\\geo.py:106\u001b[0m, in \u001b[0;36mshape\u001b[1;34m(context)\u001b[0m\n\u001b[0;32m    104\u001b[0m     \u001b[38;5;28;01mreturn\u001b[39;00m _empty_shape_for_no_coordinates(geom_type)\n\u001b[0;32m    105\u001b[0m \u001b[38;5;28;01melif\u001b[39;00m geom_type \u001b[38;5;241m==\u001b[39m \u001b[38;5;124m\"\u001b[39m\u001b[38;5;124mpoint\u001b[39m\u001b[38;5;124m\"\u001b[39m:\n\u001b[1;32m--> 106\u001b[0m     \u001b[38;5;28;01mreturn\u001b[39;00m \u001b[43mPoint\u001b[49m\u001b[43m(\u001b[49m\u001b[43mob\u001b[49m\u001b[43m[\u001b[49m\u001b[38;5;124;43m\"\u001b[39;49m\u001b[38;5;124;43mcoordinates\u001b[39;49m\u001b[38;5;124;43m\"\u001b[39;49m\u001b[43m]\u001b[49m\u001b[43m)\u001b[49m\n\u001b[0;32m    107\u001b[0m \u001b[38;5;28;01melif\u001b[39;00m geom_type \u001b[38;5;241m==\u001b[39m \u001b[38;5;124m\"\u001b[39m\u001b[38;5;124mlinestring\u001b[39m\u001b[38;5;124m\"\u001b[39m:\n\u001b[0;32m    108\u001b[0m     \u001b[38;5;28;01mreturn\u001b[39;00m LineString(ob[\u001b[38;5;124m\"\u001b[39m\u001b[38;5;124mcoordinates\u001b[39m\u001b[38;5;124m\"\u001b[39m])\n",
      "File \u001b[1;32m~\\Anaconda3\\envs\\mt_env\\lib\\site-packages\\shapely\\geometry\\point.py:51\u001b[0m, in \u001b[0;36mPoint.__init__\u001b[1;34m(self, *args)\u001b[0m\n\u001b[0;32m     49\u001b[0m \u001b[38;5;28;01mif\u001b[39;00m \u001b[38;5;28mlen\u001b[39m(args) \u001b[38;5;241m>\u001b[39m \u001b[38;5;241m0\u001b[39m:\n\u001b[0;32m     50\u001b[0m     \u001b[38;5;28;01mif\u001b[39;00m \u001b[38;5;28mlen\u001b[39m(args) \u001b[38;5;241m==\u001b[39m \u001b[38;5;241m1\u001b[39m:\n\u001b[1;32m---> 51\u001b[0m         geom, n \u001b[38;5;241m=\u001b[39m \u001b[43mgeos_point_from_py\u001b[49m\u001b[43m(\u001b[49m\u001b[43margs\u001b[49m\u001b[43m[\u001b[49m\u001b[38;5;241;43m0\u001b[39;49m\u001b[43m]\u001b[49m\u001b[43m)\u001b[49m\n\u001b[0;32m     52\u001b[0m     \u001b[38;5;28;01melif\u001b[39;00m \u001b[38;5;28mlen\u001b[39m(args) \u001b[38;5;241m>\u001b[39m \u001b[38;5;241m3\u001b[39m:\n\u001b[0;32m     53\u001b[0m         \u001b[38;5;28;01mraise\u001b[39;00m \u001b[38;5;167;01mTypeError\u001b[39;00m(\n\u001b[0;32m     54\u001b[0m             \u001b[38;5;124m\"\u001b[39m\u001b[38;5;124mPoint() takes at most 3 arguments (\u001b[39m\u001b[38;5;132;01m{}\u001b[39;00m\u001b[38;5;124m given)\u001b[39m\u001b[38;5;124m\"\u001b[39m\u001b[38;5;241m.\u001b[39mformat(\u001b[38;5;28mlen\u001b[39m(args))\n\u001b[0;32m     55\u001b[0m         )\n",
      "File \u001b[1;32m~\\Anaconda3\\envs\\mt_env\\lib\\site-packages\\shapely\\geometry\\point.py:279\u001b[0m, in \u001b[0;36mgeos_point_from_py\u001b[1;34m(ob, update_geom, update_ndim)\u001b[0m\n\u001b[0;32m    277\u001b[0m \u001b[38;5;66;03m# Because of a bug in the GEOS C API, always set X before Y\u001b[39;00m\n\u001b[0;32m    278\u001b[0m lgeos\u001b[38;5;241m.\u001b[39mGEOSCoordSeq_setX(cs, \u001b[38;5;241m0\u001b[39m, dx)\n\u001b[1;32m--> 279\u001b[0m \u001b[43mlgeos\u001b[49m\u001b[38;5;241;43m.\u001b[39;49m\u001b[43mGEOSCoordSeq_setY\u001b[49m\u001b[43m(\u001b[49m\u001b[43mcs\u001b[49m\u001b[43m,\u001b[49m\u001b[43m \u001b[49m\u001b[38;5;241;43m0\u001b[39;49m\u001b[43m,\u001b[49m\u001b[43m \u001b[49m\u001b[43mdy\u001b[49m\u001b[43m)\u001b[49m\n\u001b[0;32m    280\u001b[0m \u001b[38;5;28;01mif\u001b[39;00m n \u001b[38;5;241m==\u001b[39m \u001b[38;5;241m3\u001b[39m:\n\u001b[0;32m    281\u001b[0m     lgeos\u001b[38;5;241m.\u001b[39mGEOSCoordSeq_setZ(cs, \u001b[38;5;241m0\u001b[39m, dz)\n",
      "\u001b[1;31mKeyboardInterrupt\u001b[0m: "
     ]
    }
   ],
   "source": [
    "osm_gdf = gpd.read_file(building_files[2])"
   ]
  },
  {
   "cell_type": "code",
   "execution_count": 40,
   "id": "d4a3998a",
   "metadata": {},
   "outputs": [
    {
     "name": "stdout",
     "output_type": "stream",
     "text": [
      "CPU times: total: 3min 50s\n",
      "Wall time: 4min\n"
     ]
    }
   ],
   "source": [
    "%%time\n",
    "join_list = []\n",
    "for i in dfs:\n",
    "    dfsjoin = gpd.sjoin(i, osm_gdf, how=\"left\") #Spatial join Points to polygons\n",
    "    counts = dfsjoin.groupby(dfsjoin.index)[\"index_right\"].count().to_numpy()\n",
    "    join_list.append(counts)"
   ]
  },
  {
   "cell_type": "code",
   "execution_count": 6,
   "id": "1d725396",
   "metadata": {},
   "outputs": [],
   "source": [
    "import itertools"
   ]
  },
  {
   "cell_type": "code",
   "execution_count": 10,
   "id": "cff291ae",
   "metadata": {},
   "outputs": [
    {
     "name": "stdout",
     "output_type": "stream",
     "text": [
      "Started calculating distance impacts for building batch 1/1\n",
      "Evaluating buffer zone 500m...\n"
     ]
    },
    {
     "ename": "NameError",
     "evalue": "name 'start' is not defined",
     "output_type": "error",
     "traceback": [
      "\u001b[1;31m---------------------------------------------------------------------------\u001b[0m",
      "\u001b[1;31mNameError\u001b[0m                                 Traceback (most recent call last)",
      "File \u001b[1;32m<timed exec>:23\u001b[0m\n",
      "\u001b[1;31mNameError\u001b[0m: name 'start' is not defined"
     ]
    }
   ],
   "source": [
    "%%time\n",
    "for num, z in enumerate(building_files[:1]):\n",
    "    print(f\"Started calculating distance impacts for building batch {num + 1}/{len(building_files[:1])}\")\n",
    "    osm_gdf = gpd.read_file(z)\n",
    "\n",
    "    inter_list = []\n",
    "    for buff in [500]:\n",
    "        print(f\"Evaluating buffer zone {buff}m...\")\n",
    "        pa_buff = buffer_geoms(pa_gdf, buff , param_dict[\"epsg_distance_calc\"])\n",
    "\n",
    "        dfs = np.array_split(pa_buff, 8)\n",
    "\n",
    "        count_list = []\n",
    "        for i in dfs:\n",
    "            dfsjoin = gpd.sjoin(i, osm_gdf, how=\"left\") #Spatial join Points to polygons\n",
    "            counts = dfsjoin.groupby(dfsjoin.index)[\"index_right\"].count().to_numpy()\n",
    "            count_list.append(counts)\n",
    "        count_list = list(itertools.chain(*count_list))\n",
    "        inter_list.append(count_list)\n",
    "\n",
    "\n",
    "    np.save(f'{paths_dict[\"osm_out_path\"]}/impacts_{num}', np.array(inter_list))\n",
    "    #impact_list.append(np.array(inter_list))\n",
    "    print(f\"Finished {num + 1}. batch. Time passed:\", time.process_time() - start)"
   ]
  },
  {
   "cell_type": "code",
   "execution_count": 17,
   "id": "7d0e3b46",
   "metadata": {},
   "outputs": [],
   "source": [
    "test = np.load(f'{paths_dict[\"osm_out_path\"]}/impacts_0.npy')"
   ]
  },
  {
   "cell_type": "code",
   "execution_count": 19,
   "id": "a514299e",
   "metadata": {},
   "outputs": [
    {
     "name": "stdout",
     "output_type": "stream",
     "text": [
      "Calculating 500m impacts...\n",
      "CPU times: total: 4min 28s\n",
      "Wall time: 4min 28s\n"
     ]
    }
   ],
   "source": [
    "%%time\n",
    "inter_list = [] #4min 25s\n",
    "for buff in [500]:\n",
    "    print(f'Calculating {buff}m impacts...')\n",
    "    pa_buff = buffer_geoms(pa_gdf, buff , param_dict[\"epsg_distance_calc\"])\n",
    "\n",
    "    dfs = np.array_split(pa_buff, 10)\n",
    "    \n",
    "    count_list = []\n",
    "    for i in dfs:\n",
    "        dfsjoin = gpd.sjoin(i, osm_gdf, how=\"left\", predicate=\"intersects\") #Spatial join Points to polygons\n",
    "        counts = dfsjoin.groupby(dfsjoin.index)[\"index_right\"].count().to_numpy()\n",
    "        count_list.append(counts)\n",
    "    count_list = list(itertools.chain(*count_list))\n",
    "    inter_list.append(count_list) # add np.array of intersection count for file z to a list"
   ]
  },
  {
   "cell_type": "code",
   "execution_count": null,
   "id": "2c91e29b",
   "metadata": {},
   "outputs": [],
   "source": [
    "def add_house_impact_allocation(param_dict, paths_dict):\n",
    "    '''\n",
    "    Function counts the number of affected buildings for a GeoDataFrame with wind turbine locations given a set of \n",
    "    impact zones in meter. File locations and the set of impact zones should be specified in the config.py file before\n",
    "    running this function.\n",
    "\n",
    "    Parameters\n",
    "    ----------\n",
    "        param_dict : dict\n",
    "            parameter dictionary specified in the config.py file\n",
    "        paths_dict : dict\n",
    "            paths dictionary specified in the config.py file\n",
    "\n",
    "    Returns\n",
    "    -------\n",
    "        None\n",
    "    '''\n",
    "    print('Started calculating impact allocation')\n",
    "    start = time.process_time() # start time check for calculations\n",
    "    \n",
    "    building_files = glob.glob(os.path.join(paths_dict[\"osm_out_path\"], '*.geojson'))\n",
    "    pa_gdf = gpd.read_file(f'{paths_dict[\"gwa_placement_area\"]}', crs=param_dict[\"epsg_general\"])\n",
    "    \n",
    "\n",
    "    impact_list = []\n",
    "    for num, z in enumerate(building_files):\n",
    "        print(f\"Started calculating distance impacts for building batch {num + 1}/{len(building_files)}\")\n",
    "        osm_gdf = gpd.read_file(z)\n",
    "\n",
    "        inter_list = []\n",
    "        for buff in param_dict[\"impact_buffers\"]:\n",
    "            print(f\"Evaluating buffer zone {buff}m...\")\n",
    "            pa_buff = buffer_geoms(pa_gdf, buff , param_dict[\"epsg_distance_calc\"])\n",
    "\n",
    "            dfs = np.array_split(pa_buff, 5)\n",
    "\n",
    "            count_list = []\n",
    "            for i in dfs:\n",
    "                dfsjoin = gpd.sjoin(i, osm_gdf, how=\"left\") #Spatial join Points to polygons\n",
    "                counts = dfsjoin.groupby(dfsjoin.index)[\"index_right\"].count().to_numpy()\n",
    "                count_list.append(counts)\n",
    "            count_list = list(itertools.chain(*count_list))\n",
    "            inter_list.append(count_list)\n",
    "\n",
    "        \n",
    "        impact_list.append(np.array(inter_list))\n",
    "        print(f\"Finished {num}. batch. Time passed:\", time.process_time() - start)\n",
    "    \n",
    "    # Correct impact double-counting:\n",
    "    # To avoid double counting of impacts subtract the larger buffer zone by the next smaller one\n",
    "    # The smallest buffer zone impact count will simply be subtracted by 0 \n",
    "    impacts_dc = np.sum(impact_list, axis=0).T\n",
    "    sub_array= np.hstack((np.zeros((impacts_dc.shape[0],1)), impacts_dc[:, :-1])) # adds zero column to numpy array in position 0\n",
    "    corrected_impacts = impacts_dc - sub_array\n",
    "    impact_names = [f\"imp_{buff}\" for buff in param_dict[\"impact_buffers\"]]\n",
    "    pa_gdf[impact_names] = corrected_impacts.astype(int)\n",
    "\n",
    "\n",
    "    # Save file:\n",
    "    pa_gdf.to_file(f'{paths_dict[\"optimization_file\"]}')\n",
    "    print('Finished generating impact allocation')\n",
    "\n",
    "    return None"
   ]
  },
  {
   "cell_type": "code",
   "execution_count": 10,
   "id": "fd583815",
   "metadata": {},
   "outputs": [],
   "source": [
    "filepath = \"E:/Master_Thesis/WIPLEX/Database/Input Files/osm/arnsberg-regbez-latest-free.shp\""
   ]
  },
  {
   "cell_type": "code",
   "execution_count": 11,
   "id": "cc93ed4e",
   "metadata": {},
   "outputs": [
    {
     "name": "stdout",
     "output_type": "stream",
     "text": [
      "Time 273.796875\n"
     ]
    }
   ],
   "source": [
    "\n",
    "\n",
    "osm_gdf = gpd.read_file(f\"{filepath}/{filename}\").loc[:,['geometry']].to_crs(param_dict[\"epsg_distance_calc\"])\n",
    "print(f\"Time\", time.process_time() - start)\n",
    "# 256.46875"
   ]
  },
  {
   "cell_type": "code",
   "execution_count": 5,
   "id": "e9dbf950",
   "metadata": {},
   "outputs": [
    {
     "name": "stdout",
     "output_type": "stream",
     "text": [
      "Finished Processing file: E:\\Master_Thesis\\WIPLEX\\Database\\Input Files\\osm\\arnsberg-regbez-latest-free.shp.zip\n",
      "Time 537.4375\n",
      "Finished Processing file: E:\\Master_Thesis\\WIPLEX\\Database\\Input Files\\osm\\berlin-latest-free.shp.zip\n",
      "Time 693.96875\n",
      "Finished Processing file: E:\\Master_Thesis\\WIPLEX\\Database\\Input Files\\osm\\brandenburg-latest-free.shp.zip\n",
      "Time 1359.703125\n",
      "Finished Processing file: E:\\Master_Thesis\\WIPLEX\\Database\\Input Files\\osm\\bremen-latest-free.shp.zip\n",
      "Time 1411.46875\n",
      "Finished Processing file: E:\\Master_Thesis\\WIPLEX\\Database\\Input Files\\osm\\detmold-regbez-latest-free.shp.zip\n",
      "Time 1734.890625\n",
      "Finished Processing file: E:\\Master_Thesis\\WIPLEX\\Database\\Input Files\\osm\\duesseldorf-regbez-latest-free.shp.zip\n",
      "Time 2356.765625\n",
      "Finished Processing file: E:\\Master_Thesis\\WIPLEX\\Database\\Input Files\\osm\\freiburg-regbez-latest-free.shp.zip\n",
      "Time 3228.140625\n",
      "Finished Processing file: E:\\Master_Thesis\\WIPLEX\\Database\\Input Files\\osm\\hamburg-latest-free.shp.zip\n",
      "Time 3327.75\n",
      "Finished Processing file: E:\\Master_Thesis\\WIPLEX\\Database\\Input Files\\osm\\hessen-latest-free.shp.zip\n",
      "Time 4100.6875\n",
      "Finished Processing file: E:\\Master_Thesis\\WIPLEX\\Database\\Input Files\\osm\\karlsruhe-regbez-latest-free.shp.zip\n",
      "Time 4424.90625\n",
      "Finished Processing file: E:\\Master_Thesis\\WIPLEX\\Database\\Input Files\\osm\\koeln-regbez-latest-free.shp.zip\n",
      "Time 5085.15625\n",
      "Finished Processing file: E:\\Master_Thesis\\WIPLEX\\Database\\Input Files\\osm\\mecklenburg-vorpommern-latest-free.shp.zip\n",
      "Time 5940.40625\n",
      "Finished Processing file: E:\\Master_Thesis\\WIPLEX\\Database\\Input Files\\osm\\mittelfranken-latest-free.shp.zip\n",
      "Time 6168.71875\n",
      "Finished Processing file: E:\\Master_Thesis\\WIPLEX\\Database\\Input Files\\osm\\muenster-regbez-latest-free.shp.zip\n",
      "Time 6593.125\n",
      "Finished Processing file: E:\\Master_Thesis\\WIPLEX\\Database\\Input Files\\osm\\niederbayern-latest-free.shp.zip\n",
      "Time 6814.78125\n",
      "Finished Processing file: E:\\Master_Thesis\\WIPLEX\\Database\\Input Files\\osm\\niedersachsen-latest-free.shp.zip\n",
      "Time 7962.8125\n",
      "Finished Processing file: E:\\Master_Thesis\\WIPLEX\\Database\\Input Files\\osm\\oberbayern-latest-free.shp.zip\n",
      "Time 8974.609375\n",
      "Finished Processing file: E:\\Master_Thesis\\WIPLEX\\Database\\Input Files\\osm\\oberfranken-latest-free.shp.zip\n",
      "Time 9150.75\n",
      "Finished Processing file: E:\\Master_Thesis\\WIPLEX\\Database\\Input Files\\osm\\oberpfalz-latest-free.shp.zip\n",
      "Time 9353.859375\n",
      "Finished Processing file: E:\\Master_Thesis\\WIPLEX\\Database\\Input Files\\osm\\rheinland-pfalz-latest-free.shp.zip\n",
      "Time 9956.34375\n",
      "Finished Processing file: E:\\Master_Thesis\\WIPLEX\\Database\\Input Files\\osm\\saarland-latest-free.shp.zip\n",
      "Time 10142.96875\n",
      "Finished Processing file: E:\\Master_Thesis\\WIPLEX\\Database\\Input Files\\osm\\sachsen-anhalt-latest-free.shp.zip\n",
      "Time 10964.40625\n",
      "Finished Processing file: E:\\Master_Thesis\\WIPLEX\\Database\\Input Files\\osm\\sachsen-latest-free.shp.zip\n",
      "Time 11603.65625\n",
      "Finished Processing file: E:\\Master_Thesis\\WIPLEX\\Database\\Input Files\\osm\\schleswig-holstein-latest-free.shp.zip\n",
      "Time 12051.375\n",
      "Finished Processing file: E:\\Master_Thesis\\WIPLEX\\Database\\Input Files\\osm\\schwaben-latest-free.shp.zip\n",
      "Time 12339.921875\n",
      "Finished Processing file: E:\\Master_Thesis\\WIPLEX\\Database\\Input Files\\osm\\stuttgart-regbez-latest-free.shp.zip\n",
      "Time 12840.109375\n",
      "Finished Processing file: E:\\Master_Thesis\\WIPLEX\\Database\\Input Files\\osm\\thueringen-latest-free.shp.zip\n",
      "Time 13774.796875\n",
      "Finished Processing file: E:\\Master_Thesis\\WIPLEX\\Database\\Input Files\\osm\\tuebingen-regbez-latest-free.shp.zip\n",
      "Time 14038.953125\n",
      "Finished Processing file: E:\\Master_Thesis\\WIPLEX\\Database\\Input Files\\osm\\unterfranken-latest-free.shp.zip\n",
      "Time 14242.796875\n"
     ]
    }
   ],
   "source": [
    "filename = paths_dict[\"osm_file_names\"][\"buildings\"]\n",
    "osmfiles = glob.glob(os.path.join(paths_dict[\"osm_path\"], '*.zip'))\n",
    "file_size = 0\n",
    "numbering = 1\n",
    "df_out = gpd.GeoDataFrame()\n",
    "start = time.process_time()\n",
    "for z in osmfiles:\n",
    "    file_size += os.path.getsize(z)/1000000\n",
    "    osm_gdf = gpd.read_file(f\"zip://{z}/{filename}\").loc[:,['geometry']].to_crs(param_dict[\"epsg_distance_calc\"])\n",
    "    osm_gdf = osm_gdf.set_geometry(osm_gdf.centroid).to_crs(param_dict[\"epsg_general\"])\n",
    "    \n",
    "    gdf_res = gpd.read_file(f\"zip://{z}/{paths_dict['osm_file_names']['landuse']}\").loc[:, ['fclass','geometry']]\n",
    "    gdf_res = gdf_res.loc[(gdf_res['fclass'] == 'residential')]\n",
    "    osm_gdf = gpd.clip(osm_gdf, gdf_res)\n",
    "    df_out = pd.concat([df_out, osm_gdf])\n",
    "    print(\"Finished Processing file:\", z)\n",
    "    print(f\"Time\", time.process_time() - start)\n",
    "    if file_size > 1000:\n",
    "        df_out.to_file(f'germany_{numbering}.geojson', driver='GeoJSON')\n",
    "        numbering += 1\n",
    "        file_size = 0\n",
    "        df_out = gpd.GeoDataFrame()"
   ]
  },
  {
   "cell_type": "code",
   "execution_count": 26,
   "id": "67ee8e2a",
   "metadata": {},
   "outputs": [],
   "source": [
    "df_out = gpd.GeoDataFrame()\n",
    "test = pd.concat([df_out, osm_gdf])"
   ]
  },
  {
   "cell_type": "code",
   "execution_count": 3,
   "id": "e57cfdb8",
   "metadata": {},
   "outputs": [],
   "source": [
    "pa_gdf = gpd.read_file(f'{paths_dict[\"gwa_placement_area\"]}', crs=param_dict[\"epsg_general\"])"
   ]
  },
  {
   "cell_type": "code",
   "execution_count": 5,
   "id": "c3917244",
   "metadata": {},
   "outputs": [],
   "source": [
    "building_files = glob.glob(os.path.join(paths_dict[\"osm_out_path\"], '*.geojson'))\n",
    "test_buildings = gpd.read_file(building_files[0])"
   ]
  },
  {
   "cell_type": "code",
   "execution_count": 10,
   "id": "d13b1285",
   "metadata": {},
   "outputs": [],
   "source": [
    "import haversine as hs"
   ]
  },
  {
   "cell_type": "code",
   "execution_count": 23,
   "id": "27fe83ad",
   "metadata": {},
   "outputs": [
    {
     "data": {
      "text/plain": [
       "3.3790047163470738"
      ]
     },
     "execution_count": 23,
     "metadata": {},
     "output_type": "execute_result"
    }
   ],
   "source": [
    "loc1 = test_buildings.iloc[0][\"geometry\"]\n",
    "loc2 = pa_gdf.iloc[0][\"geometry\"]\n",
    "#hs.haversine(loc1,loc2)\n",
    "loc1.distance(loc2)"
   ]
  },
  {
   "cell_type": "code",
   "execution_count": 56,
   "id": "d53fddfc",
   "metadata": {},
   "outputs": [],
   "source": [
    "test_gdf = pa_gdf.copy()"
   ]
  },
  {
   "cell_type": "code",
   "execution_count": 44,
   "id": "e1fcfe55",
   "metadata": {},
   "outputs": [],
   "source": [
    "from scipy.spatial.distance import cdist"
   ]
  },
  {
   "cell_type": "code",
   "execution_count": 8,
   "id": "5f2ad151",
   "metadata": {},
   "outputs": [],
   "source": [
    "def hs_distance(point1, point2):\n",
    "    dist = hs.haversine((point1.x, point1.y), (point2.x, point2.y), unit=hs.Unit.METERS)\n",
    "    return int(dist)\n",
    "\n",
    "def buffer_geoms(gdf_in, buffer, proj_epsg=25832):\n",
    "    '''\n",
    "    Function calculates a buffered GeoSeries from the geometry column of a geopandas DataFrame\n",
    "    in a given meter based coordinate reference system (crs) and converts it back to the orginial crs\n",
    "    '''\n",
    "    init_crs = gdf_in.crs\n",
    "    gdf_in = gdf_in.to_crs(proj_epsg)\n",
    "    buffered = gpd.GeoDataFrame(geometry = gdf_in.geometry.buffer(buffer)).to_crs(init_crs)\n",
    "\n",
    "    return buffered\n",
    "\n",
    "def intersection_counter(gdf_main, gdf_intersect):\n",
    "    '''\n",
    "    Function counting for every row in the gdf_main the number of intersections with the rows in gdf_intersect\n",
    "    Input: gdf_main := GeoDataFrame which is looped over counting the intersections for each row\n",
    "           gdf_intersect := GeoDataFrame with the intersecting geometries \n",
    "           \n",
    "    Output: intersect_count := List of tuples containing the row index number in the gdf_main as first element \n",
    "                               and the number of intersections for each row \n",
    "                               \n",
    "    Useful Explanation: https://geoffboeing.com/2016/10/r-tree-spatial-index-python/\n",
    "    '''\n",
    "    intersect_count = []\n",
    "    spatial_index = gdf_intersect.sindex\n",
    "    for index, row in gdf_main.iterrows():\n",
    "        possible_matches_index = list(spatial_index.intersection(row['geometry'].bounds))\n",
    "        possible_matches = gdf_intersect.iloc[possible_matches_index]\n",
    "        precise_matches = possible_matches[possible_matches.intersects(row['geometry'])]\n",
    "        intersect_count.append((index, len(precise_matches)))\n",
    "        \n",
    "    return intersect_count"
   ]
  },
  {
   "cell_type": "code",
   "execution_count": 134,
   "id": "df08e6c3",
   "metadata": {},
   "outputs": [],
   "source": [
    "pa_buff = buffer_geoms(pa_gdf, 3500, param_dict[\"epsg_distance_calc\"])"
   ]
  },
  {
   "cell_type": "code",
   "execution_count": 136,
   "id": "52a1574a",
   "metadata": {},
   "outputs": [
    {
     "ename": "KeyboardInterrupt",
     "evalue": "",
     "output_type": "error",
     "traceback": [
      "\u001b[1;31m---------------------------------------------------------------------------\u001b[0m",
      "\u001b[1;31mKeyboardInterrupt\u001b[0m                         Traceback (most recent call last)",
      "File \u001b[1;32m<timed exec>:1\u001b[0m\n",
      "File \u001b[1;32m~\\Anaconda3\\envs\\mt_env\\lib\\site-packages\\geopandas\\tools\\sjoin.py:124\u001b[0m, in \u001b[0;36msjoin\u001b[1;34m(left_df, right_df, how, predicate, lsuffix, rsuffix, **kwargs)\u001b[0m\n\u001b[0;32m    120\u001b[0m     \u001b[38;5;28;01mraise\u001b[39;00m \u001b[38;5;167;01mTypeError\u001b[39;00m(\u001b[38;5;124mf\u001b[39m\u001b[38;5;124m\"\u001b[39m\u001b[38;5;124msjoin() got an unexpected keyword argument \u001b[39m\u001b[38;5;124m'\u001b[39m\u001b[38;5;132;01m{\u001b[39;00mfirst\u001b[38;5;132;01m}\u001b[39;00m\u001b[38;5;124m'\u001b[39m\u001b[38;5;124m\"\u001b[39m)\n\u001b[0;32m    122\u001b[0m _basic_checks(left_df, right_df, how, lsuffix, rsuffix)\n\u001b[1;32m--> 124\u001b[0m indices \u001b[38;5;241m=\u001b[39m \u001b[43m_geom_predicate_query\u001b[49m\u001b[43m(\u001b[49m\u001b[43mleft_df\u001b[49m\u001b[43m,\u001b[49m\u001b[43m \u001b[49m\u001b[43mright_df\u001b[49m\u001b[43m,\u001b[49m\u001b[43m \u001b[49m\u001b[43mpredicate\u001b[49m\u001b[43m)\u001b[49m\n\u001b[0;32m    126\u001b[0m joined \u001b[38;5;241m=\u001b[39m _frame_join(indices, left_df, right_df, how, lsuffix, rsuffix)\n\u001b[0;32m    128\u001b[0m \u001b[38;5;28;01mreturn\u001b[39;00m joined\n",
      "File \u001b[1;32m~\\Anaconda3\\envs\\mt_env\\lib\\site-packages\\geopandas\\tools\\sjoin.py:220\u001b[0m, in \u001b[0;36m_geom_predicate_query\u001b[1;34m(left_df, right_df, predicate)\u001b[0m\n\u001b[0;32m    217\u001b[0m         input_geoms \u001b[38;5;241m=\u001b[39m left_df\u001b[38;5;241m.\u001b[39mgeometry\n\u001b[0;32m    219\u001b[0m \u001b[38;5;28;01mif\u001b[39;00m sindex:\n\u001b[1;32m--> 220\u001b[0m     l_idx, r_idx \u001b[38;5;241m=\u001b[39m \u001b[43msindex\u001b[49m\u001b[38;5;241;43m.\u001b[39;49m\u001b[43mquery_bulk\u001b[49m\u001b[43m(\u001b[49m\u001b[43minput_geoms\u001b[49m\u001b[43m,\u001b[49m\u001b[43m \u001b[49m\u001b[43mpredicate\u001b[49m\u001b[38;5;241;43m=\u001b[39;49m\u001b[43mpredicate\u001b[49m\u001b[43m,\u001b[49m\u001b[43m \u001b[49m\u001b[43msort\u001b[49m\u001b[38;5;241;43m=\u001b[39;49m\u001b[38;5;28;43;01mFalse\u001b[39;49;00m\u001b[43m)\u001b[49m\n\u001b[0;32m    221\u001b[0m     indices \u001b[38;5;241m=\u001b[39m pd\u001b[38;5;241m.\u001b[39mDataFrame({\u001b[38;5;124m\"\u001b[39m\u001b[38;5;124m_key_left\u001b[39m\u001b[38;5;124m\"\u001b[39m: l_idx, \u001b[38;5;124m\"\u001b[39m\u001b[38;5;124m_key_right\u001b[39m\u001b[38;5;124m\"\u001b[39m: r_idx})\n\u001b[0;32m    222\u001b[0m \u001b[38;5;28;01melse\u001b[39;00m:\n\u001b[0;32m    223\u001b[0m     \u001b[38;5;66;03m# when sindex is empty / has no valid geometries\u001b[39;00m\n",
      "File \u001b[1;32m~\\Anaconda3\\envs\\mt_env\\lib\\site-packages\\geopandas\\sindex.py:531\u001b[0m, in \u001b[0;36mRTreeIndex.query_bulk\u001b[1;34m(self, geometry, predicate, sort)\u001b[0m\n\u001b[0;32m    528\u001b[0m input_geometry_index \u001b[38;5;241m=\u001b[39m []\n\u001b[0;32m    530\u001b[0m \u001b[38;5;28;01mfor\u001b[39;00m i, geo \u001b[38;5;129;01min\u001b[39;00m \u001b[38;5;28menumerate\u001b[39m(geometry):\n\u001b[1;32m--> 531\u001b[0m     res \u001b[38;5;241m=\u001b[39m \u001b[38;5;28;43mself\u001b[39;49m\u001b[38;5;241;43m.\u001b[39;49m\u001b[43mquery\u001b[49m\u001b[43m(\u001b[49m\u001b[43mgeo\u001b[49m\u001b[43m,\u001b[49m\u001b[43m \u001b[49m\u001b[43mpredicate\u001b[49m\u001b[38;5;241;43m=\u001b[39;49m\u001b[43mpredicate\u001b[49m\u001b[43m,\u001b[49m\u001b[43m \u001b[49m\u001b[43msort\u001b[49m\u001b[38;5;241;43m=\u001b[39;49m\u001b[43msort\u001b[49m\u001b[43m)\u001b[49m\n\u001b[0;32m    532\u001b[0m     tree_index\u001b[38;5;241m.\u001b[39mextend(res)\n\u001b[0;32m    533\u001b[0m     input_geometry_index\u001b[38;5;241m.\u001b[39mextend([i] \u001b[38;5;241m*\u001b[39m \u001b[38;5;28mlen\u001b[39m(res))\n",
      "File \u001b[1;32m~\\Anaconda3\\envs\\mt_env\\lib\\site-packages\\geopandas\\sindex.py:471\u001b[0m, in \u001b[0;36mRTreeIndex.query\u001b[1;34m(self, geometry, predicate, sort)\u001b[0m\n\u001b[0;32m    468\u001b[0m     \u001b[38;5;28;01mreturn\u001b[39;00m np\u001b[38;5;241m.\u001b[39marray([], dtype\u001b[38;5;241m=\u001b[39mnp\u001b[38;5;241m.\u001b[39mintp)\n\u001b[0;32m    470\u001b[0m \u001b[38;5;66;03m# query tree\u001b[39;00m\n\u001b[1;32m--> 471\u001b[0m bounds \u001b[38;5;241m=\u001b[39m \u001b[43mgeometry\u001b[49m\u001b[38;5;241;43m.\u001b[39;49m\u001b[43mbounds\u001b[49m  \u001b[38;5;66;03m# rtree operates on bounds\u001b[39;00m\n\u001b[0;32m    472\u001b[0m tree_idx \u001b[38;5;241m=\u001b[39m \u001b[38;5;28mlist\u001b[39m(\u001b[38;5;28mself\u001b[39m\u001b[38;5;241m.\u001b[39mintersection(bounds))\n\u001b[0;32m    474\u001b[0m \u001b[38;5;28;01mif\u001b[39;00m \u001b[38;5;129;01mnot\u001b[39;00m tree_idx:\n",
      "File \u001b[1;32m~\\Anaconda3\\envs\\mt_env\\lib\\site-packages\\shapely\\geometry\\base.py:475\u001b[0m, in \u001b[0;36mBaseGeometry.bounds\u001b[1;34m(self)\u001b[0m\n\u001b[0;32m    473\u001b[0m     \u001b[38;5;28;01mreturn\u001b[39;00m ()\n\u001b[0;32m    474\u001b[0m \u001b[38;5;28;01melse\u001b[39;00m:\n\u001b[1;32m--> 475\u001b[0m     \u001b[38;5;28;01mreturn\u001b[39;00m \u001b[38;5;28;43mself\u001b[39;49m\u001b[38;5;241;43m.\u001b[39;49m\u001b[43mimpl\u001b[49m\u001b[43m[\u001b[49m\u001b[38;5;124;43m'\u001b[39;49m\u001b[38;5;124;43mbounds\u001b[39;49m\u001b[38;5;124;43m'\u001b[39;49m\u001b[43m]\u001b[49m\u001b[43m(\u001b[49m\u001b[38;5;28;43mself\u001b[39;49m\u001b[43m)\u001b[49m\n",
      "File \u001b[1;32m~\\Anaconda3\\envs\\mt_env\\lib\\site-packages\\shapely\\coords.py:187\u001b[0m, in \u001b[0;36mBoundsOp.__call__\u001b[1;34m(self, this)\u001b[0m\n\u001b[0;32m    185\u001b[0m \u001b[38;5;28;01mdef\u001b[39;00m \u001b[38;5;21m__call__\u001b[39m(\u001b[38;5;28mself\u001b[39m, this):\n\u001b[0;32m    186\u001b[0m     \u001b[38;5;28mself\u001b[39m\u001b[38;5;241m.\u001b[39m_validate(this)\n\u001b[1;32m--> 187\u001b[0m     env \u001b[38;5;241m=\u001b[39m \u001b[43mthis\u001b[49m\u001b[38;5;241;43m.\u001b[39;49m\u001b[43menvelope\u001b[49m\n\u001b[0;32m    188\u001b[0m     \u001b[38;5;28;01mif\u001b[39;00m env\u001b[38;5;241m.\u001b[39mgeom_type \u001b[38;5;241m==\u001b[39m \u001b[38;5;124m'\u001b[39m\u001b[38;5;124mPoint\u001b[39m\u001b[38;5;124m'\u001b[39m:\n\u001b[0;32m    189\u001b[0m         \u001b[38;5;28;01mreturn\u001b[39;00m env\u001b[38;5;241m.\u001b[39mbounds\n",
      "File \u001b[1;32m~\\Anaconda3\\envs\\mt_env\\lib\\site-packages\\shapely\\geometry\\base.py:500\u001b[0m, in \u001b[0;36mBaseGeometry.envelope\u001b[1;34m(self)\u001b[0m\n\u001b[0;32m    497\u001b[0m \u001b[38;5;129m@property\u001b[39m\n\u001b[0;32m    498\u001b[0m \u001b[38;5;28;01mdef\u001b[39;00m \u001b[38;5;21menvelope\u001b[39m(\u001b[38;5;28mself\u001b[39m):\n\u001b[0;32m    499\u001b[0m     \u001b[38;5;124;03m\"\"\"A figure that envelopes the geometry\"\"\"\u001b[39;00m\n\u001b[1;32m--> 500\u001b[0m     \u001b[38;5;28;01mreturn\u001b[39;00m \u001b[43mgeom_factory\u001b[49m\u001b[43m(\u001b[49m\u001b[38;5;28;43mself\u001b[39;49m\u001b[38;5;241;43m.\u001b[39;49m\u001b[43mimpl\u001b[49m\u001b[43m[\u001b[49m\u001b[38;5;124;43m'\u001b[39;49m\u001b[38;5;124;43menvelope\u001b[39;49m\u001b[38;5;124;43m'\u001b[39;49m\u001b[43m]\u001b[49m\u001b[43m(\u001b[49m\u001b[38;5;28;43mself\u001b[39;49m\u001b[43m)\u001b[49m\u001b[43m)\u001b[49m\n",
      "File \u001b[1;32m~\\Anaconda3\\envs\\mt_env\\lib\\site-packages\\shapely\\geometry\\base.py:75\u001b[0m, in \u001b[0;36mgeom_factory\u001b[1;34m(g, parent)\u001b[0m\n\u001b[0;32m     73\u001b[0m     \u001b[38;5;28;01mraise\u001b[39;00m \u001b[38;5;167;01mValueError\u001b[39;00m(\u001b[38;5;124m\"\u001b[39m\u001b[38;5;124mNo Shapely geometry can be created from null value\u001b[39m\u001b[38;5;124m\"\u001b[39m)\n\u001b[0;32m     74\u001b[0m ob \u001b[38;5;241m=\u001b[39m BaseGeometry()\n\u001b[1;32m---> 75\u001b[0m geom_type \u001b[38;5;241m=\u001b[39m \u001b[43mgeometry_type_name\u001b[49m\u001b[43m(\u001b[49m\u001b[43mg\u001b[49m\u001b[43m)\u001b[49m\n\u001b[0;32m     76\u001b[0m \u001b[38;5;66;03m# TODO: check cost of dynamic import by profiling\u001b[39;00m\n\u001b[0;32m     77\u001b[0m mod \u001b[38;5;241m=\u001b[39m \u001b[38;5;28m__import__\u001b[39m(\n\u001b[0;32m     78\u001b[0m     \u001b[38;5;124m'\u001b[39m\u001b[38;5;124mshapely.geometry\u001b[39m\u001b[38;5;124m'\u001b[39m,\n\u001b[0;32m     79\u001b[0m     \u001b[38;5;28mglobals\u001b[39m(),\n\u001b[0;32m     80\u001b[0m     \u001b[38;5;28mlocals\u001b[39m(),\n\u001b[0;32m     81\u001b[0m     [geom_type],\n\u001b[0;32m     82\u001b[0m     )\n",
      "File \u001b[1;32m~\\Anaconda3\\envs\\mt_env\\lib\\site-packages\\shapely\\geometry\\base.py:67\u001b[0m, in \u001b[0;36mgeometry_type_name\u001b[1;34m(g)\u001b[0m\n\u001b[0;32m     65\u001b[0m \u001b[38;5;28;01mif\u001b[39;00m g \u001b[38;5;129;01mis\u001b[39;00m \u001b[38;5;28;01mNone\u001b[39;00m:\n\u001b[0;32m     66\u001b[0m     \u001b[38;5;28;01mraise\u001b[39;00m \u001b[38;5;167;01mValueError\u001b[39;00m(\u001b[38;5;124m\"\u001b[39m\u001b[38;5;124mNull geometry has no type\u001b[39m\u001b[38;5;124m\"\u001b[39m)\n\u001b[1;32m---> 67\u001b[0m \u001b[38;5;28;01mreturn\u001b[39;00m GEOMETRY_TYPES[\u001b[43mlgeos\u001b[49m\u001b[38;5;241;43m.\u001b[39;49m\u001b[43mGEOSGeomTypeId\u001b[49m\u001b[43m(\u001b[49m\u001b[43mg\u001b[49m\u001b[43m)\u001b[49m]\n",
      "\u001b[1;31mKeyboardInterrupt\u001b[0m: "
     ]
    }
   ],
   "source": [
    "%%time\n",
    "dfsjoin = gpd.sjoin(pa_buff, test_buildings, how=\"left\") #Spatial join Points to polygons"
   ]
  },
  {
   "cell_type": "code",
   "execution_count": 112,
   "id": "38fe533a",
   "metadata": {},
   "outputs": [],
   "source": [
    "counts2 = dfsjoin2.groupby(dfsjoin2.index)[\"index_right\"].count().to_numpy()"
   ]
  },
  {
   "cell_type": "code",
   "execution_count": 130,
   "id": "924c151e",
   "metadata": {},
   "outputs": [],
   "source": [
    "counts = dfsjoin.groupby(dfsjoin.index)[\"index_right\"].count()#.to_numpy()"
   ]
  },
  {
   "cell_type": "code",
   "execution_count": 108,
   "id": "d4ca1995",
   "metadata": {
    "scrolled": false
   },
   "outputs": [],
   "source": [
    "# test = counts[counts != counts2]\n",
    "# test2 = counts2[counts != counts2]\n",
    "# for i, j in enumerate(test2):\n",
    "#     print(j, test[i])\n"
   ]
  },
  {
   "cell_type": "code",
   "execution_count": 120,
   "id": "8a17da5e",
   "metadata": {},
   "outputs": [],
   "source": [
    "counts3 = dfsjoin2.groupby(dfsjoin2[\"index_right\"]).count().to_numpy()"
   ]
  },
  {
   "cell_type": "code",
   "execution_count": 126,
   "id": "1fb41193",
   "metadata": {},
   "outputs": [],
   "source": [
    "test = dfsjoin2.groupby(dfsjoin2[\"index_right\"]).count()"
   ]
  },
  {
   "cell_type": "code",
   "execution_count": 132,
   "id": "f402a920",
   "metadata": {},
   "outputs": [
    {
     "data": {
      "text/plain": [
       "2"
      ]
     },
     "execution_count": 132,
     "metadata": {},
     "output_type": "execute_result"
    }
   ],
   "source": [
    "counts.iloc[45832]"
   ]
  },
  {
   "cell_type": "code",
   "execution_count": 127,
   "id": "8f9fba52",
   "metadata": {},
   "outputs": [
    {
     "data": {
      "text/html": [
       "<div>\n",
       "<style scoped>\n",
       "    .dataframe tbody tr th:only-of-type {\n",
       "        vertical-align: middle;\n",
       "    }\n",
       "\n",
       "    .dataframe tbody tr th {\n",
       "        vertical-align: top;\n",
       "    }\n",
       "\n",
       "    .dataframe thead th {\n",
       "        text-align: right;\n",
       "    }\n",
       "</style>\n",
       "<table border=\"1\" class=\"dataframe\">\n",
       "  <thead>\n",
       "    <tr style=\"text-align: right;\">\n",
       "      <th></th>\n",
       "      <th>geometry</th>\n",
       "    </tr>\n",
       "    <tr>\n",
       "      <th>index_right</th>\n",
       "      <th></th>\n",
       "    </tr>\n",
       "  </thead>\n",
       "  <tbody>\n",
       "    <tr>\n",
       "      <th>45832.0</th>\n",
       "      <td>2</td>\n",
       "    </tr>\n",
       "    <tr>\n",
       "      <th>46295.0</th>\n",
       "      <td>27</td>\n",
       "    </tr>\n",
       "    <tr>\n",
       "      <th>46296.0</th>\n",
       "      <td>101</td>\n",
       "    </tr>\n",
       "    <tr>\n",
       "      <th>46297.0</th>\n",
       "      <td>61</td>\n",
       "    </tr>\n",
       "    <tr>\n",
       "      <th>46298.0</th>\n",
       "      <td>1</td>\n",
       "    </tr>\n",
       "    <tr>\n",
       "      <th>...</th>\n",
       "      <td>...</td>\n",
       "    </tr>\n",
       "    <tr>\n",
       "      <th>311542.0</th>\n",
       "      <td>18</td>\n",
       "    </tr>\n",
       "    <tr>\n",
       "      <th>311543.0</th>\n",
       "      <td>9</td>\n",
       "    </tr>\n",
       "    <tr>\n",
       "      <th>312078.0</th>\n",
       "      <td>1</td>\n",
       "    </tr>\n",
       "    <tr>\n",
       "      <th>312079.0</th>\n",
       "      <td>2</td>\n",
       "    </tr>\n",
       "    <tr>\n",
       "      <th>312080.0</th>\n",
       "      <td>1</td>\n",
       "    </tr>\n",
       "  </tbody>\n",
       "</table>\n",
       "<p>73753 rows × 1 columns</p>\n",
       "</div>"
      ],
      "text/plain": [
       "             geometry\n",
       "index_right          \n",
       "45832.0             2\n",
       "46295.0            27\n",
       "46296.0           101\n",
       "46297.0            61\n",
       "46298.0             1\n",
       "...               ...\n",
       "311542.0           18\n",
       "311543.0            9\n",
       "312078.0            1\n",
       "312079.0            2\n",
       "312080.0            1\n",
       "\n",
       "[73753 rows x 1 columns]"
      ]
     },
     "execution_count": 127,
     "metadata": {},
     "output_type": "execute_result"
    }
   ],
   "source": [
    "test"
   ]
  },
  {
   "cell_type": "code",
   "execution_count": 135,
   "id": "865d4490",
   "metadata": {},
   "outputs": [
    {
     "ename": "KeyboardInterrupt",
     "evalue": "",
     "output_type": "error",
     "traceback": [
      "\u001b[1;31m---------------------------------------------------------------------------\u001b[0m",
      "\u001b[1;31mKeyboardInterrupt\u001b[0m                         Traceback (most recent call last)",
      "File \u001b[1;32m<timed exec>:1\u001b[0m\n",
      "\u001b[1;31mKeyboardInterrupt\u001b[0m: "
     ]
    }
   ],
   "source": [
    "%%time\n",
    "dfsjoin2 = gpd.sjoin(test_buildings, pa_buff, predicate=\"within\", how=\"left\") #Spatial join Points to polygons"
   ]
  },
  {
   "cell_type": "code",
   "execution_count": null,
   "id": "f3d9d93a",
   "metadata": {},
   "outputs": [],
   "source": [
    "%%time\n",
    "counted2 = np.array(intersection_counter(pa_gdf, test_buildings))"
   ]
  },
  {
   "cell_type": "code",
   "execution_count": 24,
   "id": "7124b0c1",
   "metadata": {},
   "outputs": [
    {
     "data": {
      "text/plain": [
       "7.873770818612805"
      ]
     },
     "execution_count": 24,
     "metadata": {},
     "output_type": "execute_result"
    }
   ],
   "source": [
    "dm = cdist()"
   ]
  },
  {
   "cell_type": "code",
   "execution_count": 78,
   "id": "d5b19038",
   "metadata": {},
   "outputs": [],
   "source": [
    "pa_test = pa_gdf.copy()\n",
    "pa_test = pa_test.to_crs(param_dict[\"epsg_distance_calc\"])"
   ]
  },
  {
   "cell_type": "code",
   "execution_count": 80,
   "id": "40c4e5b5",
   "metadata": {},
   "outputs": [],
   "source": [
    "test_buildings2 = test_buildings.copy()\n",
    "test_buildings2 = test_buildings2.to_crs(param_dict[\"epsg_distance_calc\"])"
   ]
  },
  {
   "cell_type": "code",
   "execution_count": 81,
   "id": "bb6100d6",
   "metadata": {},
   "outputs": [
    {
     "name": "stderr",
     "output_type": "stream",
     "text": [
      "<timed exec>:1: UserWarning: Geometry is in a geographic CRS. Results from 'distance' are likely incorrect. Use 'GeoSeries.to_crs()' to re-project geometries to a projected CRS before this operation.\n",
      "\n"
     ]
    },
    {
     "ename": "KeyboardInterrupt",
     "evalue": "",
     "output_type": "error",
     "traceback": [
      "\u001b[1;31m---------------------------------------------------------------------------\u001b[0m",
      "\u001b[1;31mKeyboardInterrupt\u001b[0m                         Traceback (most recent call last)",
      "File \u001b[1;32m<timed exec>:1\u001b[0m\n",
      "File \u001b[1;32m~\\Anaconda3\\envs\\mt_env\\lib\\site-packages\\geopandas\\geoseries.py:624\u001b[0m, in \u001b[0;36mGeoSeries.apply\u001b[1;34m(self, func, convert_dtype, args, **kwargs)\u001b[0m\n\u001b[0;32m    622\u001b[0m \u001b[38;5;129m@doc\u001b[39m(pd\u001b[38;5;241m.\u001b[39mSeries)\n\u001b[0;32m    623\u001b[0m \u001b[38;5;28;01mdef\u001b[39;00m \u001b[38;5;21mapply\u001b[39m(\u001b[38;5;28mself\u001b[39m, func, convert_dtype\u001b[38;5;241m=\u001b[39m\u001b[38;5;28;01mTrue\u001b[39;00m, args\u001b[38;5;241m=\u001b[39m(), \u001b[38;5;241m*\u001b[39m\u001b[38;5;241m*\u001b[39mkwargs):\n\u001b[1;32m--> 624\u001b[0m     result \u001b[38;5;241m=\u001b[39m \u001b[38;5;28msuper\u001b[39m()\u001b[38;5;241m.\u001b[39mapply(func, convert_dtype\u001b[38;5;241m=\u001b[39mconvert_dtype, args\u001b[38;5;241m=\u001b[39margs, \u001b[38;5;241m*\u001b[39m\u001b[38;5;241m*\u001b[39mkwargs)\n\u001b[0;32m    625\u001b[0m     \u001b[38;5;28;01mif\u001b[39;00m \u001b[38;5;28misinstance\u001b[39m(result, GeoSeries):\n\u001b[0;32m    626\u001b[0m         \u001b[38;5;28;01mif\u001b[39;00m \u001b[38;5;28mself\u001b[39m\u001b[38;5;241m.\u001b[39mcrs \u001b[38;5;129;01mis\u001b[39;00m \u001b[38;5;129;01mnot\u001b[39;00m \u001b[38;5;28;01mNone\u001b[39;00m:\n",
      "File \u001b[1;32m~\\Anaconda3\\envs\\mt_env\\lib\\site-packages\\pandas\\core\\series.py:4357\u001b[0m, in \u001b[0;36mSeries.apply\u001b[1;34m(self, func, convert_dtype, args, **kwargs)\u001b[0m\n\u001b[0;32m   4247\u001b[0m \u001b[38;5;28;01mdef\u001b[39;00m \u001b[38;5;21mapply\u001b[39m(\n\u001b[0;32m   4248\u001b[0m     \u001b[38;5;28mself\u001b[39m,\n\u001b[0;32m   4249\u001b[0m     func: AggFuncType,\n\u001b[1;32m   (...)\u001b[0m\n\u001b[0;32m   4252\u001b[0m     \u001b[38;5;241m*\u001b[39m\u001b[38;5;241m*\u001b[39mkwargs,\n\u001b[0;32m   4253\u001b[0m ) \u001b[38;5;241m-\u001b[39m\u001b[38;5;241m>\u001b[39m FrameOrSeriesUnion:\n\u001b[0;32m   4254\u001b[0m     \u001b[38;5;124;03m\"\"\"\u001b[39;00m\n\u001b[0;32m   4255\u001b[0m \u001b[38;5;124;03m    Invoke function on values of Series.\u001b[39;00m\n\u001b[0;32m   4256\u001b[0m \n\u001b[1;32m   (...)\u001b[0m\n\u001b[0;32m   4355\u001b[0m \u001b[38;5;124;03m    dtype: float64\u001b[39;00m\n\u001b[0;32m   4356\u001b[0m \u001b[38;5;124;03m    \"\"\"\u001b[39;00m\n\u001b[1;32m-> 4357\u001b[0m     \u001b[38;5;28;01mreturn\u001b[39;00m \u001b[43mSeriesApply\u001b[49m\u001b[43m(\u001b[49m\u001b[38;5;28;43mself\u001b[39;49m\u001b[43m,\u001b[49m\u001b[43m \u001b[49m\u001b[43mfunc\u001b[49m\u001b[43m,\u001b[49m\u001b[43m \u001b[49m\u001b[43mconvert_dtype\u001b[49m\u001b[43m,\u001b[49m\u001b[43m \u001b[49m\u001b[43margs\u001b[49m\u001b[43m,\u001b[49m\u001b[43m \u001b[49m\u001b[43mkwargs\u001b[49m\u001b[43m)\u001b[49m\u001b[38;5;241;43m.\u001b[39;49m\u001b[43mapply\u001b[49m\u001b[43m(\u001b[49m\u001b[43m)\u001b[49m\n",
      "File \u001b[1;32m~\\Anaconda3\\envs\\mt_env\\lib\\site-packages\\pandas\\core\\apply.py:1043\u001b[0m, in \u001b[0;36mSeriesApply.apply\u001b[1;34m(self)\u001b[0m\n\u001b[0;32m   1039\u001b[0m \u001b[38;5;28;01mif\u001b[39;00m \u001b[38;5;28misinstance\u001b[39m(\u001b[38;5;28mself\u001b[39m\u001b[38;5;241m.\u001b[39mf, \u001b[38;5;28mstr\u001b[39m):\n\u001b[0;32m   1040\u001b[0m     \u001b[38;5;66;03m# if we are a string, try to dispatch\u001b[39;00m\n\u001b[0;32m   1041\u001b[0m     \u001b[38;5;28;01mreturn\u001b[39;00m \u001b[38;5;28mself\u001b[39m\u001b[38;5;241m.\u001b[39mapply_str()\n\u001b[1;32m-> 1043\u001b[0m \u001b[38;5;28;01mreturn\u001b[39;00m \u001b[38;5;28;43mself\u001b[39;49m\u001b[38;5;241;43m.\u001b[39;49m\u001b[43mapply_standard\u001b[49m\u001b[43m(\u001b[49m\u001b[43m)\u001b[49m\n",
      "File \u001b[1;32m~\\Anaconda3\\envs\\mt_env\\lib\\site-packages\\pandas\\core\\apply.py:1098\u001b[0m, in \u001b[0;36mSeriesApply.apply_standard\u001b[1;34m(self)\u001b[0m\n\u001b[0;32m   1092\u001b[0m         values \u001b[38;5;241m=\u001b[39m obj\u001b[38;5;241m.\u001b[39mastype(\u001b[38;5;28mobject\u001b[39m)\u001b[38;5;241m.\u001b[39m_values\n\u001b[0;32m   1093\u001b[0m         \u001b[38;5;66;03m# error: Argument 2 to \"map_infer\" has incompatible type\u001b[39;00m\n\u001b[0;32m   1094\u001b[0m         \u001b[38;5;66;03m# \"Union[Callable[..., Any], str, List[Union[Callable[..., Any], str]],\u001b[39;00m\n\u001b[0;32m   1095\u001b[0m         \u001b[38;5;66;03m# Dict[Hashable, Union[Union[Callable[..., Any], str],\u001b[39;00m\n\u001b[0;32m   1096\u001b[0m         \u001b[38;5;66;03m# List[Union[Callable[..., Any], str]]]]]\"; expected\u001b[39;00m\n\u001b[0;32m   1097\u001b[0m         \u001b[38;5;66;03m# \"Callable[[Any], Any]\"\u001b[39;00m\n\u001b[1;32m-> 1098\u001b[0m         mapped \u001b[38;5;241m=\u001b[39m \u001b[43mlib\u001b[49m\u001b[38;5;241;43m.\u001b[39;49m\u001b[43mmap_infer\u001b[49m\u001b[43m(\u001b[49m\n\u001b[0;32m   1099\u001b[0m \u001b[43m            \u001b[49m\u001b[43mvalues\u001b[49m\u001b[43m,\u001b[49m\n\u001b[0;32m   1100\u001b[0m \u001b[43m            \u001b[49m\u001b[43mf\u001b[49m\u001b[43m,\u001b[49m\u001b[43m  \u001b[49m\u001b[38;5;66;43;03m# type: ignore[arg-type]\u001b[39;49;00m\n\u001b[0;32m   1101\u001b[0m \u001b[43m            \u001b[49m\u001b[43mconvert\u001b[49m\u001b[38;5;241;43m=\u001b[39;49m\u001b[38;5;28;43mself\u001b[39;49m\u001b[38;5;241;43m.\u001b[39;49m\u001b[43mconvert_dtype\u001b[49m\u001b[43m,\u001b[49m\n\u001b[0;32m   1102\u001b[0m \u001b[43m        \u001b[49m\u001b[43m)\u001b[49m\n\u001b[0;32m   1104\u001b[0m \u001b[38;5;28;01mif\u001b[39;00m \u001b[38;5;28mlen\u001b[39m(mapped) \u001b[38;5;129;01mand\u001b[39;00m \u001b[38;5;28misinstance\u001b[39m(mapped[\u001b[38;5;241m0\u001b[39m], ABCSeries):\n\u001b[0;32m   1105\u001b[0m     \u001b[38;5;66;03m# GH 25959 use pd.array instead of tolist\u001b[39;00m\n\u001b[0;32m   1106\u001b[0m     \u001b[38;5;66;03m# so extension arrays can be used\u001b[39;00m\n\u001b[0;32m   1107\u001b[0m     \u001b[38;5;28;01mreturn\u001b[39;00m obj\u001b[38;5;241m.\u001b[39m_constructor_expanddim(pd_array(mapped), index\u001b[38;5;241m=\u001b[39mobj\u001b[38;5;241m.\u001b[39mindex)\n",
      "File \u001b[1;32m~\\Anaconda3\\envs\\mt_env\\lib\\site-packages\\pandas\\_libs\\lib.pyx:2859\u001b[0m, in \u001b[0;36mpandas._libs.lib.map_infer\u001b[1;34m()\u001b[0m\n",
      "File \u001b[1;32m<timed exec>:1\u001b[0m, in \u001b[0;36m<lambda>\u001b[1;34m(g)\u001b[0m\n",
      "File \u001b[1;32m~\\Anaconda3\\envs\\mt_env\\lib\\site-packages\\geopandas\\base.py:2081\u001b[0m, in \u001b[0;36mGeoPandasBase.distance\u001b[1;34m(self, other, align)\u001b[0m\n\u001b[0;32m   1987\u001b[0m \u001b[38;5;28;01mdef\u001b[39;00m \u001b[38;5;21mdistance\u001b[39m(\u001b[38;5;28mself\u001b[39m, other, align\u001b[38;5;241m=\u001b[39m\u001b[38;5;28;01mTrue\u001b[39;00m):\n\u001b[0;32m   1988\u001b[0m     \u001b[38;5;124;03m\"\"\"Returns a ``Series`` containing the distance to aligned `other`.\u001b[39;00m\n\u001b[0;32m   1989\u001b[0m \n\u001b[0;32m   1990\u001b[0m \u001b[38;5;124;03m    The operation works on a 1-to-1 row-wise manner:\u001b[39;00m\n\u001b[1;32m   (...)\u001b[0m\n\u001b[0;32m   2079\u001b[0m \u001b[38;5;124;03m    dtype: float64\u001b[39;00m\n\u001b[0;32m   2080\u001b[0m \u001b[38;5;124;03m    \"\"\"\u001b[39;00m\n\u001b[1;32m-> 2081\u001b[0m     \u001b[38;5;28;01mreturn\u001b[39;00m \u001b[43m_binary_op\u001b[49m\u001b[43m(\u001b[49m\u001b[38;5;124;43m\"\u001b[39;49m\u001b[38;5;124;43mdistance\u001b[39;49m\u001b[38;5;124;43m\"\u001b[39;49m\u001b[43m,\u001b[49m\u001b[43m \u001b[49m\u001b[38;5;28;43mself\u001b[39;49m\u001b[43m,\u001b[49m\u001b[43m \u001b[49m\u001b[43mother\u001b[49m\u001b[43m,\u001b[49m\u001b[43m \u001b[49m\u001b[43malign\u001b[49m\u001b[43m)\u001b[49m\n",
      "File \u001b[1;32m~\\Anaconda3\\envs\\mt_env\\lib\\site-packages\\geopandas\\base.py:59\u001b[0m, in \u001b[0;36m_binary_op\u001b[1;34m(op, this, other, align, *args, **kwargs)\u001b[0m\n\u001b[0;32m     56\u001b[0m \u001b[38;5;28;01mdef\u001b[39;00m \u001b[38;5;21m_binary_op\u001b[39m(op, this, other, align, \u001b[38;5;241m*\u001b[39margs, \u001b[38;5;241m*\u001b[39m\u001b[38;5;241m*\u001b[39mkwargs):\n\u001b[0;32m     57\u001b[0m     \u001b[38;5;66;03m# type: (str, GeoSeries, GeoSeries, args/kwargs) -> Series[bool/float]\u001b[39;00m\n\u001b[0;32m     58\u001b[0m     \u001b[38;5;124;03m\"\"\"Binary operation on GeoSeries objects that returns a Series\"\"\"\u001b[39;00m\n\u001b[1;32m---> 59\u001b[0m     data, index \u001b[38;5;241m=\u001b[39m _delegate_binary_method(op, this, other, align, \u001b[38;5;241m*\u001b[39margs, \u001b[38;5;241m*\u001b[39m\u001b[38;5;241m*\u001b[39mkwargs)\n\u001b[0;32m     60\u001b[0m     \u001b[38;5;28;01mreturn\u001b[39;00m Series(data, index\u001b[38;5;241m=\u001b[39mindex)\n",
      "File \u001b[1;32m~\\Anaconda3\\envs\\mt_env\\lib\\site-packages\\geopandas\\base.py:43\u001b[0m, in \u001b[0;36m_delegate_binary_method\u001b[1;34m(op, this, other, align, *args, **kwargs)\u001b[0m\n\u001b[0;32m     40\u001b[0m \u001b[38;5;28;01melse\u001b[39;00m:\n\u001b[0;32m     41\u001b[0m     \u001b[38;5;28;01mraise\u001b[39;00m \u001b[38;5;167;01mTypeError\u001b[39;00m(\u001b[38;5;28mtype\u001b[39m(this), \u001b[38;5;28mtype\u001b[39m(other))\n\u001b[1;32m---> 43\u001b[0m data \u001b[38;5;241m=\u001b[39m \u001b[38;5;28mgetattr\u001b[39m(a_this, op)(other, \u001b[38;5;241m*\u001b[39margs, \u001b[38;5;241m*\u001b[39m\u001b[38;5;241m*\u001b[39mkwargs)\n\u001b[0;32m     44\u001b[0m \u001b[38;5;28;01mreturn\u001b[39;00m data, this\u001b[38;5;241m.\u001b[39mindex\n",
      "File \u001b[1;32m~\\Anaconda3\\envs\\mt_env\\lib\\site-packages\\geopandas\\array.py:610\u001b[0m, in \u001b[0;36mGeometryArray.distance\u001b[1;34m(self, other)\u001b[0m\n\u001b[0;32m    608\u001b[0m \u001b[38;5;28;01mdef\u001b[39;00m \u001b[38;5;21mdistance\u001b[39m(\u001b[38;5;28mself\u001b[39m, other):\n\u001b[0;32m    609\u001b[0m     \u001b[38;5;28mself\u001b[39m\u001b[38;5;241m.\u001b[39mcheck_geographic_crs(stacklevel\u001b[38;5;241m=\u001b[39m\u001b[38;5;241m6\u001b[39m)\n\u001b[1;32m--> 610\u001b[0m     \u001b[38;5;28;01mreturn\u001b[39;00m \u001b[38;5;28;43mself\u001b[39;49m\u001b[38;5;241;43m.\u001b[39;49m\u001b[43m_binary_method\u001b[49m\u001b[43m(\u001b[49m\u001b[38;5;124;43m\"\u001b[39;49m\u001b[38;5;124;43mdistance\u001b[39;49m\u001b[38;5;124;43m\"\u001b[39;49m\u001b[43m,\u001b[49m\u001b[43m \u001b[49m\u001b[38;5;28;43mself\u001b[39;49m\u001b[43m,\u001b[49m\u001b[43m \u001b[49m\u001b[43mother\u001b[49m\u001b[43m)\u001b[49m\n",
      "File \u001b[1;32m~\\Anaconda3\\envs\\mt_env\\lib\\site-packages\\geopandas\\array.py:525\u001b[0m, in \u001b[0;36mGeometryArray._binary_method\u001b[1;34m(op, left, right, **kwargs)\u001b[0m\n\u001b[0;32m    522\u001b[0m         _crs_mismatch_warn(left, right, stacklevel\u001b[38;5;241m=\u001b[39m\u001b[38;5;241m7\u001b[39m)\n\u001b[0;32m    523\u001b[0m     right \u001b[38;5;241m=\u001b[39m right\u001b[38;5;241m.\u001b[39mdata\n\u001b[1;32m--> 525\u001b[0m \u001b[38;5;28;01mreturn\u001b[39;00m \u001b[38;5;28mgetattr\u001b[39m(vectorized, op)(left\u001b[38;5;241m.\u001b[39mdata, right, \u001b[38;5;241m*\u001b[39m\u001b[38;5;241m*\u001b[39mkwargs)\n",
      "File \u001b[1;32m~\\Anaconda3\\envs\\mt_env\\lib\\site-packages\\geopandas\\_vectorized.py:768\u001b[0m, in \u001b[0;36mdistance\u001b[1;34m(data, other)\u001b[0m\n\u001b[0;32m    766\u001b[0m     \u001b[38;5;28;01mreturn\u001b[39;00m _binary_method(\u001b[38;5;124m\"\u001b[39m\u001b[38;5;124mdistance\u001b[39m\u001b[38;5;124m\"\u001b[39m, data, other)\n\u001b[0;32m    767\u001b[0m \u001b[38;5;28;01melse\u001b[39;00m:\n\u001b[1;32m--> 768\u001b[0m     \u001b[38;5;28;01mreturn\u001b[39;00m \u001b[43m_binary_op_float\u001b[49m\u001b[43m(\u001b[49m\u001b[38;5;124;43m\"\u001b[39;49m\u001b[38;5;124;43mdistance\u001b[39;49m\u001b[38;5;124;43m\"\u001b[39;49m\u001b[43m,\u001b[49m\u001b[43m \u001b[49m\u001b[43mdata\u001b[49m\u001b[43m,\u001b[49m\u001b[43m \u001b[49m\u001b[43mother\u001b[49m\u001b[43m)\u001b[49m\n",
      "File \u001b[1;32m~\\Anaconda3\\envs\\mt_env\\lib\\site-packages\\geopandas\\_vectorized.py:364\u001b[0m, in \u001b[0;36m_binary_op_float\u001b[1;34m(op, left, right, *args, **kwargs)\u001b[0m\n\u001b[0;32m    361\u001b[0m \u001b[38;5;66;03m# used for distance -> check for empty as we want to return np.nan instead 0.0\u001b[39;00m\n\u001b[0;32m    362\u001b[0m \u001b[38;5;66;03m# as shapely does currently (https://github.com/Toblerity/Shapely/issues/498)\u001b[39;00m\n\u001b[0;32m    363\u001b[0m \u001b[38;5;28;01mif\u001b[39;00m \u001b[38;5;28misinstance\u001b[39m(right, BaseGeometry):\n\u001b[1;32m--> 364\u001b[0m     data \u001b[38;5;241m=\u001b[39m [\n\u001b[0;32m    365\u001b[0m         \u001b[38;5;28mgetattr\u001b[39m(s, op)(right, \u001b[38;5;241m*\u001b[39margs, \u001b[38;5;241m*\u001b[39m\u001b[38;5;241m*\u001b[39mkwargs)\n\u001b[0;32m    366\u001b[0m         \u001b[38;5;28;01mif\u001b[39;00m \u001b[38;5;129;01mnot\u001b[39;00m (s \u001b[38;5;129;01mis\u001b[39;00m \u001b[38;5;28;01mNone\u001b[39;00m \u001b[38;5;129;01mor\u001b[39;00m s\u001b[38;5;241m.\u001b[39mis_empty \u001b[38;5;129;01mor\u001b[39;00m right\u001b[38;5;241m.\u001b[39mis_empty)\n\u001b[0;32m    367\u001b[0m         \u001b[38;5;28;01melse\u001b[39;00m np\u001b[38;5;241m.\u001b[39mnan\n\u001b[0;32m    368\u001b[0m         \u001b[38;5;28;01mfor\u001b[39;00m s \u001b[38;5;129;01min\u001b[39;00m left\n\u001b[0;32m    369\u001b[0m     ]\n\u001b[0;32m    370\u001b[0m     \u001b[38;5;28;01mreturn\u001b[39;00m np\u001b[38;5;241m.\u001b[39marray(data, dtype\u001b[38;5;241m=\u001b[39m\u001b[38;5;28mfloat\u001b[39m)\n\u001b[0;32m    371\u001b[0m \u001b[38;5;28;01melif\u001b[39;00m \u001b[38;5;28misinstance\u001b[39m(right, np\u001b[38;5;241m.\u001b[39mndarray):\n",
      "File \u001b[1;32m~\\Anaconda3\\envs\\mt_env\\lib\\site-packages\\geopandas\\_vectorized.py:365\u001b[0m, in \u001b[0;36m<listcomp>\u001b[1;34m(.0)\u001b[0m\n\u001b[0;32m    361\u001b[0m \u001b[38;5;66;03m# used for distance -> check for empty as we want to return np.nan instead 0.0\u001b[39;00m\n\u001b[0;32m    362\u001b[0m \u001b[38;5;66;03m# as shapely does currently (https://github.com/Toblerity/Shapely/issues/498)\u001b[39;00m\n\u001b[0;32m    363\u001b[0m \u001b[38;5;28;01mif\u001b[39;00m \u001b[38;5;28misinstance\u001b[39m(right, BaseGeometry):\n\u001b[0;32m    364\u001b[0m     data \u001b[38;5;241m=\u001b[39m [\n\u001b[1;32m--> 365\u001b[0m         \u001b[38;5;28mgetattr\u001b[39m(s, op)(right, \u001b[38;5;241m*\u001b[39margs, \u001b[38;5;241m*\u001b[39m\u001b[38;5;241m*\u001b[39mkwargs)\n\u001b[0;32m    366\u001b[0m         \u001b[38;5;28;01mif\u001b[39;00m \u001b[38;5;129;01mnot\u001b[39;00m (s \u001b[38;5;129;01mis\u001b[39;00m \u001b[38;5;28;01mNone\u001b[39;00m \u001b[38;5;129;01mor\u001b[39;00m s\u001b[38;5;241m.\u001b[39mis_empty \u001b[38;5;129;01mor\u001b[39;00m right\u001b[38;5;241m.\u001b[39mis_empty)\n\u001b[0;32m    367\u001b[0m         \u001b[38;5;28;01melse\u001b[39;00m np\u001b[38;5;241m.\u001b[39mnan\n\u001b[0;32m    368\u001b[0m         \u001b[38;5;28;01mfor\u001b[39;00m s \u001b[38;5;129;01min\u001b[39;00m left\n\u001b[0;32m    369\u001b[0m     ]\n\u001b[0;32m    370\u001b[0m     \u001b[38;5;28;01mreturn\u001b[39;00m np\u001b[38;5;241m.\u001b[39marray(data, dtype\u001b[38;5;241m=\u001b[39m\u001b[38;5;28mfloat\u001b[39m)\n\u001b[0;32m    371\u001b[0m \u001b[38;5;28;01melif\u001b[39;00m \u001b[38;5;28misinstance\u001b[39m(right, np\u001b[38;5;241m.\u001b[39mndarray):\n",
      "File \u001b[1;32m~\\Anaconda3\\envs\\mt_env\\lib\\site-packages\\shapely\\geometry\\base.py:440\u001b[0m, in \u001b[0;36mBaseGeometry.distance\u001b[1;34m(self, other)\u001b[0m\n\u001b[0;32m    438\u001b[0m \u001b[38;5;28;01mdef\u001b[39;00m \u001b[38;5;21mdistance\u001b[39m(\u001b[38;5;28mself\u001b[39m, other):\n\u001b[0;32m    439\u001b[0m     \u001b[38;5;124;03m\"\"\"Unitless distance to other geometry (float)\"\"\"\u001b[39;00m\n\u001b[1;32m--> 440\u001b[0m     \u001b[38;5;28;01mreturn\u001b[39;00m \u001b[38;5;28;43mself\u001b[39;49m\u001b[38;5;241;43m.\u001b[39;49m\u001b[43mimpl\u001b[49m\u001b[43m[\u001b[49m\u001b[38;5;124;43m'\u001b[39;49m\u001b[38;5;124;43mdistance\u001b[39;49m\u001b[38;5;124;43m'\u001b[39;49m\u001b[43m]\u001b[49m\u001b[43m(\u001b[49m\u001b[38;5;28;43mself\u001b[39;49m\u001b[43m,\u001b[49m\u001b[43m \u001b[49m\u001b[43mother\u001b[49m\u001b[43m)\u001b[49m\n",
      "File \u001b[1;32m~\\Anaconda3\\envs\\mt_env\\lib\\site-packages\\shapely\\topology.py:50\u001b[0m, in \u001b[0;36mBinaryRealProperty.__call__\u001b[1;34m(self, this, other)\u001b[0m\n\u001b[0;32m     48\u001b[0m \u001b[38;5;28mself\u001b[39m\u001b[38;5;241m.\u001b[39m_validate(other, stop_prepared\u001b[38;5;241m=\u001b[39m\u001b[38;5;28;01mTrue\u001b[39;00m)\n\u001b[0;32m     49\u001b[0m d \u001b[38;5;241m=\u001b[39m c_double()\n\u001b[1;32m---> 50\u001b[0m retval \u001b[38;5;241m=\u001b[39m \u001b[38;5;28;43mself\u001b[39;49m\u001b[38;5;241;43m.\u001b[39;49m\u001b[43mfn\u001b[49m\u001b[43m(\u001b[49m\u001b[43mthis\u001b[49m\u001b[38;5;241;43m.\u001b[39;49m\u001b[43m_geom\u001b[49m\u001b[43m,\u001b[49m\u001b[43m \u001b[49m\u001b[43mother\u001b[49m\u001b[38;5;241;43m.\u001b[39;49m\u001b[43m_geom\u001b[49m\u001b[43m,\u001b[49m\u001b[43m \u001b[49m\u001b[43mbyref\u001b[49m\u001b[43m(\u001b[49m\u001b[43md\u001b[49m\u001b[43m)\u001b[49m\u001b[43m)\u001b[49m\n\u001b[0;32m     51\u001b[0m \u001b[38;5;28;01mreturn\u001b[39;00m d\u001b[38;5;241m.\u001b[39mvalue\n",
      "\u001b[1;31mKeyboardInterrupt\u001b[0m: "
     ]
    }
   ],
   "source": [
    "%%time\n",
    "test = pa_test.geometry.apply(lambda g: test_buildings2.distance(g))"
   ]
  },
  {
   "cell_type": "code",
   "execution_count": 13,
   "id": "3027daf3",
   "metadata": {},
   "outputs": [],
   "source": [
    "osm_gdf = osm_gdf.set_geometry(osm_gdf.centroid).to_crs(param_dict[\"epsg_general\"])"
   ]
  },
  {
   "cell_type": "code",
   "execution_count": 6,
   "id": "baa43768",
   "metadata": {},
   "outputs": [
    {
     "name": "stdout",
     "output_type": "stream",
     "text": [
      "Time 448.9375\n"
     ]
    }
   ],
   "source": [
    "start = time.process_time()\n",
    "gpd.read_file(\"germany_1.geojson\")\n",
    "print(f\"Time\", time.process_time() - start)"
   ]
  },
  {
   "cell_type": "code",
   "execution_count": 16,
   "id": "c1c8aad1",
   "metadata": {},
   "outputs": [],
   "source": [
    "osm_gdf.to_file('myJson.geojson', driver='GeoJSON')"
   ]
  },
  {
   "cell_type": "code",
   "execution_count": 31,
   "id": "11350885",
   "metadata": {},
   "outputs": [
    {
     "data": {
      "text/plain": [
       "Index(['ad_100', 'ad_150', 'ad_200', 'ad_50', 'iec1', 'iec2', 'iec3', 'ws_100',\n",
       "       'ws_150', 'ws_200', 'ws_50', 'geometry', 'imp_500m', 'imp_750m',\n",
       "       'imp_1000m', 'imp_1250m', 'imp_1500m', 'imp_1750m', 'imp_2000m',\n",
       "       'imp_2250m', 'imp_2500m', 'imp_2750m', 'imp_3000m', 'imp_3250m',\n",
       "       'imp_3500m', 'imp_3750m', 'imp_4000m', 'imp_4250m', 'imp_4500m',\n",
       "       'imp_4750m', 'imp_5000m', 'imp_5250m', 'imp_5500m'],\n",
       "      dtype='object')"
      ]
     },
     "execution_count": 31,
     "metadata": {},
     "output_type": "execute_result"
    }
   ],
   "source": [
    "# test = list(pa_gdf.columns)\n",
    "# test.remove(\"index\")\n",
    "# test2 = list(pa_gdf_start.columns)\n",
    "order = list(pa_gdf_start.columns) + [item for item in list(pa_gdf.columns) if not item in list(pa_gdf_start.columns)]\n",
    "pa_gdf = pa_gdf[order]\n",
    "pa_gdf.drop(columns=[\"index\"], inplace=True)\n",
    "pa_gdf.columns"
   ]
  },
  {
   "cell_type": "code",
   "execution_count": 29,
   "id": "a77b79d6",
   "metadata": {},
   "outputs": [],
   "source": [
    "impacts_dc = pa_gdf.iloc[:, col_len:].copy().to_numpy()\n",
    "sub_array= np.hstack((np.zeros((impacts_dc.shape[0],1)), impacts_dc[:, :-1])) # adds zero column to numpy array in position 0\n",
    "corrected_impacts = impacts_dc - sub_array\n",
    "pa_gdf.iloc[:, col_len:] = corrected_impacts.astype(int)"
   ]
  },
  {
   "cell_type": "code",
   "execution_count": null,
   "id": "0fe324d6",
   "metadata": {},
   "outputs": [],
   "source": []
  }
 ],
 "metadata": {
  "kernelspec": {
   "display_name": "Python 3 (ipykernel)",
   "language": "python",
   "name": "python3"
  },
  "language_info": {
   "codemirror_mode": {
    "name": "ipython",
    "version": 3
   },
   "file_extension": ".py",
   "mimetype": "text/x-python",
   "name": "python",
   "nbconvert_exporter": "python",
   "pygments_lexer": "ipython3",
   "version": "3.10.1"
  }
 },
 "nbformat": 4,
 "nbformat_minor": 5
}
