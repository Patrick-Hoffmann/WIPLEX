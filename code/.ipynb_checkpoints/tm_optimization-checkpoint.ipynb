{
 "cells": [
  {
   "cell_type": "code",
   "execution_count": 1,
   "id": "006a8733",
   "metadata": {},
   "outputs": [],
   "source": [
    "# Package Imports:\n",
    "\n",
    "import config # Load WIPLEX configuration\n",
    "import geopandas as gpd\n",
    "import numpy as np\n",
    "from scipy.stats import weibull_min\n",
    "import pandas as pd\n",
    "import ast\n",
    "import glob\n",
    "import os\n",
    "from pathlib import Path\n",
    "import pulp as plp #package used to solve Mixed Integer Programming Problem # https://pyomo-simplemodel.readthedoc\n",
    "import time # time function execution\n",
    "import pickle # Export optimization results"
   ]
  },
  {
   "cell_type": "markdown",
   "id": "233b3131",
   "metadata": {},
   "source": [
    "## Function Hub"
   ]
  },
  {
   "cell_type": "markdown",
   "id": "c77b04eb",
   "metadata": {},
   "source": [
    "### Wind Power Functions"
   ]
  },
  {
   "cell_type": "code",
   "execution_count": 2,
   "id": "d802d5c7",
   "metadata": {},
   "outputs": [],
   "source": [
    "def weibull_wind_pdf(x, k, A):\n",
    "    return k/A * (x/A)**(k-1) * np.exp(-(x/A)**k)\n",
    "\n",
    "\n",
    "def wind_power_function(ws, radius, ad, cp):\n",
    "    # Calculating costs using wind power function\n",
    "    return (np.pi/2) * ws**3 * radius**2 * ad * cp * 1e-6\n",
    "\n",
    "\n",
    "def weibull_power_output(gdf, gwa_heights, cp_df, types_df):\n",
    "    x = np.arange(3, 26, 1)\n",
    "    wb_A = gdf[[f\"wb_A_{x}\" for x in gwa_heights]].to_numpy()\n",
    "    wb_k = gdf[[f\"wb_k_{x}\" for x in gwa_heights]].to_numpy()\n",
    "    ad_array = gdf[[f\"ad_{x}\" for x in gwa_heights]].to_numpy()\n",
    "    blade_radius = types_df[\"Rotor diameter (m)\"].to_numpy()/2\n",
    "    \n",
    "    array_list = []\n",
    "    for ws in x:\n",
    "        probs = weibull_wind_pdf(ws, wb_k, wb_A)\n",
    "        cp_array = cp_df[cp_df[\"Wind Speed\"] == ws].loc[:,cp_df.columns != 'Wind Speed'].to_numpy()\n",
    "        res = wind_power_function(ws, blade_radius, ad_array, cp_array) * probs\n",
    "        array_list.append(res)\n",
    "    return np.array(array_list)"
   ]
  },
  {
   "cell_type": "markdown",
   "id": "ff62cd31",
   "metadata": {},
   "source": [
    "### Location Cost Functions"
   ]
  },
  {
   "cell_type": "code",
   "execution_count": 3,
   "id": "347c51a7",
   "metadata": {},
   "outputs": [],
   "source": [
    "def get_avg_property_value(gdf, impact_range):\n",
    "    '''\n",
    "    Function calulates the aggregate property value of buildings in each impact zone for all cells in the gdf.\n",
    "    Parameters\n",
    "    ----------\n",
    "        gdf :  geopandas.GeoDataFrame\n",
    "            GeoDataFrame containing house price and property impact information (columns: eg: imp_500m,..., hp )\n",
    "        impact_range : list\n",
    "            list of integers specifying which impact ranges to use for the analysis\n",
    "    Returns:\n",
    "    --------\n",
    "        impacts_hp : numpy.array\n",
    "            Array containing aggregate property values for each cell and impact zone (cell x zone)\n",
    "    '''\n",
    "    # Define impact matrix\n",
    "    imp_list = [f\"imp_{i}\" for i in impact_range]\n",
    "    impacts = gdf.loc[:, imp_list].to_numpy()\n",
    "    \n",
    "    # Calculate aggregate  property values per impact zone:\n",
    "    impacts_hp = impacts * gdf[\"hp\"].to_numpy().reshape(-1, 1)\n",
    "    \n",
    "    return impacts_hp\n",
    "\n",
    "def calculate_location_costs(gdf, damage_df, t_types_df, impact_range, externality=True):\n",
    "    '''\n",
    "    Function for calculating location specific costs for each of the turbines in the dataset\n",
    "    \n",
    "    Parameters\n",
    "    ----------\n",
    "    gdf : geopandas.GeoDataFrame\n",
    "        GeoDataFrame containing the all location information (placement locations, impacts, house prices...)\n",
    "    damage_df: pandas.DataFrame\n",
    "        DataFrame with the damage assumptions for each turbine (turbines as collumns and impact zones as rows)\n",
    "    t_type_df: pandas.DataFrame\n",
    "        DataFrame with information on each turbine used (name, height, rated power, ...)\n",
    "    impact_range: list\n",
    "        List containing all impact zones that should be used (maximum is the max number of impacts calculated)\n",
    "    externality: Bolean\n",
    "        Parameter indicating if wind power externalities should be considered (Default=True)\n",
    "\n",
    "    Returns\n",
    "    -------\n",
    "        total_cost, ext_cost, const_cost: np.arrays\n",
    "            Arrays containing information on total, externality and construction costs for each location and turbine\n",
    "    '''\n",
    "    # Definition of property damage matrix:\n",
    "    damage_selection = damage_df.loc[damage_df[\"Upper\"].isin(impact_range)]\n",
    "    prop_damages = damage_selection[list(t_types_df[\"Name\"])].to_numpy()\n",
    "\n",
    "    # Obtain house price values for each location\n",
    "    prop_values = get_avg_property_value(gdf, impact_range)/1000000\n",
    "    \n",
    "    # Caclulation of externalities:\n",
    "    if not externality:\n",
    "        ext_cost = np.zeros((len(gdf), len(t_types)))\n",
    "    else:\n",
    "        ext_cost = np.round(prop_values @ prop_damages, 2)\n",
    "\n",
    "    # Calculation of construction costs:\n",
    "    const_cost = t_types[\"Total construction cost (million €)\"].to_numpy().reshape(1,-1)\n",
    "\n",
    "    # Calc total costs:\n",
    "    total_cost = ext_cost + const_cost\n",
    "    \n",
    "    return total_cost, ext_cost, const_cost"
   ]
  },
  {
   "cell_type": "markdown",
   "id": "437b3f42",
   "metadata": {},
   "source": [
    "### Optimization Functions"
   ]
  },
  {
   "cell_type": "code",
   "execution_count": 4,
   "id": "765e040c",
   "metadata": {},
   "outputs": [],
   "source": [
    "def minimization_problem(total_cost, wpc, expansion_goal):\n",
    "    '''\n",
    "    Main optimization function of the Wind turbine placement algorithm\n",
    "\n",
    "    Parameters\n",
    "    ----------\n",
    "    total_cost : np.array\n",
    "        Array containing the total cost (project + externality cost) for each wind turbine\n",
    "        and placement location.\n",
    "    wpc : np.array\n",
    "        Array containing the wind power capacity values for each turbine and location.\n",
    "    expansion_goal : int\n",
    "        Value representing the expansion goal (in MW).\n",
    "\n",
    "    Returns\n",
    "    -------\n",
    "    turbines_opt : np.arrays\n",
    "        Array containing Bolean values (0,1) for each turbine and location. It indicates\n",
    "        which turbine is built in which location (array element=1)\n",
    "\n",
    "    '''\n",
    "    # Create model\n",
    "    m = plp.LpProblem(\"TC_Germany\", plp.LpMinimize)\n",
    "\n",
    "\n",
    "    # Choice Variables:\n",
    "    t_list = []\n",
    "    for i in range(total_cost.shape[1]):\n",
    "        turbine = plp.LpVariable.dicts(f't{i}', range(len(total_cost)) , lowBound=0, upBound=1, cat=plp.LpBinary)\n",
    "        t_list.append(list(turbine.values()))\n",
    "    \n",
    "    #turbines = np.array([list(turbines_100.values()), list(turbines_150.values())]).T\n",
    "    turbines = np.array(t_list).T\n",
    "\n",
    "    # # Objective\n",
    "    #print('Setting up Objective Function...')\n",
    "    m += plp.lpSum(total_cost * turbines)\n",
    "\n",
    "    # Constraint\n",
    "    #print('Adding constraints...')\n",
    "    m += plp.lpSum(wpc * turbines) >= expansion_goal, \"Expansion Constraint\"\n",
    "\n",
    "    for i in range(len(turbines)):\n",
    "        m += plp.lpSum(turbines[i,:]) <= 1, f\"Site constraint {i}\"\n",
    "\n",
    "\n",
    "    # Define the solver:\n",
    "    if \"GUROBI_CMD\" in plp.listSolvers(onlyAvailable=True):  \n",
    "        solver = plp.GUROBI_CMD(msg=0, options=[(\"MIPGap\", 1e-3)])\n",
    "    else:\n",
    "        #solver = plp.PULP_CBC_CMD(msg=0)\n",
    "        solver = plp.GLPK_CMD(path='C:\\\\Program Files\\\\glpk-4.65\\\\w64\\\\glpsol.exe', msg=0, options = [\"--mipgap\", \"0.01\"])  #,\"--tmlim\", \"2000\"\n",
    "    # use other solver: plp.PULP_CBC_CMD(msg=0) ; plp.GLPK_CMD(path='C:\\\\Program Files\\\\glpk-4.65\\\\w64\\\\glpsol.exe', msg=0, options = [\"--mipgap\", \"0.001\",\"--tmlim\", \"1000\"])\n",
    "\n",
    "\n",
    "    # Optimize\n",
    "    #print('Started optimization')\n",
    "    m.solve(solver)\n",
    "\n",
    "\n",
    "    # Print the status of the solved LP\n",
    "    print(f\"Status = {plp.LpStatus[m.status]}\")\n",
    "\n",
    "    # Print the value of the objective\n",
    "    print(f\"Objective value = {plp.value(m.objective)}\")\n",
    "\n",
    "    # Print the value of the constraint:\n",
    "    sel = []\n",
    "    for constraint in m.constraints:\n",
    "        if constraint == \"Expansion_Constraint\":\n",
    "            constraint_sum = 0\n",
    "            for var, coefficient in m.constraints[constraint].items():\n",
    "                constraint_sum += var.varValue * coefficient\n",
    "                sel.append(var.varValue)\n",
    "            print(m.constraints[constraint].name, constraint_sum)\n",
    "        else:\n",
    "            pass\n",
    "    \n",
    "    turbine_opt_list = []\n",
    "    for turbine_type in t_list:\n",
    "        turbine_results = [t.varValue for t in turbine_type]\n",
    "        turbine_opt_list.append(turbine_results)\n",
    "            \n",
    "    turbines_opt = np.array(turbine_opt_list).T\n",
    "    \n",
    "    return turbines_opt"
   ]
  },
  {
   "cell_type": "code",
   "execution_count": 5,
   "id": "d3f3e217",
   "metadata": {},
   "outputs": [],
   "source": [
    "def run_optimization(expansion_goal, tot_cost_array, wpc_array, storage_dict):\n",
    "    print(f'Started optimization for expansion goal {expansion_goal}')\n",
    "    if expansion_goal in storage_dict.keys():\n",
    "        print(f\"Expansion goal {expansion_goal}MW already calculated! Proceeding... \")\n",
    "    else:\n",
    "        start = time.time()\n",
    "        storage_dict[expansion_goal] = minimization_problem(tot_cost_array, wpc_array, expansion_goal)\n",
    "        print(f'Finished optimization for expansion goal {expansion_goal}m!...solving time:', time.time() - start)\n",
    "\n",
    "\n",
    "def optimization_loop(gdf, damage_df, t_type_df, cp_df, impact_range, scenario, gwa_heights, \n",
    "                      overwrite, expansion_goals, out_dir, multiprocessing=False):\n",
    "    '''\n",
    "    Main optimization loop to evaluate different expansion scenarios.\n",
    "\n",
    "    Parameters\n",
    "    ----------\n",
    "    gdf : geopandas.GeoDataFrame\n",
    "        GeoDataFrame containing the all information (placement locations, impacts, house prices...)\n",
    "    damage_df: pandas.DataFrame\n",
    "        DataFrame with the damage assumptions for each turbine (turbines as collumns and impact zones as rows)\n",
    "    t_type_df: pandas.DataFrame\n",
    "        DataFrame with information on each turbine used (name, height, rated power, ...)\n",
    "    impact_range: list\n",
    "        List containing all impact zones that should be used (maximum is the max number of impacts calculated)\n",
    "    scenario: string\n",
    "        Name of the Scenario that should be used. This should be identical to the sheet name of the damage scenario in the assumptions file\n",
    "    gwa_heights: list\n",
    "        list of integers specifying which wind layers (height) of the Global wind Atlas should be used\n",
    "    overwrite : Bolean\n",
    "        Bolean value that defines whether new expansion scenarios should just be added to an existing file or if old \n",
    "        scenarios should be overwritten.\n",
    "    expansion_goals : list\n",
    "        List of of integer values defining the expansion scenarios for which to run the optimization.\n",
    "    out_dir : string\n",
    "        Directory where the output files should be saved to.\n",
    "\n",
    "    Returns\n",
    "    -------\n",
    "    None.\n",
    "\n",
    "    '''\n",
    "    print(\"Started optimization process...\")\n",
    "  \n",
    "    # Calculate Wind Power Capacity\n",
    "    wpc = weibull_power_output(gdf, gwa_heights, cp_df, t_type_df).sum(axis=0)\n",
    "\n",
    "    # Calculate Location Specific Costs:\n",
    "    total_lsc, ext_lsc, const_lsc = calculate_location_costs(gdf, damage_df, t_type_df, impact_range, \n",
    "                                                             externality=True)\n",
    "\n",
    "    \n",
    "    if os.path.isfile(f'{out_dir}_{scenario}.pickle') and not overwrite:\n",
    "        with open(f'{out_dir}_{scenario}.pickle', \"rb\") as input_file:\n",
    "            supply_fct = pickle.load(input_file)\n",
    "    else:\n",
    "        supply_fct = {}\n",
    "    \n",
    "\n",
    "    if multiprocessing:\n",
    "        manager = Manager()\n",
    "        supply_fct = manager.dict(supply_fct)\n",
    "\n",
    "        p = Pool()                                   # Create a multiprocessing Pool\n",
    "        p.starmap(run_optimization, zip(expansion_goals, repeat(total_lsc), repeat(wpc), repeat(supply_fct)))\n",
    "        p.close()\n",
    "        p.join()\n",
    "\n",
    "    else:\n",
    "        for i in expansion_goals:\n",
    "            run_optimization(i, total_lsc, wpc, supply_fct)\n",
    "\n",
    "    # Pickle results:\n",
    "    supply_fct = dict(sorted(supply_fct.items(), key=lambda item: item[0])) # sort keys\n",
    "    print(f'Saving to file: {out_dir}_{scenario}.pickle')\n",
    "    with open(f'{out_dir}_{scenario}.pickle', 'wb') as handle:\n",
    "        pickle.dump(supply_fct, handle, protocol=pickle.HIGHEST_PROTOCOL)"
   ]
  },
  {
   "cell_type": "markdown",
   "id": "6c66370d",
   "metadata": {},
   "source": [
    "### Output Functions"
   ]
  },
  {
   "cell_type": "code",
   "execution_count": 6,
   "id": "dadc27d2",
   "metadata": {},
   "outputs": [],
   "source": [
    "def calc_cost(turbines, total_cost, external_cost, const_cost):\n",
    "    '''\n",
    "    Function calculating total, external project and marginal cost \n",
    "    as well as the externality cost share for an array of selected turbines.\n",
    "    '''\n",
    "    marginal_cost = np.max(np.sum(total_cost * turbines, axis=1))\n",
    "    p_cost = np.sum(const_cost * turbines) \n",
    "    ex_cost = np.sum(external_cost * turbines) \n",
    "    cost_total = p_cost + ex_cost\n",
    "    ext_share = ex_cost/cost_total\n",
    "\n",
    "    \n",
    "    return [cost_total, ex_cost, p_cost, marginal_cost, ext_share]\n",
    "\n",
    "def calc_other(turbines, expansion_goal, rated_power_array):\n",
    "    '''\n",
    "    Function calculates the aggregate rated power, average FLH and the  number of turbines\n",
    "    build for each type for a given array of selected trubines\n",
    "    '''\n",
    "    turbine_count = np.sum(turbines, axis=0)\n",
    "    rated_power_agg = np.sum(turbine_count *rated_power_array)\n",
    "    flh = expansion_goal/rated_power_agg *8760\n",
    "\n",
    "    return [rated_power_agg, flh] + list(turbine_count)\n",
    "\n",
    "def generate_results_df(geo_df, model, damage_df, t_type_df, impact_range, ext=True):\n",
    "    '''\n",
    "    Function calculates the cost predictions for each expansion scenario of a given model using the optimization results.\n",
    "\n",
    "    Parameters\n",
    "    ----------\n",
    "        geo_df : geopandas.GeoDataFrame\n",
    "            Input DataFrame containing the cell data from the Global Wind Atlas for all valid placement cells\n",
    "        model : dict\n",
    "            Dictionary containing arrays with the optimization results (which cells are chosen and which turbine is built in a chosen cell)\n",
    "        damage_df: pandas.DataFrame\n",
    "            DataFrame with the damage assumptions for each turbine (turbines as collumns and impact zones as rows)\n",
    "        t_type_df: pandas.DataFrame\n",
    "            DataFrame with information on each turbine used (name, height, rated power, ...)\n",
    "        impact_range: list\n",
    "            List containing all impact zones that should be used (maximum is the max number of impacts calculated)\n",
    "        ext: Bolean (default: True)\n",
    "            Bolean indicating if externality cost should be considered or not. \n",
    "\n",
    "    Returns\n",
    "    -------\n",
    "        results_df : pandas.DataFrame\n",
    "            Pandas DataFrame containing the cost predictions (total cost, externality cost, project cost and marginal cost)\n",
    "            for each expansion scenario of the selected model\n",
    "\n",
    "    '''\n",
    "    # Calculate Location Specific Costs:\n",
    "    total_lsc, ext_lsc, const_lsc = calculate_location_costs(geo_df, damage_df, t_type_df, impact_range, externality=True)\n",
    "    \n",
    "    results = []\n",
    "    for i in list(model.keys()):\n",
    "        results.append([i] + calc_other(model[i], i, np.array([t_type_df[\"Rated power (MW)\"]])) + calc_cost(model[i], \n",
    "                                                                                                    total_lsc, ext_lsc, const_lsc))\n",
    "    results_df = pd.DataFrame(results, columns=['Expansion Goal', 'Expansion Goal (rated)', \n",
    "                                                'FLH'] +  list(t_types.index) + ['Total Cost', 'Externality Cost', \n",
    "                                                'Project Cost', 'Marginal Cost', 'Ext. Share'])\n",
    "\n",
    "    return results_df\n",
    "\n",
    "def generate_optimization_output(gdf_in, opt_file_dir, damage_df,t_type_df, impact_range, out_file):\n",
    "    '''\n",
    "    Function calculates cost predictions for each file in a given opt_file_dir and generates a .xlsx table containing all cost predictions\n",
    "    in this directory.\n",
    "\n",
    "    Parameters\n",
    "    ----------\n",
    "        gdf_in: geopandas.GeoDataFrame\n",
    "            DataFrame used for the optimization process\n",
    "        damage_df: pandas.DataFrame\n",
    "            DataFrame with the damage assumptions for each turbine (turbines as collumns and impact zones as rows)\n",
    "        t_type_df: pandas.DataFrame\n",
    "            DataFrame with information on each turbine used (name, height, rated power, ...)\n",
    "        impact_range: list\n",
    "            List containing all impact zones that should be used (maximum is the max number of impacts calculated)\n",
    "        opt_file_dir: str\n",
    "            String containing a path to the direcotory with the optimization results\n",
    "        out_file: str\n",
    "            Name of the output .xlsx file\n",
    "    '''\n",
    "    opt_files = glob.glob(f'{opt_file_dir}/*.pickle')\n",
    "\n",
    "    df_list = []\n",
    "    for file in opt_files:\n",
    "        # Infer optimization settings from filename:\n",
    "        filename_split = Path(file).stem.split('_')\n",
    "        scenario = filename_split[-1]\n",
    "        \n",
    "        \n",
    "        if scenario == \"noext\":\n",
    "            externality = False\n",
    "        else:\n",
    "            externality = True\n",
    "            \n",
    "        # Load in optimized turbine location files:\n",
    "        opt_result = pickle.load(open(file, \"rb\"))\n",
    "        opt_result= dict(sorted(opt_result.items(), key=lambda item: item[0]))\n",
    "\n",
    "\n",
    "        opt_df = generate_results_df(gdf_in, opt_result, damage_df, t_type_df, impact_range, ext=externality)\n",
    "        opt_df['Scenario'] = scenario\n",
    "        opt_df['Externality Cost (€/kW rated)'] = opt_df['Externality Cost'] / opt_df['Expansion Goal (rated)'] *1e-3\n",
    "        opt_df['Project Cost (€/kW rated)'] = opt_df['Project Cost'] / opt_df['Expansion Goal (rated)'] *1e-3\n",
    "        df_list.append(opt_df)\n",
    "\n",
    "    df_out = pd.concat(df_list)\n",
    "    df_out.to_excel(f'{out_file}.xlsx', index=False)"
   ]
  },
  {
   "cell_type": "markdown",
   "id": "7e82229e",
   "metadata": {},
   "source": [
    "## Initialize Config"
   ]
  },
  {
   "cell_type": "code",
   "execution_count": 7,
   "id": "be7dc35a",
   "metadata": {},
   "outputs": [],
   "source": [
    "WIPLEX_config = config.WIPLEX_settings()\n",
    "WIPLEX_config.initialize_config()\n",
    "param = WIPLEX_config.param\n",
    "paths = WIPLEX_config.paths"
   ]
  },
  {
   "cell_type": "markdown",
   "id": "a32c5869",
   "metadata": {},
   "source": [
    "##  Read in required data"
   ]
  },
  {
   "cell_type": "code",
   "execution_count": 8,
   "id": "5c2b9ee0",
   "metadata": {},
   "outputs": [],
   "source": [
    "# Main geodataframe with Wind data, impacted buildings and house prices:\n",
    "gdf = gpd.read_file(paths[\"optimization_file\"])"
   ]
  },
  {
   "cell_type": "code",
   "execution_count": 9,
   "id": "019e3370",
   "metadata": {},
   "outputs": [],
   "source": [
    "# Turbine Types:\n",
    "t_types = pd.read_excel(paths[\"assumptions_file\"], sheet_name=\"Turbine_Types\")\n",
    "t_types = t_types.set_index(\"Variable\").T #.reset_index(drop=True)"
   ]
  },
  {
   "cell_type": "code",
   "execution_count": 10,
   "id": "8b3f2064",
   "metadata": {},
   "outputs": [],
   "source": [
    "# Power Coefficients\n",
    "cps = pd.read_excel(paths[\"assumptions_file\"], sheet_name=\"Power_Coefficient\", skiprows=3)"
   ]
  },
  {
   "cell_type": "code",
   "execution_count": 11,
   "id": "4668ea0f",
   "metadata": {},
   "outputs": [
    {
     "name": "stdout",
     "output_type": "stream",
     "text": [
      "Damages are calculated for scenario: DK21 (higher turbines with interpolation)\n"
     ]
    }
   ],
   "source": [
    "# Damage Scenario Description:\n",
    "descr = pd.read_excel(paths[\"assumptions_file\"], sheet_name=\"Description\", skiprows=2)\n",
    "print(f'Damages are calculated for scenario: {descr[descr.Scenario == param[\"Scenario\"]][\"Specification\"].iloc[0]}')"
   ]
  },
  {
   "cell_type": "code",
   "execution_count": 12,
   "id": "b212f558",
   "metadata": {},
   "outputs": [],
   "source": [
    "# Load in damage assumption:\n",
    "damages = pd.read_excel(paths[\"assumptions_file\"], sheet_name=param[\"Scenario\"], skiprows=2)"
   ]
  },
  {
   "cell_type": "markdown",
   "id": "5b5db9be",
   "metadata": {},
   "source": [
    "## Calculate Wind Power Capacity (WPC) and Location Specific Costs (LSC)"
   ]
  },
  {
   "cell_type": "code",
   "execution_count": null,
   "id": "d1bd71c2",
   "metadata": {},
   "outputs": [],
   "source": [
    "gdf_in_sub = gdf.copy().iloc[:3000]"
   ]
  },
  {
   "cell_type": "code",
   "execution_count": null,
   "id": "cf3c8f83",
   "metadata": {},
   "outputs": [],
   "source": [
    "# Calculate Wind Power Capacity\n",
    "wpc = weibull_power_output(gdf_in_sub, param[\"gwa_heights\"], cps, t_types).sum(axis=0)"
   ]
  },
  {
   "cell_type": "code",
   "execution_count": 15,
   "id": "1158ce4e",
   "metadata": {},
   "outputs": [],
   "source": [
    "# Calculate Location Specific Costs:\n",
    "total_lsc, ext_lsc, const_lsc = calculate_location_costs(gdf_in_sub, damages, t_types, param[\"impact_range\"], externality=True)"
   ]
  },
  {
   "cell_type": "markdown",
   "id": "308a4ec5",
   "metadata": {},
   "source": [
    "## Run Optimization"
   ]
  },
  {
   "cell_type": "code",
   "execution_count": 23,
   "id": "d5d5414d",
   "metadata": {},
   "outputs": [],
   "source": [
    "if os.path.isfile(f'{paths[\"results_file\"]}_{param[\"Scenario\"]}.pickle') and not param[\"overwrite\"]:\n",
    "    with open(f'{paths[\"results_file\"]}_{param[\"Scenario\"]}.pickle', \"rb\") as input_file:\n",
    "        supply_fct = pickle.load(input_file)\n",
    "else:\n",
    "    supply_fct = {}"
   ]
  },
  {
   "cell_type": "code",
   "execution_count": 17,
   "id": "6b25cd0f",
   "metadata": {},
   "outputs": [],
   "source": [
    "def test_loop(total_lsc, wpc, supply_fct, expansion_goals, scenario, out_dir):\n",
    "    for i in expansion_goals:\n",
    "        print(f'Started optimization for expansion goal {i}')\n",
    "        if i in supply_fct.keys():\n",
    "            print(f\"Expansion goal {i}MW already calculated! Proceeding... \")\n",
    "        else:\n",
    "            start = time.time()\n",
    "            supply_fct[i] = minimization_problem(total_lsc, wpc, i)\n",
    "            print('Finished optimization!...solving time:', time.time() - start)\n",
    "    \n",
    "            # Pickle results:\n",
    "            supply_fct = dict(sorted(supply_fct.items(), key=lambda item: item[0])) # sort keys\n",
    "            print(f'Saving to file: {out_dir}_{scenario}.pickle')\n",
    "            with open(f'{out_dir}_{scenario}.pickle', 'wb') as handle:\n",
    "                pickle.dump(supply_fct, handle, protocol=pickle.HIGHEST_PROTOCOL)"
   ]
  },
  {
   "cell_type": "code",
   "execution_count": 18,
   "id": "ede28a92",
   "metadata": {},
   "outputs": [
    {
     "name": "stdout",
     "output_type": "stream",
     "text": [
      "Started optimization process...\n"
     ]
    }
   ],
   "source": [
    "print(\"Started optimization process...\")\n",
    "# test_loop(total_lsc, wpc, supply_fct, param[\"expansion_scenarios\"], param[\"Scenario\"], out_dir=paths['results_file'])"
   ]
  },
  {
   "cell_type": "code",
   "execution_count": 19,
   "id": "25389083",
   "metadata": {},
   "outputs": [],
   "source": [
    "def run_optimization(expansion_goal):\n",
    "    return test_loop(total_lsc, wpc, supply_fct, [expansion_goal], \n",
    "                     param[\"Scenario\"], out_dir=paths['results_file'])"
   ]
  },
  {
   "cell_type": "code",
   "execution_count": 25,
   "id": "29c163d9",
   "metadata": {},
   "outputs": [
    {
     "name": "stdout",
     "output_type": "stream",
     "text": [
      "Started optimization for expansion goal 100\n",
      "Status = Optimal\n",
      "Objective value = 240.86661\n",
      "Expansion_Constraint 100.32380557543924\n",
      "Finished optimization!...solving time: 0.7462384700775146\n",
      "Saving to file: E:\\Master_Thesis\\WIPLEX\\Database\\Final Outputs\\Optimization_Results\\optimization_results_DEU_500_new_Sze1.pickle\n",
      "Started optimization for expansion goal 200\n",
      "Status = Optimal\n",
      "Objective value = 498.2615400000001\n",
      "Expansion_Constraint 200.1321032059044\n",
      "Finished optimization!...solving time: 0.7355132102966309\n",
      "Saving to file: E:\\Master_Thesis\\WIPLEX\\Database\\Final Outputs\\Optimization_Results\\optimization_results_DEU_500_new_Sze1.pickle\n",
      "Started optimization for expansion goal 300\n",
      "Status = Optimal\n",
      "Objective value = 765.7837800000001\n",
      "Expansion_Constraint 301.3231037198903\n",
      "Finished optimization!...solving time: 0.8340845108032227\n",
      "Saving to file: E:\\Master_Thesis\\WIPLEX\\Database\\Final Outputs\\Optimization_Results\\optimization_results_DEU_500_new_Sze1.pickle\n"
     ]
    }
   ],
   "source": [
    "test_loop(total_lsc, wpc, supply_fct, [100, 200, 300], \n",
    "                     param[\"Scenario\"], out_dir=paths['results_file'])"
   ]
  },
  {
   "cell_type": "code",
   "execution_count": 37,
   "id": "0d6fad80",
   "metadata": {},
   "outputs": [],
   "source": [
    "# optimization_loop(gdf_in_sub, damages, t_types, cps, param[\"impact_range\"], param[\"Scenario\"], param[\"gwa_heights\"], \n",
    "#                 overwrite=param[\"overwrite\"], expansion_goals=param[\"expansion_scenarios\"], out_dir=paths['results_file'])"
   ]
  },
  {
   "cell_type": "code",
   "execution_count": 39,
   "id": "bde320e7",
   "metadata": {},
   "outputs": [],
   "source": [
    "from multiprocessing import Pool"
   ]
  },
  {
   "cell_type": "code",
   "execution_count": null,
   "id": "358f7048",
   "metadata": {},
   "outputs": [],
   "source": [
    "with Pool() as p:\n",
    "    p.map(run_optimization, param[\"expansion_scenarios\"])"
   ]
  },
  {
   "cell_type": "markdown",
   "id": "b2fa98e8",
   "metadata": {},
   "source": [
    "## Output file Generation"
   ]
  },
  {
   "cell_type": "code",
   "execution_count": 135,
   "id": "6371ed61",
   "metadata": {},
   "outputs": [],
   "source": [
    "generate_optimization_output(gdf_in_sub, paths[\"output_folder\"], damages, t_types, param[\"impact_range\"], paths['results_file'])"
   ]
  },
  {
   "cell_type": "markdown",
   "id": "b557c46e",
   "metadata": {},
   "source": [
    "## Testing area"
   ]
  },
  {
   "cell_type": "code",
   "execution_count": null,
   "id": "f2055161",
   "metadata": {},
   "outputs": [],
   "source": [
    "import matplotlib.pyplot as plt"
   ]
  },
  {
   "cell_type": "code",
   "execution_count": 74,
   "id": "62e0a630",
   "metadata": {},
   "outputs": [],
   "source": [
    "flh = wpc * 8760 / t_types[\"Rated power (MW)\"].to_numpy()\n",
    "np.mean(flh)\n",
    "np.max(flh)\n",
    "flh.argmax(axis=0)"
   ]
  },
  {
   "cell_type": "code",
   "execution_count": 31,
   "id": "e01f08a8",
   "metadata": {},
   "outputs": [
    {
     "data": {
      "text/plain": [
       "[<matplotlib.lines.Line2D at 0x25501aea7d0>]"
      ]
     },
     "execution_count": 31,
     "metadata": {},
     "output_type": "execute_result"
    },
    {
     "data": {
      "image/png": "[encoded data removed]",
      "text/plain": [
       "<Figure size 640x480 with 1 Axes>"
      ]
     },
     "metadata": {},
     "output_type": "display_data"
    }
   ],
   "source": [
    "plt.plot(x, weibull_wind_pdf(x, 2.275116, 9.447038), label='self-defined Weibull')"
   ]
  }
 ],
 "metadata": {
  "kernelspec": {
   "display_name": "Python 3 (ipykernel)",
   "language": "python",
   "name": "python3"
  },
  "language_info": {
   "codemirror_mode": {
    "name": "ipython",
    "version": 3
   },
   "file_extension": ".py",
   "mimetype": "text/x-python",
   "name": "python",
   "nbconvert_exporter": "python",
   "pygments_lexer": "ipython3",
   "version": "3.10.1"
  }
 },
 "nbformat": 4,
 "nbformat_minor": 5
}
