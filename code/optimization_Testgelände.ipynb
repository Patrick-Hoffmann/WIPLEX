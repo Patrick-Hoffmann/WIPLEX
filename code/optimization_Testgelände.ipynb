{
 "cells": [
  {
   "cell_type": "code",
   "execution_count": 1,
   "id": "7f57fb7e",
   "metadata": {},
   "outputs": [],
   "source": [
    "# Package Imports:\n",
    "\n",
    "import config # Load WIPLEX configuration\n",
    "import geopandas as gpd\n",
    "import numpy as np\n",
    "import pandas as pd \n",
    "import pickle\n",
    "import glob\n",
    "import os\n",
    "import pulp as plp #package used to solve Mixed Integer Programming Problem # https://pyomo-simplemodel.readthedoc\n",
    "import time\n",
    "from pathlib import Path\n",
    "import itertools\n",
    "from multiprocessing import Pool, freeze_support, Manager\n",
    "from itertools import repeat\n",
    "import ast\n",
    "import signal\n",
    "import math\n"
   ]
  },
  {
   "cell_type": "code",
   "execution_count": 2,
   "id": "8933396e",
   "metadata": {},
   "outputs": [],
   "source": [
    "#############################################################################################################\n",
    "################################################ Function Hub ###############################################\n",
    "\n",
    "\n",
    "# ----------------------------------------- Additional helper Functions ------------------------------------------ #\n",
    "\n",
    "def up_down_round(x, base=50, up=True):\n",
    "    if up:\n",
    "        return base * math.ceil(x/base)\n",
    "    else:\n",
    "        return base * math.floor(x/base)\n",
    "\n",
    "\n",
    "\n",
    "def interpolate_heights(wpc_array, t_height, gwa_heights = [50, 100, 150, 200]):\n",
    "    lower_layer = up_down_round(t_height, up=False)\n",
    "    upper_layer = up_down_round(t_height, up=True)\n",
    "    lower_index = gwa_heights.index(lower_layer)\n",
    "    upper_index = gwa_heights.index(upper_layer)\n",
    "\n",
    "    return wpc_array[:,lower_index] + (wpc_array[:,upper_index] - wpc_array[:,lower_index]) * (t_height - lower_layer)/50\n",
    "\n",
    "# ----------------------------------------- Wind power functions ------------------------------------------ #\n",
    "\n",
    "def weibull_wind_pdf(x, k, A):\n",
    "    return k/A * (x/A)**(k-1) * np.exp(-(x/A)**k)\n",
    "\n",
    "\n",
    "def wind_power_function(ws, radius, ad, cp):\n",
    "    # Calculating costs using wind power function\n",
    "    return (np.pi/2) * ws**3 * radius**2 * ad * cp * 1e-6\n",
    "\n",
    "\n",
    "def weibull_power_output(gdf, gwa_heights, cp_df, types_df):\n",
    "    x = np.arange(3, 26, 1)\n",
    "    wb_A = gdf[[f\"wb_A_{x}\" for x in gwa_heights]].to_numpy()\n",
    "    wb_k = gdf[[f\"wb_k_{x}\" for x in gwa_heights]].to_numpy()\n",
    "    ad_array = gdf[[f\"ad_{x}\" for x in gwa_heights]].to_numpy()\n",
    "    blade_radius = types_df[\"Rotor diameter (m)\"].to_numpy()/2\n",
    "    \n",
    "    array_list = []\n",
    "    for ws in x:\n",
    "        probs = weibull_wind_pdf(ws, wb_k, wb_A)\n",
    "        cp_array = cp_df[cp_df[\"Wind Speed\"] == ws].loc[:,cp_df.columns != 'Wind Speed'].to_numpy()\n",
    "        res_wp = wind_power_function(ws, blade_radius, ad_array, cp_array) \n",
    "        res_clipped = np.clip(res_wp, a_min=0, a_max=types_df[\"Rated power (MW)\"].values) # clip results to not exceed rated power\n",
    "        res_out = res_clipped * probs # multiply with weibull probability\n",
    "        array_list.append(res_out)\n",
    "    return np.array(array_list)\n",
    "\n",
    "\n",
    "# ----------------------------------------- Location Cost Functions ------------------------------------------ #\n",
    "\n",
    "def aggregate_property_values(gdf, impact_range):\n",
    "    '''\n",
    "    Function calulates the aggregate property value of buildings in each impact zone for all cells in the gdf.\n",
    "    Parameters\n",
    "    ----------\n",
    "        gdf :  geopandas.GeoDataFrame\n",
    "            GeoDataFrame containing house price and property impact information (columns: eg: imp_500m,..., hp )\n",
    "        impact_range : list\n",
    "            list of integers specifying which impact ranges to use for the analysis\n",
    "    Returns:\n",
    "    --------\n",
    "        impacts_hp : numpy.array\n",
    "            Array containing aggregate property values for each cell and impact zone (cell x zone)\n",
    "    '''\n",
    "    # Define impact matrix\n",
    "    imp_list = [f\"imp_{i}\" for i in impact_range]\n",
    "    impacts = gdf.loc[:, imp_list].to_numpy()\n",
    "    \n",
    "    # Calculate aggregate  property values per impact zone:\n",
    "    impacts_hp = impacts * gdf[\"hp\"].to_numpy().reshape(-1, 1)\n",
    "    \n",
    "    return impacts_hp\n",
    "\n",
    "def calculate_location_costs(gdf, damage_df, t_types_df, impact_range, externality=True):\n",
    "    '''\n",
    "    Function for calculating location specific costs for each of the turbines in the dataset\n",
    "    \n",
    "    Parameters\n",
    "    ----------\n",
    "    gdf : geopandas.GeoDataFrame\n",
    "        GeoDataFrame containing the all location information (placement locations, impacts, house prices...)\n",
    "    damage_df: pandas.DataFrame\n",
    "        DataFrame with the damage assumptions for each turbine (turbines as collumns and impact zones as rows)\n",
    "    t_type_df: pandas.DataFrame\n",
    "        DataFrame with information on each turbine used (name, height, rated power, ...)\n",
    "    impact_range: list\n",
    "        List containing all impact zones that should be used (maximum is the max number of impacts calculated)\n",
    "    externality: Bolean\n",
    "        Parameter indicating if wind power externalities should be considered (Default=True)\n",
    "\n",
    "    Returns\n",
    "    -------\n",
    "        total_cost, ext_cost, const_cost: np.arrays\n",
    "            Arrays containing information on total, externality and construction costs for each location and turbine\n",
    "    '''\n",
    "    # Definition of property damage matrix:\n",
    "    damage_selection = damage_df.loc[damage_df[\"Upper\"].isin(impact_range)]\n",
    "    prop_damages = damage_selection[list(t_types_df[\"Name\"])].to_numpy()\n",
    "\n",
    "    # Obtain house price values for each location\n",
    "    prop_values = aggregate_property_values(gdf, impact_range)/1000000\n",
    "    \n",
    "    # Caclulation of externalities:\n",
    "    if not externality:\n",
    "        ext_cost = np.zeros((len(gdf), len(t_types)))\n",
    "    else:\n",
    "        ext_cost = np.round(prop_values @ prop_damages, 2)\n",
    "\n",
    "    # Calculation of construction costs:\n",
    "    const_cost = t_types[\"Total construction cost (million €)\"].to_numpy().reshape(1,-1)\n",
    "\n",
    "    # Calc total costs:\n",
    "    total_cost = ext_cost + const_cost\n",
    "    \n",
    "    return total_cost, ext_cost, const_cost\n",
    "\n",
    "# ----------------------------------------- Optimization Functions ------------------------------------------ #\n",
    "\n",
    "def minimization_problem(total_cost, wpc, expansion_goal):\n",
    "    '''\n",
    "    Main optimization function of the Wind turbine placement algorithm\n",
    "\n",
    "    Parameters\n",
    "    ----------\n",
    "    total_cost : np.array\n",
    "        Array containing the total cost (project + externality cost) for each wind turbine\n",
    "        and placement location.\n",
    "    wpc : np.array\n",
    "        Array containing the wind power capacity values for each turbine and location.\n",
    "    expansion_goal : int\n",
    "        Value representing the expansion goal (in MW).\n",
    "\n",
    "    Returns\n",
    "    -------\n",
    "    turbines_opt : np.arrays\n",
    "        Array containing Bolean values (0,1) for each turbine and location. It indicates\n",
    "        which turbine is built in which location (array element=1)\n",
    "\n",
    "    '''\n",
    "    # Create model\n",
    "    m = plp.LpProblem(\"TC_Germany\", plp.LpMinimize)\n",
    "\n",
    "\n",
    "    # Choice Variables:\n",
    "    t_list = []\n",
    "    for i in range(total_cost.shape[1]):\n",
    "        turbine = plp.LpVariable.dicts(f't{i}', range(len(total_cost)) , lowBound=0, upBound=1, cat=plp.LpBinary)\n",
    "        t_list.append(list(turbine.values()))\n",
    "    \n",
    "    #turbines = np.array([list(turbines_100.values()), list(turbines_150.values())]).T\n",
    "    turbines = np.array(t_list).T\n",
    "\n",
    "    # # Objective\n",
    "    #print('Setting up Objective Function...')\n",
    "    m += plp.lpSum(total_cost * turbines)\n",
    "\n",
    "    # Constraint\n",
    "    #print('Adding constraints...')\n",
    "    m += plp.lpSum(wpc * turbines) >= expansion_goal, \"Expansion Constraint\"\n",
    "\n",
    "    for i in range(len(turbines)):\n",
    "        m += plp.lpSum(turbines[i,:]) <= 1, f\"Site constraint {i}\"\n",
    "\n",
    "\n",
    "    # Define the solver:\n",
    "    if \"GUROBI_CMD\" in plp.listSolvers(onlyAvailable=True):  \n",
    "        solver = plp.GUROBI_CMD(msg=0, options=[(\"MIPGap\", 1e-3)])\n",
    "    else:\n",
    "        #solver = plp.PULP_CBC_CMD(msg=0)\n",
    "        solver = plp.GLPK_CMD(path='C:\\\\Program Files\\\\glpk-4.65\\\\w64\\\\glpsol.exe', msg=0, options = [\"--mipgap\", \"0.01\"])  #,\"--tmlim\", \"2000\"\n",
    "    # use other solver: plp.PULP_CBC_CMD(msg=0) ; plp.GLPK_CMD(path='C:\\\\Program Files\\\\glpk-4.65\\\\w64\\\\glpsol.exe', msg=0, options = [\"--mipgap\", \"0.001\",\"--tmlim\", \"1000\"])\n",
    "\n",
    "\n",
    "    # Optimize\n",
    "    #print('Started optimization')\n",
    "    m.solve(solver)\n",
    "\n",
    "\n",
    "    # Print the status of the solved LP\n",
    "    print(f\"Status = {plp.LpStatus[m.status]}\")\n",
    "\n",
    "    # Print the value of the objective\n",
    "    print(f\"Objective value = {plp.value(m.objective)}\")\n",
    "\n",
    "    # Print the value of the constraint:\n",
    "    sel = []\n",
    "    for constraint in m.constraints:\n",
    "        if constraint == \"Expansion_Constraint\":\n",
    "            constraint_sum = 0\n",
    "            for var, coefficient in m.constraints[constraint].items():\n",
    "                constraint_sum += var.varValue * coefficient\n",
    "                sel.append(var.varValue)\n",
    "            print(m.constraints[constraint].name, constraint_sum)\n",
    "        else:\n",
    "            pass\n",
    "    \n",
    "    turbine_opt_list = []\n",
    "    for turbine_type in t_list:\n",
    "        turbine_results = [t.varValue for t in turbine_type]\n",
    "        turbine_opt_list.append(turbine_results)\n",
    "            \n",
    "    turbines_opt = np.array(turbine_opt_list).T\n",
    "    \n",
    "    return turbines_opt\n",
    "\n",
    "\n",
    "def run_optimization(expansion_goal, tot_cost_array, wpc_array, storage_dict):\n",
    "    print(f'Started optimization for expansion goal {expansion_goal}')\n",
    "    if expansion_goal in storage_dict.keys():\n",
    "        print(f\"Expansion goal {expansion_goal}MW already calculated! Proceeding... \")\n",
    "    else:\n",
    "        start = time.time()\n",
    "        storage_dict[expansion_goal] = minimization_problem(tot_cost_array, wpc_array, expansion_goal)\n",
    "        print(f'Finished optimization for expansion goal {expansion_goal}m!...solving time:', time.time() - start)\n",
    "\n",
    "\n",
    "def optimization_loop(gdf, damage_df, t_type_df, cp_df, impact_range, scenario, gwa_heights, \n",
    "                      overwrite, expansion_goals, out_dir, multiprocessing=False):\n",
    "    '''\n",
    "    Main optimization loop to evaluate different expansion scenarios.\n",
    "\n",
    "    Parameters\n",
    "    ----------\n",
    "    gdf : geopandas.GeoDataFrame\n",
    "        GeoDataFrame containing the all information (placement locations, impacts, house prices...)\n",
    "    damage_df: pandas.DataFrame\n",
    "        DataFrame with the damage assumptions for each turbine (turbines as collumns and impact zones as rows)\n",
    "    t_type_df: pandas.DataFrame\n",
    "        DataFrame with information on each turbine used (name, height, rated power, ...)\n",
    "    impact_range: list\n",
    "        List containing all impact zones that should be used (maximum is the max number of impacts calculated)\n",
    "    scenario: string\n",
    "        Name of the Scenario that should be used. This should be identical to the sheet name of the damage scenario in the assumptions file\n",
    "    gwa_heights: list\n",
    "        list of integers specifying which wind layers (height) of the Global wind Atlas should be used\n",
    "    overwrite : Bolean\n",
    "        Bolean value that defines whether new expansion scenarios should just be added to an existing file or if old \n",
    "        scenarios should be overwritten.\n",
    "    expansion_goals : list\n",
    "        List of of integer values defining the expansion scenarios for which to run the optimization.\n",
    "    out_dir : string\n",
    "        Directory where the output files should be saved to.\n",
    "\n",
    "    Returns\n",
    "    -------\n",
    "    None.\n",
    "\n",
    "    '''\n",
    "    print(\"Started optimization process...\")\n",
    "  \n",
    "    # Calculate Wind Power Capacity\n",
    "    wpc = weibull_power_output(gdf, gwa_heights, cp_df, t_type_df).sum(axis=0)\n",
    "\n",
    "    # Interpolate power Outputs using turbine height:\n",
    "    wpc = np.vstack([interpolate_heights(wpc, t_height) for t_height in list(t_type_df[\"Hub height (m)\"])]).T\n",
    "\n",
    "    # Calculate Location Specific Costs:\n",
    "    total_lsc, ext_lsc, const_lsc = calculate_location_costs(gdf, damage_df, t_type_df, impact_range, \n",
    "                                                             externality=True)\n",
    "\n",
    "    \n",
    "    if os.path.isfile(f'{out_dir}_{scenario}.pickle') and not overwrite:\n",
    "        with open(f'{out_dir}_{scenario}.pickle', \"rb\") as input_file:\n",
    "            supply_fct = pickle.load(input_file)\n",
    "    else:\n",
    "        supply_fct = {}\n",
    "    \n",
    "\n",
    "    if multiprocessing:\n",
    "        manager = Manager()\n",
    "        supply_fct = manager.dict(supply_fct)\n",
    "\n",
    "        p = Pool()                                   # Create a multiprocessing Pool\n",
    "        p.starmap(run_optimization, zip(expansion_goals, repeat(total_lsc), repeat(wpc), repeat(supply_fct)))\n",
    "        p.close()\n",
    "        p.join()\n",
    "\n",
    "    else:\n",
    "        for i in expansion_goals:\n",
    "            run_optimization(i, total_lsc, wpc, supply_fct)\n",
    "\n",
    "    # Pickle results:\n",
    "    supply_fct = dict(sorted(supply_fct.items(), key=lambda item: item[0])) # sort keys\n",
    "    print(f'Saving to file: {out_dir}_{scenario}.pickle')\n",
    "    with open(f'{out_dir}_{scenario}.pickle', 'wb') as handle:\n",
    "        pickle.dump(supply_fct, handle, protocol=pickle.HIGHEST_PROTOCOL)\n",
    "\n",
    "\n",
    "# ------------------------------------------ Output Functions -------------------------------------------- #\n",
    "\n",
    "def calc_cost(turbines, total_cost, external_cost, const_cost):\n",
    "    '''\n",
    "    Function calculating total, external project and marginal cost \n",
    "    as well as the externality cost share for an array of selected turbines.\n",
    "    '''\n",
    "    marginal_cost = np.max(np.sum(total_cost * turbines, axis=1))\n",
    "    p_cost = np.sum(const_cost * turbines) \n",
    "    ex_cost = np.sum(external_cost * turbines) \n",
    "    cost_total = p_cost + ex_cost\n",
    "    ext_share = ex_cost/cost_total\n",
    "\n",
    "    \n",
    "    return [cost_total, ex_cost, p_cost, marginal_cost, ext_share]\n",
    "\n",
    "def calc_other(turbines, expansion_goal, rated_power_array):\n",
    "    '''\n",
    "    Function calculates the aggregate rated power, average FLH and the  number of turbines\n",
    "    build for each type for a given array of selected trubines\n",
    "    '''\n",
    "    turbine_count = np.sum(turbines, axis=0)\n",
    "    rated_power_agg = np.sum(turbine_count *rated_power_array)\n",
    "    flh = expansion_goal/rated_power_agg *8760\n",
    "\n",
    "    return [rated_power_agg, flh] + list(turbine_count)\n",
    "\n",
    "def generate_results_df(geo_df, model, damage_df, t_type_df, impact_range, ext=True):\n",
    "    '''\n",
    "    Function calculates the cost predictions for each expansion scenario of a given model using the optimization results.\n",
    "\n",
    "    Parameters\n",
    "    ----------\n",
    "        geo_df : geopandas.GeoDataFrame\n",
    "            Input DataFrame containing the cell data from the Global Wind Atlas for all valid placement cells\n",
    "        model : dict\n",
    "            Dictionary containing arrays with the optimization results (which cells are chosen and which turbine is built in a chosen cell)\n",
    "        damage_df: pandas.DataFrame\n",
    "            DataFrame with the damage assumptions for each turbine (turbines as collumns and impact zones as rows)\n",
    "        t_type_df: pandas.DataFrame\n",
    "            DataFrame with information on each turbine used (name, height, rated power, ...)\n",
    "        impact_range: list\n",
    "            List containing all impact zones that should be used (maximum is the max number of impacts calculated)\n",
    "        ext: Bolean (default: True)\n",
    "            Bolean indicating if externality cost should be considered or not. \n",
    "\n",
    "    Returns\n",
    "    -------\n",
    "        results_df : pandas.DataFrame\n",
    "            Pandas DataFrame containing the cost predictions (total cost, externality cost, project cost and marginal cost)\n",
    "            for each expansion scenario of the selected model\n",
    "\n",
    "    '''\n",
    "    # Calculate Location Specific Costs:\n",
    "    total_lsc, ext_lsc, const_lsc = calculate_location_costs(geo_df, damage_df, t_type_df, impact_range, externality=True)\n",
    "    \n",
    "    results = []\n",
    "    for i in list(model.keys()):\n",
    "        results.append([i] + calc_other(model[i], i, np.array([t_type_df[\"Rated power (MW)\"]])) + calc_cost(model[i], \n",
    "                                                                                                    total_lsc, ext_lsc, const_lsc))\n",
    "    results_df = pd.DataFrame(results, columns=['Expansion Goal', 'Expansion Goal (rated)', \n",
    "                                                'FLH'] +  list(t_types.index) + ['Total Cost', 'Externality Cost', \n",
    "                                                'Project Cost', 'Marginal Cost', 'Ext. Share'])\n",
    "\n",
    "    return results_df\n",
    "\n",
    "def generate_optimization_output(gdf_in, opt_file_dir, damage_df,t_type_df, impact_range, out_file):\n",
    "    '''\n",
    "    Function calculates cost predictions for each file in a given opt_file_dir and generates a .xlsx table containing all cost predictions\n",
    "    in this directory.\n",
    "\n",
    "    Parameters\n",
    "    ----------\n",
    "        gdf_in: geopandas.GeoDataFrame\n",
    "            DataFrame used for the optimization process\n",
    "        damage_df: pandas.DataFrame\n",
    "            DataFrame with the damage assumptions for each turbine (turbines as collumns and impact zones as rows)\n",
    "        t_type_df: pandas.DataFrame\n",
    "            DataFrame with information on each turbine used (name, height, rated power, ...)\n",
    "        impact_range: list\n",
    "            List containing all impact zones that should be used (maximum is the max number of impacts calculated)\n",
    "        opt_file_dir: str\n",
    "            String containing a path to the direcotory with the optimization results\n",
    "        out_file: str\n",
    "            Name of the output .xlsx file\n",
    "    '''\n",
    "    opt_files = glob.glob(f'{opt_file_dir}/*.pickle')\n",
    "\n",
    "    df_list = []\n",
    "    for file in opt_files:\n",
    "        # Infer optimization settings from filename:\n",
    "        filename_split = Path(file).stem.split('_')\n",
    "        scenario = filename_split[-1]\n",
    "        \n",
    "        \n",
    "        if scenario == \"noext\":\n",
    "            externality = False\n",
    "        else:\n",
    "            externality = True\n",
    "            \n",
    "        # Load in optimized turbine location files:\n",
    "        opt_result = pickle.load(open(file, \"rb\"))\n",
    "        opt_result= dict(sorted(opt_result.items(), key=lambda item: item[0]))\n",
    "\n",
    "\n",
    "        opt_df = generate_results_df(gdf_in, opt_result, damage_df, t_type_df, impact_range, ext=externality)\n",
    "        opt_df['Scenario'] = scenario\n",
    "        opt_df['Externality Cost (€/kW rated)'] = opt_df['Externality Cost'] / opt_df['Expansion Goal (rated)'] *1e-3\n",
    "        opt_df['Project Cost (€/kW rated)'] = opt_df['Project Cost'] / opt_df['Expansion Goal (rated)'] *1e-3\n",
    "        df_list.append(opt_df)\n",
    "\n",
    "    df_out = pd.concat(df_list)\n",
    "    df_out.to_excel(f'{out_file}.xlsx', index=False)\n"
   ]
  },
  {
   "cell_type": "code",
   "execution_count": 3,
   "id": "1c1e4c3d",
   "metadata": {},
   "outputs": [],
   "source": [
    "def power_scaling(wpc_in, flh_const=4000):\n",
    "    '''\n",
    "    Function is used to scale the wind power capacity array to a value \n",
    "    in line with a maximum FLH constraint of flh_const\n",
    "\n",
    "    Parameters\n",
    "    ----------\n",
    "    wpc_in : np.array\n",
    "        Numpy array containing the Wind power capacity values per turbine and location.\n",
    "    flh_const: int\n",
    "        Integer indicating the Maxiumum FLH constraint used for defining the scaling factor\n",
    "\n",
    "    Returns\n",
    "    -------\n",
    "    wpc_out : np.array\n",
    "        Array containing the scaled Wind power capacity values.\n",
    "\n",
    "    '''\n",
    "    # Scale Full load hours by the maxiumum FLH of the smaller turbine is 4000:\n",
    "    flh_max = np.max(wpc_in[:, 0]) * 8760/3\n",
    "    if flh_max > 4000:\n",
    "        scaling = 4000/flh_max\n",
    "    else:\n",
    "        scaling = 1\n",
    "    \n",
    "    wpc_out = wpc_in * scaling\n",
    "    \n",
    "    return wpc_out\n",
    "\n",
    "def sound_pressure_level(sound_power, distances, hub_height):\n",
    "    '''\n",
    "    Function that calculates the sound pressure level at several distances \n",
    "    depending on sound_ower and hub_height\n",
    "    '''\n",
    "    return sound_power - abs(10* np.log10(1/(4*np.pi* np.square(distances))))\n",
    "\n",
    "def round_down(num, divisor):\n",
    "    '''\n",
    "    Function for rounding down a number (num) depening on a divisor.\n",
    "    (Eg. With divisor 10 the number is rounded down to the nearest 10: 26-->20)\n",
    "    '''\n",
    "    return num - (num%divisor)\n",
    "\n",
    "def sound_pressure_level_uj(sound_power, distances, hub_height):\n",
    "    '''\n",
    "    Function calculating the sound pressure level as defined in the paper \n",
    "    by Jensen et al. (2014)\n",
    "    '''\n",
    "    return sound_power - 10*np.log10(np.square(distances) + np.square(hub_height)) - 11 + 1.5 - (2/1000) * np.sqrt((np.square(distances) + np.square(hub_height)))"
   ]
  },
  {
   "cell_type": "code",
   "execution_count": 4,
   "id": "6e6a20d0",
   "metadata": {},
   "outputs": [],
   "source": [
    "WIPLEX_config = config.WIPLEX_settings()\n",
    "WIPLEX_config.initialize_config()\n",
    "param = WIPLEX_config.param\n",
    "paths = WIPLEX_config.paths"
   ]
  },
  {
   "cell_type": "code",
   "execution_count": 5,
   "id": "285c302b",
   "metadata": {},
   "outputs": [],
   "source": [
    "# Main geodataframe with Wind data, impacted buildings and house prices:\n",
    "gdf_in = gpd.read_file(paths[\"optimization_file\"])"
   ]
  },
  {
   "cell_type": "code",
   "execution_count": 6,
   "id": "a8f4be94",
   "metadata": {},
   "outputs": [],
   "source": [
    "# Turbine Types:\n",
    "t_types = pd.read_excel(paths[\"assumptions_file\"], sheet_name=\"Turbine_Types\")\n",
    "t_types = t_types.set_index(\"Variable\").T #.reset_index(drop=True)"
   ]
  },
  {
   "cell_type": "code",
   "execution_count": 31,
   "id": "e2d31367",
   "metadata": {},
   "outputs": [],
   "source": [
    "# Power Coefficients\n",
    "cps = pd.read_excel(paths[\"assumptions_file\"], sheet_name=\"Power_Coefficient\", skiprows=3)"
   ]
  },
  {
   "cell_type": "code",
   "execution_count": 8,
   "id": "9d35947b",
   "metadata": {},
   "outputs": [],
   "source": [
    "# Load in damage assumption:\n",
    "damages = pd.read_excel(paths[\"assumptions_file\"], sheet_name=param[\"Scenario\"], skiprows=2)"
   ]
  },
  {
   "cell_type": "code",
   "execution_count": 9,
   "id": "86bc98bc",
   "metadata": {},
   "outputs": [],
   "source": [
    "wpc = weibull_power_output(gdf_in, param[\"gwa_heights\"], cps, t_types).sum(axis=0)"
   ]
  },
  {
   "cell_type": "code",
   "execution_count": 97,
   "id": "71c69206",
   "metadata": {},
   "outputs": [],
   "source": []
  },
  {
   "cell_type": "code",
   "execution_count": 99,
   "id": "36b8f7bc",
   "metadata": {},
   "outputs": [],
   "source": [
    "wpc = np.vstack([interpolate_heights(wpc, t_height) for t_height in list(t_types[\"Hub height (m)\"])]).T"
   ]
  },
  {
   "cell_type": "code",
   "execution_count": 211,
   "id": "e4a6637d",
   "metadata": {},
   "outputs": [],
   "source": [
    "test = wpc[:, 1].copy()"
   ]
  },
  {
   "cell_type": "code",
   "execution_count": 22,
   "id": "a1803dd7",
   "metadata": {},
   "outputs": [
    {
     "data": {
      "text/plain": [
       "Index(['index', 'ad_100', 'ad_150', 'ad_200', 'ad_50', 'wb_A_100', 'wb_A_150',\n",
       "       'wb_A_200', 'wb_A_50', 'wb_k_100', 'wb_k_150', 'wb_k_200', 'wb_k_50',\n",
       "       'ws_100', 'ws_150', 'ws_200', 'ws_50', 'imp_500', 'imp_750', 'imp_1000',\n",
       "       'imp_1250', 'imp_1500', 'imp_1750', 'imp_2000', 'imp_2250', 'imp_2500',\n",
       "       'imp_2750', 'imp_3000', 'imp_3250', 'imp_3500', 'imp_3750', 'imp_4000',\n",
       "       'imp_4250', 'imp_4500', 'imp_4750', 'imp_5000', 'imp_5250', 'imp_5500',\n",
       "       'county', 'CC_2', 'pop_count', 'pop_d_km2', 'state', 'sqm_p', 'ap_size',\n",
       "       'no_ap', 'hp', 'geometry'],\n",
       "      dtype='object')"
      ]
     },
     "execution_count": 22,
     "metadata": {},
     "output_type": "execute_result"
    }
   ],
   "source": [
    "gdf_in.columns"
   ]
  },
  {
   "cell_type": "code",
   "execution_count": 49,
   "id": "9e397b91",
   "metadata": {},
   "outputs": [],
   "source": [
    "test = gdf_in[\"ad_200\"].to_numpy()"
   ]
  },
  {
   "cell_type": "code",
   "execution_count": 13,
   "id": "37202303",
   "metadata": {},
   "outputs": [
    {
     "data": {
      "text/plain": [
       "Index(['index', 'ad_100', 'ad_150', 'ad_200', 'ad_50', 'wb_A_100', 'wb_A_150',\n",
       "       'wb_A_200', 'wb_A_50', 'wb_k_100', 'wb_k_150', 'wb_k_200', 'wb_k_50',\n",
       "       'ws_100', 'ws_150', 'ws_200', 'ws_50', 'imp_500', 'imp_750', 'imp_1000',\n",
       "       'imp_1250', 'imp_1500', 'imp_1750', 'imp_2000', 'imp_2250', 'imp_2500',\n",
       "       'imp_2750', 'imp_3000', 'imp_3250', 'imp_3500', 'imp_3750', 'imp_4000',\n",
       "       'imp_4250', 'imp_4500', 'imp_4750', 'imp_5000', 'imp_5250', 'imp_5500',\n",
       "       'county', 'CC_2', 'pop_count', 'pop_d_km2', 'state', 'sqm_p', 'ap_size',\n",
       "       'no_ap', 'hp', 'geometry'],\n",
       "      dtype='object')"
      ]
     },
     "execution_count": 13,
     "metadata": {},
     "output_type": "execute_result"
    }
   ],
   "source": [
    "gdf_in.columns"
   ]
  },
  {
   "cell_type": "code",
   "execution_count": 50,
   "id": "b8399f16",
   "metadata": {},
   "outputs": [
    {
     "name": "stdout",
     "output_type": "stream",
     "text": [
      "1.2199551668208983\n"
     ]
    }
   ],
   "source": [
    "import numpy as np\n",
    "\n",
    "n = len(test)\n",
    "k = int(n * 0.1)  # Calculate the number of values in the top 10%\n",
    "\n",
    "sorted_arr = np.sort(test)[::-1]  # Sort the array in descending order\n",
    "\n",
    "avg_top_10 = np.mean(sorted_arr[:k])  # Calculate the average of the top 10% values\n",
    "\n",
    "print(avg_top_10)  # Output: 9.0"
   ]
  },
  {
   "cell_type": "code",
   "execution_count": 214,
   "id": "a2ce10db",
   "metadata": {},
   "outputs": [
    {
     "data": {
      "text/plain": [
       "4070.501289858846"
      ]
     },
     "execution_count": 214,
     "metadata": {},
     "output_type": "execute_result"
    }
   ],
   "source": [
    "avg_top_10*8560/2.99"
   ]
  },
  {
   "cell_type": "code",
   "execution_count": null,
   "id": "7dd2e055",
   "metadata": {},
   "outputs": [],
   "source": [
    "def weibull_power_output(gdf, gwa_heights, cp_df, types_df):\n",
    "    x = np.arange(3, 26, 1)\n",
    "    wb_A = gdf[[f\"wb_A_{x}\" for x in gwa_heights]].to_numpy()\n",
    "    wb_k = gdf[[f\"wb_k_{x}\" for x in gwa_heights]].to_numpy()\n",
    "    ad_array = gdf[[f\"ad_{x}\" for x in gwa_heights]].to_numpy()\n",
    "    blade_radius = types_df[\"Rotor diameter (m)\"].to_numpy()/2\n",
    "    \n",
    "    array_list = []\n",
    "    for ws in x:\n",
    "        probs = weibull_wind_pdf(ws, wb_k, wb_A)\n",
    "        cp_array = cp_df[cp_df[\"Wind Speed\"] == ws].loc[:,cp_df.columns != 'Wind Speed'].to_numpy()\n",
    "        res_wp = wind_power_function(ws, blade_radius, ad_array, cp_array) \n",
    "        res_clipped = np.clip(res_wp, a_min=0, a_max=types_df[\"Rated power (MW)\"].values) # clip results to not exceed rated power\n",
    "        res_out = res_clipped * probs # multiply with weibull probability\n",
    "        array_list.append(res_out)\n",
    "    return np.array(array_list)"
   ]
  },
  {
   "cell_type": "code",
   "execution_count": 89,
   "id": "dc0d4f72",
   "metadata": {},
   "outputs": [],
   "source": [
    "def get_top_average(array_in, top_pct=10):\n",
    "    data_array = array_in.copy()\n",
    "    k=len(data_array) * top_pct\n",
    "    sorted_arr = np.sort(data_array)[::-1]\n",
    "    avg_top = np.mean(sorted_arr[:k])\n",
    "    \n",
    "    return avg_top\n",
    "\n",
    "\n",
    "def get_power_curve(gdf, t_types_df, cps, layer, t_number = 1):\n",
    "    rad = t_types_df[\"Rotor diameter (m)\"].to_numpy()/2\n",
    "    rad = rad[t_number-1]\n",
    "    cps_sub = cps.to_numpy()[:,t_number]\n",
    "    ad = get_top_average(gdf[f\"ad_{layer}\"].to_numpy())\n",
    "    \n",
    "    test_dict = {}\n",
    "    for i in range(3,26,1):\n",
    "        res = wind_power_function(i, rad, ad, cps_sub[i-1])\n",
    "        res = np.clip(res, a_min=0, a_max=t_types[\"Rated power (MW)\"].values[t_number-1])\n",
    "        test_dict[i] = res  \n",
    "        \n",
    "    return test_dict"
   ]
  },
  {
   "cell_type": "code",
   "execution_count": 90,
   "id": "9ccf8e84",
   "metadata": {},
   "outputs": [],
   "source": [
    "t_1 = get_power_curve(gdf_in, t_types, cps, 50, t_number = 1)\n",
    "t_2 = get_power_curve(gdf_in, t_types, cps, 100, t_number = 2)\n",
    "t_3 = get_power_curve(gdf_in, t_types, cps, 150, t_number = 3)\n",
    "t_4 = get_power_curve(gdf_in, t_types, cps, 200, t_number = 4)"
   ]
  },
  {
   "cell_type": "code",
   "execution_count": 99,
   "id": "5edb0c06",
   "metadata": {},
   "outputs": [
    {
     "data": {
      "text/plain": [
       "array([0.08457214, 0.33205154, 0.72615577, 1.34421265, 2.21975298,\n",
       "       3.32051544, 4.47636225, 5.5332725 , 6.2077246 , 6.43791425,\n",
       "       6.4269305 , 6.43681036, 6.42673732, 6.44321295, 6.44032902,\n",
       "       6.43791425, 6.43587205, 6.40258962, 6.38948087, 6.46484929,\n",
       "       6.3797666 , 6.48560251, 6.46813337])"
      ]
     },
     "execution_count": 99,
     "metadata": {},
     "output_type": "execute_result"
    }
   ],
   "source": []
  },
  {
   "cell_type": "code",
   "execution_count": 104,
   "id": "5eb4516c",
   "metadata": {},
   "outputs": [
    {
     "name": "stdout",
     "output_type": "stream",
     "text": [
      "[0.014622464280288232, 0.05741148318499852, 0.12555183272151543, 0.2324134410717178, 0.3837937610339577, 0.5741148318499851, 0.7739599485800137, 0.9566990008803361, 1.0733113045337752, 1.113110937283615, 1.111211853980122, 1.1129200746400478, 1.1111784530174975, 1.1140270779727373, 1.1135284493164181, 1.113110937283615, 1.112757841393016, 1.1070033326894662, 1.1047368387971062, 1.1177679857866534, 1.1030572475337155, 1.121356203485716, 1.1183358021512657]\n",
      "[0.03864223149439184, 0.1517191480961079, 0.3317910641854088, 0.6141901816377346, 1.014237208975091, 1.5171914809610787, 2.045314587687744, 2.528232147047011, 2.8363990569805866, 2.9415760362250705, 2.9365574008409077, 2.941071650759326, 2.936469133384403, 2.9439970864606466, 2.942679379431388, 2.94157603622507, 2.940642923113443, 2.9254357013212298, 2.9194461239155074, 2.953883041589249, 2.915007531816951, 2.9633654883452563, 2.9553835883498403]\n",
      "[0.05494506464962656, 0.21572818334615984, 0.4717709295458636, 0.8733118645632275, 1.4421353752637422, 2.157281833461598, 2.908215646543009, 3.5948720712188376, 4.033052014104209, 4.182602278174216, 4.175466322641323, 4.181885096713624, 4.175340815885719, 4.186044749185059, 4.184171112619262, 4.182602278174215, 4.181275492472121, 4.159652471435263, 4.151135941590728, 4.2, 4.144824744737518, 4.2, 4.2]\n",
      "[0.08457213746788432, 0.332051544465193, 0.7261557732497, 1.3442126519124522, 2.219752983854813, 3.3205154446519303, 4.476362254082071, 5.533272495451397, 6.207724597777265, 6.437914253061855, 6.426930500178116, 6.436810358299671, 6.426737318594734, 6.443212947920341, 6.440329022854134, 6.437914253061855, 6.435872047751814, 6.40258962067194, 6.3894808703709955, 6.464849285259163, 6.379766596463769, 6.48560250678824, 6.468133372176664]\n"
     ]
    },
    {
     "data": {
      "image/png": "[encoded data removed]",
      "text/plain": [
       "<Figure size 640x480 with 1 Axes>"
      ]
     },
     "metadata": {},
     "output_type": "display_data"
    }
   ],
   "source": [
    "import matplotlib.pylab as plt\n",
    "\n",
    "\n",
    "for i in [t_1, t_2, t_3, t_4]:\n",
    "    print(list(i.values()))\n",
    "    x = list(i.keys())\n",
    "    y = np.array(list(i.values()))\n",
    "    plt.plot(x, y)\n",
    "plt.show()"
   ]
  },
  {
   "cell_type": "code",
   "execution_count": 114,
   "id": "aa1bf81a",
   "metadata": {},
   "outputs": [],
   "source": [
    "test = gdf_in.copy()\n",
    "res = test.sort_values(by=[\"ws_150\"])[::-1]\n",
    "# k = 2.686965394630808\n",
    "# A = 10.703942994264505"
   ]
  },
  {
   "cell_type": "code",
   "execution_count": 120,
   "id": "5656f68c",
   "metadata": {},
   "outputs": [
    {
     "data": {
      "text/plain": [
       "9.511642009282824"
      ]
     },
     "execution_count": 120,
     "metadata": {},
     "output_type": "execute_result"
    }
   ],
   "source": [
    "res[\"ws_150\"]"
   ]
  },
  {
   "cell_type": "code",
   "execution_count": 123,
   "id": "a07b53da",
   "metadata": {},
   "outputs": [
    {
     "data": {
      "text/plain": [
       "10.703846243522268"
      ]
     },
     "execution_count": 123,
     "metadata": {},
     "output_type": "execute_result"
    }
   ],
   "source": [
    "res[\"wb_A_150\"][:int(len(test) * 0.1)].mean()\n",
    "#res[\"wb_k_150\"][:int(len(test) * 0.1)].mean()"
   ]
  },
  {
   "cell_type": "markdown",
   "id": "d7fa85a8",
   "metadata": {},
   "source": [
    "# Test SOME STUFF BELOW"
   ]
  },
  {
   "cell_type": "code",
   "execution_count": 6,
   "id": "2f7735ae",
   "metadata": {},
   "outputs": [],
   "source": [
    "pa_gdf = gpd.read_file(f'{paths[\"gwa_placement_area\"]}', crs=param[\"epsg_general\"])"
   ]
  },
  {
   "cell_type": "code",
   "execution_count": 25,
   "id": "47fec36b",
   "metadata": {},
   "outputs": [
    {
     "data": {
      "text/plain": [
       "Index(['ad_100', 'ad_150', 'ad_200', 'ad_50', 'iec1', 'iec2', 'iec3', 'ws_100',\n",
       "       'ws_150', 'ws_200', 'ws_50', 'geometry', 'imp_500m', 'imp_750m',\n",
       "       'imp_1000m', 'imp_1250m', 'imp_1500m', 'imp_1750m', 'imp_2000m',\n",
       "       'imp_2250m', 'imp_2500m', 'imp_2750m', 'imp_3000m', 'imp_3250m',\n",
       "       'imp_3500m', 'imp_3750m', 'imp_4000m', 'imp_4250m', 'imp_4500m',\n",
       "       'imp_4750m', 'imp_5000m', 'imp_5250m', 'imp_5500m', 'imp_5750m',\n",
       "       'imp_6000m'],\n",
       "      dtype='object')"
      ]
     },
     "execution_count": 25,
     "metadata": {},
     "output_type": "execute_result"
    }
   ],
   "source": [
    "pa_gdf.columns"
   ]
  },
  {
   "cell_type": "code",
   "execution_count": 26,
   "id": "faeeb609",
   "metadata": {},
   "outputs": [],
   "source": [
    "def buffer_geoms(gdf_in, buffer, proj_epsg=25832):\n",
    "    '''\n",
    "    Function calculates a buffered GeoSeries from the geometry column of a geopandas DataFrame\n",
    "    in a given meter based coordinate reference system (crs) and converts it back to the orginial crs\n",
    "    '''\n",
    "    init_crs = gdf_in.crs\n",
    "    gdf_in = gdf_in.to_crs(proj_epsg)\n",
    "    buffered = gpd.GeoDataFrame(geometry = gdf_in.geometry.buffer(buffer)).to_crs(init_crs)\n",
    "\n",
    "    return buffered\n",
    "\n",
    "def add_house_impact_allocation(param_dict, paths_dict):\n",
    "    '''\n",
    "    Function calculates for a given set of impact zones (in meter) the number of affected houses per impact zone for each\n",
    "    cell in a given raster.\n",
    "\n",
    "    Parameters\n",
    "    ----------\n",
    "        param_dict : dict\n",
    "            parameter dictionary specified in the config.py file\n",
    "        paths_dict : dict\n",
    "            paths dictionary specified in the config.py file\n",
    "\n",
    "    Returns\n",
    "    -------\n",
    "        None\n",
    "    '''\n",
    "    osmfiles = glob.glob(os.path.join(paths_dict[\"osm_path\"], '*.zip'))\n",
    "    filename = paths_dict[\"osm_file_names\"][\"buildings\"]\n",
    "    #sub_files = np.array_split(osmfiles, 6)\n",
    "\n",
    "    # # Read in shapefile with house prices:\n",
    "    # hp_gdf = gpd.read_file(f'{paths_dict[\"house_prices\"]}', crs=param_dict[\"epsg_general\"])\n",
    "    # hp_gdf.loc[:, 'state'].replace({'-':'_', 'ü': 'ue', 'ä': 'ae', 'ö': 'oe'}, regex=True, inplace=True)\n",
    "    # hp_gdf.rename(columns={'avg_house_': 'hp', 'sqm_euro_v':'sqm_p', 'avg_apartm':'ap_size','no_appartm':'no_ap'}, inplace=True)\n",
    "\n",
    "    # Calculate number of affected houses per impact zone for each raster cell\n",
    "    print('Started calculating impact allocation')\n",
    "    start = time.process_time() # start time check for calculations\n",
    "    pa_gdf = gpd.read_file(f'{paths_dict[\"gwa_placement_area\"]}', crs=param_dict[\"epsg_general\"])\n",
    "    col_len = len(pa_gdf.columns)\n",
    "\n",
    "    for buff in param_dict[\"impact_buffers\"]:\n",
    "        print(f'Calculating {buff}m impacts...')\n",
    "        pa_buff = buffer_geoms(pa_gdf, buff , param_dict[\"epsg_distance_calc\"])\n",
    "\n",
    "        inter_list = []\n",
    "        for z in osmfiles:\n",
    "            # osm_list = []\n",
    "            # for file in z:\n",
    "            #print(f\"Reading buildings data from {z}/{filename}\")\n",
    "            osm_gdf = gpd.read_file(f\"zip://{z}/{filename}\").loc[:,['geometry']].to_crs(param_dict[\"epsg_distance_calc\"])\n",
    "            osm_gdf = osm_gdf.set_geometry(osm_gdf.centroid).to_crs(param_dict[\"epsg_general\"])\n",
    "            #osm_list.append(osm_gdf)\n",
    "\n",
    "            # Only consider residential areas\n",
    "            gdf_res = gpd.read_file(f\"zip://{z}/{paths_dict['osm_file_names']['landuse']}\").loc[:, ['fclass','geometry']]\n",
    "            gdf_res = gdf_res.loc[(gdf_res['fclass'] == 'residential')]\n",
    "            osm_gdf = gpd.clip(osm_gdf, gdf_res)\n",
    "\n",
    "            #reg_gdf = pd.concat(osm_list)\n",
    "            #dfsjoin = gpd.sjoin(pa_buff, reg_gdf, how=\"left\") #Spatial join Points to polygons\n",
    "            dfsjoin = gpd.sjoin(pa_buff, osm_gdf, how=\"left\") #Spatial join Points to polygons\n",
    "            counts = dfsjoin.groupby(dfsjoin.index)[\"index_right\"].count().to_numpy()\n",
    "\n",
    "            inter_list.append(counts) # add np.array of intersection count for file z to a list\n",
    "        \n",
    "\n",
    "        inter_vector = np.sum(inter_list, axis=0) # combine array list first to a single array and then sum over the relevant array column\n",
    "        pa_gdf[f'imp_{buff}m'] = inter_vector # Add impact to output GeoDataFrame\n",
    "        print(f\"Finished {buff}m impact zone. Time passed:\", time.process_time() - start)\n",
    "\n",
    "    # Correct impact double-counting:\n",
    "    # To avoid double counting of impacts subtract the larger buffer zone by the next smaller one\n",
    "    # The smallest buffer zone impact count will simply be subtracted by 0 \n",
    "    impacts_dc = pa_gdf.iloc[:, col_len:].copy().to_numpy()\n",
    "    sub_array= np.hstack((np.zeros((impacts_dc.shape[0],1)), impacts_dc[:, :-1])) # adds zero column to numpy array in position 0\n",
    "    corrected_impacts = impacts_dc - sub_array\n",
    "    pa_gdf.iloc[:, col_len:] = corrected_impacts.astype(int)\n",
    "\n",
    "    # # Add house price information to each cell\n",
    "    # print('Adding house price information')\n",
    "    # joined_gdf = gpd.sjoin(pa_gdf, hp_gdf, how=\"inner\", op=\"intersects\")\n",
    "    # joined_gdf.drop(columns=['index_right'], inplace=True)\n",
    "    # joined_gdf = joined_gdf[~joined_gdf.index.duplicated(keep=\"first\")] # drop duplicates keep first\n",
    "\n",
    "    # Save file:\n",
    "    # joined_gdf.to_file(f'{paths_dict[\"optimization_file\"]}', index=True)\n",
    "    pa_gdf.to_file(f'{paths_dict[\"optimization_file\"]}', index=True)\n",
    "    print('Finished generating impact allocation')\n",
    "\n",
    "    return None\n",
    "\n",
    "def add_house_price_info(param_dict, paths_dict):\n",
    "    \"\"\"\n",
    "    Function adds house price information to optimization GeoDataFrame (ogdf) based on an inner spatial\n",
    "    join with the ogdf rows (Expl.: Information is added to row if geometry of the ogdf is inside of the house price\n",
    "    region of the house price gdf)\n",
    "\n",
    "    Parameters\n",
    "    ----------\n",
    "        param_dict : dict\n",
    "            parameter dictionary specified in the config.py file\n",
    "        paths_dict : dict\n",
    "            paths dictionary specified in the config.py file\n",
    "    \"\"\"\n",
    "    # Read in shapefile with house prices:\n",
    "    hp_gdf = gpd.read_file(f'{paths_dict[\"house_prices\"]}', crs=param_dict[\"epsg_general\"])\n",
    "    hp_gdf.loc[:, 'state'].replace({'-':'_', 'ü': 'ue', 'ä': 'ae', 'ö': 'oe'}, regex=True, inplace=True)\n",
    "    hp_gdf.rename(columns={'avg_house_': 'hp', 'sqm_euro_v':'sqm_p', 'avg_apartm':'ap_size','no_appartm':'no_ap'}, inplace=True)\n",
    "\n",
    "    # Read in shapefile with turbine locations:\n",
    "    pa_gdf = gpd.read_file(f'{paths_dict[\"optimization_file\"]}', crs=param_dict[\"epsg_general\"])\n",
    "\n",
    "    # Add house price information to each raster cell\n",
    "    print('Adding house price information')\n",
    "    joined_gdf = gpd.sjoin(pa_gdf, hp_gdf, how=\"inner\", op=\"intersects\")\n",
    "    joined_gdf.drop(columns=['index_right'], inplace=True)\n",
    "    joined_gdf = joined_gdf[~joined_gdf.index.duplicated(keep=\"first\")] # drop duplicates keep first\n",
    "\n",
    "    # Save file:\n",
    "    joined_gdf.to_file(f'{paths_dict[\"optimization_file\"]}', index=True)\n",
    "    print(\"Final Number of cells:\", len(joined_gdf))"
   ]
  },
  {
   "cell_type": "code",
   "execution_count": 8,
   "id": "a8b2987a",
   "metadata": {},
   "outputs": [],
   "source": [
    "for buff in param[\"impact_buffers\"]:\n",
    "    pa_gdf[f'imp_{buff}m'] = 3000 # Add impact to output GeoDataFrame"
   ]
  },
  {
   "cell_type": "code",
   "execution_count": 23,
   "id": "17d0a93d",
   "metadata": {},
   "outputs": [],
   "source": [
    "param[\"impact_buffers\"] = [500]"
   ]
  },
  {
   "cell_type": "code",
   "execution_count": 24,
   "id": "154e0a0f",
   "metadata": {},
   "outputs": [
    {
     "name": "stdout",
     "output_type": "stream",
     "text": [
      "Started calculating impact allocation\n",
      "Calculating 500m impacts...\n",
      "Finished 500m impact zone. Time passed: 2065.953125\n",
      "Finished generating impact allocation\n"
     ]
    }
   ],
   "source": [
    "add_house_impact_allocation(param, paths)"
   ]
  },
  {
   "cell_type": "code",
   "execution_count": 27,
   "id": "38e1988f",
   "metadata": {},
   "outputs": [
    {
     "name": "stdout",
     "output_type": "stream",
     "text": [
      "Adding house price information\n",
      "Final Number of cells: 518702\n"
     ]
    }
   ],
   "source": [
    "add_house_price_info(param, paths)"
   ]
  },
  {
   "cell_type": "code",
   "execution_count": 10,
   "id": "eb6612b3",
   "metadata": {},
   "outputs": [],
   "source": [
    "pa_gdf.to_file(f'test.shp', index=True)\n"
   ]
  },
  {
   "cell_type": "code",
   "execution_count": 28,
   "id": "6076aa60",
   "metadata": {},
   "outputs": [],
   "source": [
    "res = gpd.read_file(f'{paths[\"optimization_file\"]}', crs=param[\"epsg_general\"])"
   ]
  },
  {
   "cell_type": "code",
   "execution_count": 29,
   "id": "a866c44a",
   "metadata": {},
   "outputs": [
    {
     "data": {
      "text/plain": [
       "Index(['level_0', 'index', 'ad_100', 'ad_150', 'ad_200', 'ad_50', 'iec1',\n",
       "       'iec2', 'iec3', 'ws_100', 'ws_150', 'ws_200', 'ws_50', 'imp_500m',\n",
       "       'county', 'CC_2', 'pop_count', 'pop_d_km2', 'state', 'sqm_p', 'ap_size',\n",
       "       'no_ap', 'hp', 'geometry'],\n",
       "      dtype='object')"
      ]
     },
     "execution_count": 29,
     "metadata": {},
     "output_type": "execute_result"
    }
   ],
   "source": [
    "res.columns"
   ]
  },
  {
   "cell_type": "code",
   "execution_count": 30,
   "id": "ca8973da",
   "metadata": {},
   "outputs": [],
   "source": [
    "import fiona"
   ]
  },
  {
   "cell_type": "code",
   "execution_count": 31,
   "id": "e482c124",
   "metadata": {},
   "outputs": [
    {
     "data": {
      "text/plain": [
       "{'AeronavFAA': 'r',\n",
       " 'ARCGEN': 'r',\n",
       " 'BNA': 'raw',\n",
       " 'DXF': 'raw',\n",
       " 'CSV': 'raw',\n",
       " 'OpenFileGDB': 'r',\n",
       " 'ESRIJSON': 'r',\n",
       " 'ESRI Shapefile': 'raw',\n",
       " 'GeoJSON': 'rw',\n",
       " 'GeoJSONSeq': 'rw',\n",
       " 'GPKG': 'rw',\n",
       " 'GML': 'raw',\n",
       " 'GPX': 'raw',\n",
       " 'GPSTrackMaker': 'raw',\n",
       " 'Idrisi': 'r',\n",
       " 'MapInfo File': 'raw',\n",
       " 'DGN': 'raw',\n",
       " 'PCIDSK': 'r',\n",
       " 'S57': 'r',\n",
       " 'SEGY': 'r',\n",
       " 'SUA': 'r',\n",
       " 'TopoJSON': 'r'}"
      ]
     },
     "execution_count": 31,
     "metadata": {},
     "output_type": "execute_result"
    }
   ],
   "source": [
    "fiona.supported_drivers  "
   ]
  },
  {
   "cell_type": "code",
   "execution_count": 159,
   "id": "eaba7663",
   "metadata": {},
   "outputs": [
    {
     "data": {
      "text/plain": [
       "9.085264998806013"
      ]
     },
     "execution_count": 159,
     "metadata": {},
     "output_type": "execute_result"
    }
   ],
   "source": [
    "wind_power_function(3, 115/2, 1.225, 1) *1000 * "
   ]
  },
  {
   "cell_type": "code",
   "execution_count": 165,
   "id": "91e80219",
   "metadata": {},
   "outputs": [],
   "source": [
    "res = 0\n",
    "for i in range(1,25):\n",
    "    res += weibull_wind_pdf(i, 2, 6)"
   ]
  },
  {
   "cell_type": "code",
   "execution_count": 181,
   "id": "f9332f93",
   "metadata": {},
   "outputs": [
    {
     "data": {
      "text/plain": [
       "0.0007253225200641318"
      ]
     },
     "execution_count": 181,
     "metadata": {},
     "output_type": "execute_result"
    }
   ],
   "source": [
    "weibull_wind_pdf(16, 2, 6)"
   ]
  },
  {
   "cell_type": "code",
   "execution_count": 182,
   "id": "2459f1ec",
   "metadata": {},
   "outputs": [
    {
     "data": {
      "text/plain": [
       "0.0011670171501269447"
      ]
     },
     "execution_count": 182,
     "metadata": {},
     "output_type": "execute_result"
    }
   ],
   "source": [
    "(0.0016087117801897577 + 0.0007253225200641318)/2"
   ]
  }
 ],
 "metadata": {
  "kernelspec": {
   "display_name": "Python 3 (ipykernel)",
   "language": "python",
   "name": "python3"
  },
  "language_info": {
   "codemirror_mode": {
    "name": "ipython",
    "version": 3
   },
   "file_extension": ".py",
   "mimetype": "text/x-python",
   "name": "python",
   "nbconvert_exporter": "python",
   "pygments_lexer": "ipython3",
   "version": "3.10.1"
  }
 },
 "nbformat": 4,
 "nbformat_minor": 5
}
