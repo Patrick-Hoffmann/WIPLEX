{
 "cells": [
  {
   "cell_type": "code",
   "execution_count": 1,
   "id": "5785a0e3",
   "metadata": {},
   "outputs": [],
   "source": [
    "import pandas as pd\n",
    "import geopandas as gpd\n",
    "import ast\n",
    "import numpy as np\n",
    "import pulp as plp\n",
    "import pickle\n",
    "from pathlib import Path\n",
    "import glob"
   ]
  },
  {
   "cell_type": "code",
   "execution_count": 12,
   "id": "0b78545d",
   "metadata": {},
   "outputs": [
    {
     "data": {
      "text/plain": [
       "['GLPK_CMD', 'CPLEX_CMD', 'COIN_CMD', 'SCIP_CMD']"
      ]
     },
     "execution_count": 12,
     "metadata": {},
     "output_type": "execute_result"
    }
   ],
   "source": [
    "plp.listSolvers(onlyAvailable=True)"
   ]
  },
  {
   "cell_type": "markdown",
   "id": "a40dcfc1",
   "metadata": {},
   "source": [
    "# Calculate Zone differences"
   ]
  },
  {
   "cell_type": "code",
   "execution_count": 13,
   "id": "c1654aa3",
   "metadata": {},
   "outputs": [
    {
     "ename": "KeyboardInterrupt",
     "evalue": "",
     "output_type": "error",
     "traceback": [
      "\u001b[1;31m---------------------------------------------------------------------------\u001b[0m",
      "\u001b[1;31mKeyboardInterrupt\u001b[0m                         Traceback (most recent call last)",
      "Cell \u001b[1;32mIn [13], line 3\u001b[0m\n\u001b[0;32m      1\u001b[0m \u001b[38;5;66;03m# Load in optimization file:\u001b[39;00m\n\u001b[0;32m      2\u001b[0m file_path \u001b[38;5;241m=\u001b[39m \u001b[38;5;124m\"\u001b[39m\u001b[38;5;124mE:\u001b[39m\u001b[38;5;124m\\\u001b[39m\u001b[38;5;124mMaster_Thesis\u001b[39m\u001b[38;5;124m\\\u001b[39m\u001b[38;5;124mWIPLEX\u001b[39m\u001b[38;5;124m\\\u001b[39m\u001b[38;5;124mDatabase\u001b[39m\u001b[38;5;124m\\\u001b[39m\u001b[38;5;124mIntermediate Outputs\u001b[39m\u001b[38;5;124m\\\u001b[39m\u001b[38;5;124mopt_DEU_500_tmp.shp\u001b[39m\u001b[38;5;124m\"\u001b[39m\n\u001b[1;32m----> 3\u001b[0m gdf_in \u001b[38;5;241m=\u001b[39m \u001b[43mgpd\u001b[49m\u001b[38;5;241;43m.\u001b[39;49m\u001b[43mread_file\u001b[49m\u001b[43m(\u001b[49m\u001b[43mfile_path\u001b[49m\u001b[43m)\u001b[49m\n",
      "File \u001b[1;32m~\\Anaconda3\\envs\\mt_env\\lib\\site-packages\\geopandas\\io\\file.py:244\u001b[0m, in \u001b[0;36m_read_file\u001b[1;34m(filename, bbox, mask, rows, **kwargs)\u001b[0m\n\u001b[0;32m    239\u001b[0m \u001b[38;5;28;01mif\u001b[39;00m kwargs\u001b[38;5;241m.\u001b[39mget(\u001b[38;5;124m\"\u001b[39m\u001b[38;5;124mignore_geometry\u001b[39m\u001b[38;5;124m\"\u001b[39m, \u001b[38;5;28;01mFalse\u001b[39;00m):\n\u001b[0;32m    240\u001b[0m     \u001b[38;5;28;01mreturn\u001b[39;00m pd\u001b[38;5;241m.\u001b[39mDataFrame(\n\u001b[0;32m    241\u001b[0m         [record[\u001b[38;5;124m\"\u001b[39m\u001b[38;5;124mproperties\u001b[39m\u001b[38;5;124m\"\u001b[39m] \u001b[38;5;28;01mfor\u001b[39;00m record \u001b[38;5;129;01min\u001b[39;00m f_filt], columns\u001b[38;5;241m=\u001b[39mcolumns\n\u001b[0;32m    242\u001b[0m     )\n\u001b[1;32m--> 244\u001b[0m \u001b[38;5;28;01mreturn\u001b[39;00m \u001b[43mGeoDataFrame\u001b[49m\u001b[38;5;241;43m.\u001b[39;49m\u001b[43mfrom_features\u001b[49m\u001b[43m(\u001b[49m\n\u001b[0;32m    245\u001b[0m \u001b[43m    \u001b[49m\u001b[43mf_filt\u001b[49m\u001b[43m,\u001b[49m\u001b[43m \u001b[49m\u001b[43mcrs\u001b[49m\u001b[38;5;241;43m=\u001b[39;49m\u001b[43mcrs\u001b[49m\u001b[43m,\u001b[49m\u001b[43m \u001b[49m\u001b[43mcolumns\u001b[49m\u001b[38;5;241;43m=\u001b[39;49m\u001b[43mcolumns\u001b[49m\u001b[43m \u001b[49m\u001b[38;5;241;43m+\u001b[39;49m\u001b[43m \u001b[49m\u001b[43m[\u001b[49m\u001b[38;5;124;43m\"\u001b[39;49m\u001b[38;5;124;43mgeometry\u001b[39;49m\u001b[38;5;124;43m\"\u001b[39;49m\u001b[43m]\u001b[49m\n\u001b[0;32m    246\u001b[0m \u001b[43m\u001b[49m\u001b[43m)\u001b[49m\n",
      "File \u001b[1;32m~\\Anaconda3\\envs\\mt_env\\lib\\site-packages\\geopandas\\geodataframe.py:605\u001b[0m, in \u001b[0;36mGeoDataFrame.from_features\u001b[1;34m(cls, features, crs, columns)\u001b[0m\n\u001b[0;32m    602\u001b[0m \u001b[38;5;28;01mif\u001b[39;00m \u001b[38;5;28mhasattr\u001b[39m(feature, \u001b[38;5;124m\"\u001b[39m\u001b[38;5;124m__geo_interface__\u001b[39m\u001b[38;5;124m\"\u001b[39m):\n\u001b[0;32m    603\u001b[0m     feature \u001b[38;5;241m=\u001b[39m feature\u001b[38;5;241m.\u001b[39m__geo_interface__\n\u001b[0;32m    604\u001b[0m row \u001b[38;5;241m=\u001b[39m {\n\u001b[1;32m--> 605\u001b[0m     \u001b[38;5;124m\"\u001b[39m\u001b[38;5;124mgeometry\u001b[39m\u001b[38;5;124m\"\u001b[39m: \u001b[43mshape\u001b[49m\u001b[43m(\u001b[49m\u001b[43mfeature\u001b[49m\u001b[43m[\u001b[49m\u001b[38;5;124;43m\"\u001b[39;49m\u001b[38;5;124;43mgeometry\u001b[39;49m\u001b[38;5;124;43m\"\u001b[39;49m\u001b[43m]\u001b[49m\u001b[43m)\u001b[49m \u001b[38;5;28;01mif\u001b[39;00m feature[\u001b[38;5;124m\"\u001b[39m\u001b[38;5;124mgeometry\u001b[39m\u001b[38;5;124m\"\u001b[39m] \u001b[38;5;28;01melse\u001b[39;00m \u001b[38;5;28;01mNone\u001b[39;00m\n\u001b[0;32m    606\u001b[0m }\n\u001b[0;32m    607\u001b[0m \u001b[38;5;66;03m# load properties\u001b[39;00m\n\u001b[0;32m    608\u001b[0m row\u001b[38;5;241m.\u001b[39mupdate(feature[\u001b[38;5;124m\"\u001b[39m\u001b[38;5;124mproperties\u001b[39m\u001b[38;5;124m\"\u001b[39m])\n",
      "File \u001b[1;32m~\\Anaconda3\\envs\\mt_env\\lib\\site-packages\\shapely\\geometry\\geo.py:106\u001b[0m, in \u001b[0;36mshape\u001b[1;34m(context)\u001b[0m\n\u001b[0;32m    104\u001b[0m     \u001b[38;5;28;01mreturn\u001b[39;00m _empty_shape_for_no_coordinates(geom_type)\n\u001b[0;32m    105\u001b[0m \u001b[38;5;28;01melif\u001b[39;00m geom_type \u001b[38;5;241m==\u001b[39m \u001b[38;5;124m\"\u001b[39m\u001b[38;5;124mpoint\u001b[39m\u001b[38;5;124m\"\u001b[39m:\n\u001b[1;32m--> 106\u001b[0m     \u001b[38;5;28;01mreturn\u001b[39;00m \u001b[43mPoint\u001b[49m\u001b[43m(\u001b[49m\u001b[43mob\u001b[49m\u001b[43m[\u001b[49m\u001b[38;5;124;43m\"\u001b[39;49m\u001b[38;5;124;43mcoordinates\u001b[39;49m\u001b[38;5;124;43m\"\u001b[39;49m\u001b[43m]\u001b[49m\u001b[43m)\u001b[49m\n\u001b[0;32m    107\u001b[0m \u001b[38;5;28;01melif\u001b[39;00m geom_type \u001b[38;5;241m==\u001b[39m \u001b[38;5;124m\"\u001b[39m\u001b[38;5;124mlinestring\u001b[39m\u001b[38;5;124m\"\u001b[39m:\n\u001b[0;32m    108\u001b[0m     \u001b[38;5;28;01mreturn\u001b[39;00m LineString(ob[\u001b[38;5;124m\"\u001b[39m\u001b[38;5;124mcoordinates\u001b[39m\u001b[38;5;124m\"\u001b[39m])\n",
      "File \u001b[1;32m~\\Anaconda3\\envs\\mt_env\\lib\\site-packages\\shapely\\geometry\\point.py:51\u001b[0m, in \u001b[0;36mPoint.__init__\u001b[1;34m(self, *args)\u001b[0m\n\u001b[0;32m     49\u001b[0m \u001b[38;5;28;01mif\u001b[39;00m \u001b[38;5;28mlen\u001b[39m(args) \u001b[38;5;241m>\u001b[39m \u001b[38;5;241m0\u001b[39m:\n\u001b[0;32m     50\u001b[0m     \u001b[38;5;28;01mif\u001b[39;00m \u001b[38;5;28mlen\u001b[39m(args) \u001b[38;5;241m==\u001b[39m \u001b[38;5;241m1\u001b[39m:\n\u001b[1;32m---> 51\u001b[0m         geom, n \u001b[38;5;241m=\u001b[39m \u001b[43mgeos_point_from_py\u001b[49m\u001b[43m(\u001b[49m\u001b[43margs\u001b[49m\u001b[43m[\u001b[49m\u001b[38;5;241;43m0\u001b[39;49m\u001b[43m]\u001b[49m\u001b[43m)\u001b[49m\n\u001b[0;32m     52\u001b[0m     \u001b[38;5;28;01melif\u001b[39;00m \u001b[38;5;28mlen\u001b[39m(args) \u001b[38;5;241m>\u001b[39m \u001b[38;5;241m3\u001b[39m:\n\u001b[0;32m     53\u001b[0m         \u001b[38;5;28;01mraise\u001b[39;00m \u001b[38;5;167;01mTypeError\u001b[39;00m(\n\u001b[0;32m     54\u001b[0m             \u001b[38;5;124m\"\u001b[39m\u001b[38;5;124mPoint() takes at most 3 arguments (\u001b[39m\u001b[38;5;132;01m{}\u001b[39;00m\u001b[38;5;124m given)\u001b[39m\u001b[38;5;124m\"\u001b[39m\u001b[38;5;241m.\u001b[39mformat(\u001b[38;5;28mlen\u001b[39m(args))\n\u001b[0;32m     55\u001b[0m         )\n",
      "File \u001b[1;32m~\\Anaconda3\\envs\\mt_env\\lib\\site-packages\\shapely\\geometry\\point.py:286\u001b[0m, in \u001b[0;36mgeos_point_from_py\u001b[1;34m(ob, update_geom, update_ndim)\u001b[0m\n\u001b[0;32m    284\u001b[0m     \u001b[38;5;28;01mreturn\u001b[39;00m \u001b[38;5;28;01mNone\u001b[39;00m\n\u001b[0;32m    285\u001b[0m \u001b[38;5;28;01melse\u001b[39;00m:\n\u001b[1;32m--> 286\u001b[0m     \u001b[38;5;28;01mreturn\u001b[39;00m \u001b[43mlgeos\u001b[49m\u001b[38;5;241;43m.\u001b[39;49m\u001b[43mGEOSGeom_createPoint\u001b[49m\u001b[43m(\u001b[49m\u001b[43mcs\u001b[49m\u001b[43m)\u001b[49m, n\n",
      "\u001b[1;31mKeyboardInterrupt\u001b[0m: "
     ]
    }
   ],
   "source": [
    "# Load in optimization file:\n",
    "file_path = \"E:\\Master_Thesis\\WIPLEX\\Database\\Intermediate Outputs\\opt_DEU_500_tmp.shp\"\n",
    "gdf_in = gpd.read_file(file_path)"
   ]
  },
  {
   "cell_type": "code",
   "execution_count": null,
   "id": "67626ad9",
   "metadata": {},
   "outputs": [],
   "source": [
    "# Select columns\n",
    "col_filter = [col for col in gdf_in if col.startswith('imp_')]\n",
    "impacts_dc =  gdf_in.loc[:, col_filter].copy().to_numpy()"
   ]
  },
  {
   "cell_type": "code",
   "execution_count": null,
   "id": "851342cc",
   "metadata": {},
   "outputs": [],
   "source": [
    "def calculate_zone_difference(impact_array):\n",
    "    '''\n",
    "    Function calculates the difference between columns of a numpy.array by subtracting the left column from the next column\n",
    "    to the right. For the first column, a vector of zeros is subtracted\n",
    "    '''\n",
    "    #impacts_dc = pa_gdf.iloc[:, col_len:].copy().to_numpy()\n",
    "    sub_array= np.hstack((np.zeros((impact_array.shape[0],1)), impact_array[:, :-1])) # adds zero column to numpy array in position 0\n",
    "    corrected_impacts = impact_array - sub_array\n",
    "    return corrected_impacts.astype(int)"
   ]
  },
  {
   "cell_type": "code",
   "execution_count": 13,
   "id": "c3a85e44",
   "metadata": {},
   "outputs": [],
   "source": [
    "gdf_in.loc[:, col_filter] = calculate_zone_difference(impacts_dc)"
   ]
  },
  {
   "cell_type": "code",
   "execution_count": 15,
   "id": "2c1672a7",
   "metadata": {},
   "outputs": [],
   "source": [
    "gdf_in.to_file(f'E:\\Master_Thesis\\WIPLEX\\Database\\Intermediate Outputs\\opt_DEU_500.shp')"
   ]
  },
  {
   "cell_type": "markdown",
   "id": "a26ce114",
   "metadata": {},
   "source": [
    "# Read in optimization files and preprocess data"
   ]
  },
  {
   "cell_type": "code",
   "execution_count": 72,
   "id": "8996cf17",
   "metadata": {},
   "outputs": [],
   "source": [
    "# Load in turbine types:\n",
    "t_types = pd.read_excel(\"assumptions.xlsx\", sheet_name=\"Turbine_Types\")\n",
    "\n",
    "# Load in Power Coefficients:\n",
    "cps = pd.read_excel(\"assumptions.xlsx\", sheet_name=\"Power_Coefficient\", skiprows=3)\n",
    "\n",
    "# Load in damage assumption:\n",
    "damages = pd.read_excel(\"assumptions.xlsx\", sheet_name=\"Sze1\", skiprows=2)"
   ]
  },
  {
   "cell_type": "code",
   "execution_count": 6,
   "id": "04ab3bfb",
   "metadata": {},
   "outputs": [],
   "source": [
    "opt_gdf = gpd.read_file(f'E:\\Master_Thesis\\WIPLEX\\Database\\Intermediate Outputs\\opt_DEU_500.shp')"
   ]
  },
  {
   "cell_type": "code",
   "execution_count": 7,
   "id": "21bcb9c0",
   "metadata": {},
   "outputs": [],
   "source": [
    "opt_gdf_sub = opt_gdf.copy().iloc[:3000]"
   ]
  },
  {
   "cell_type": "code",
   "execution_count": 73,
   "id": "db13edae",
   "metadata": {},
   "outputs": [],
   "source": [
    "# Preprocess data:\n",
    "\n",
    "# Transpose Turbine Type dataframe:\n",
    "t_types = t_types.set_index(\"Variable\").T #.reset_index(drop=True)\n",
    "# t_types = t_types.set_index(0).T.reset_index(drop=True)\n",
    "# t_types.index.name = None"
   ]
  },
  {
   "cell_type": "code",
   "execution_count": 53,
   "id": "30eaf61d",
   "metadata": {},
   "outputs": [],
   "source": [
    "def wind_speed_to_cp(ws_array, cp_df):\n",
    "    cp = np.round(ws_array.copy())\n",
    "    for wind_speed in cp_df[\"Wind Speed\"]:\n",
    "        for i in range(ws_array.shape[1]):\n",
    "            cp[:, i][cp[:, i] == wind_speed] = cp_df[cp_df[\"Wind Speed\"] == wind_speed].iloc[:,i+1]\n",
    "    return cp"
   ]
  },
  {
   "cell_type": "code",
   "execution_count": 54,
   "id": "eb4ae604",
   "metadata": {},
   "outputs": [],
   "source": [
    "ws_inter = t_types.apply(lambda x: interpolate_wind_speeds(opt_gdf_sub, ast.literal_eval(x[\"Wind speed layer (m)\"]),\n",
    "                                                      x[\"Hub height (m)\"]), axis=1)\n",
    "ws_array = np.stack(ws_inter.values.flatten()).T"
   ]
  },
  {
   "cell_type": "code",
   "execution_count": 58,
   "id": "5ba04c57",
   "metadata": {},
   "outputs": [],
   "source": [
    "def wind_speed_to_cp(ws_array, cp_df):\n",
    "    cp = np.round(ws_array.copy())\n",
    "    for wind_speed in cp_df[\"Wind Speed\"]:\n",
    "        for i in range(ws_array.shape[1]):\n",
    "            cp[:, i][cp[:, i] == wind_speed] = cp_df[cp_df[\"Wind Speed\"] == wind_speed].iloc[:,i+1]\n",
    "    return cp\n",
    "    \n",
    "def interpolate_wind_speeds(gdf, layer_tuple, height):\n",
    "    '''\n",
    "    Function linearly interpolates wind speeds between two columns of a geopandas GeoDataFrame given\n",
    "    a tuple of wind speed layers (lower, higher) and a desired height\n",
    "    '''\n",
    "    ws_inp = gdf[[f\"ws_{layer_tuple[0]}\", f\"ws_{layer_tuple[1]}\"]].to_numpy()\n",
    "    return ws_inp[:,0] + (ws_inp[:,1] - ws_inp[:,0]) * height/layer_tuple[1]\n",
    "\n",
    "def interpolate_air_density(gdf, layer_tuple, height):\n",
    "    '''\n",
    "    Function linearly interpolates air densities between two columns of a geopandas GeoDataFrame given\n",
    "    a tuple of air density layers (lower, higher) and a desired height\n",
    "    '''\n",
    "    ad_inp = gdf[[f\"ad_{layer_tuple[0]}\", f\"ad_{layer_tuple[1]}\"]].to_numpy()\n",
    "    return ad_inp[:,0] + (ad_inp[:,1] - ad_inp[:,0]) * height/layer_tuple[1]\n",
    "\n",
    "def calculate_property_value(gdf, impact_range):\n",
    "    '''\n",
    "    Function calulates the aggregate property value of buildings in each impact zone for all cells in the gdf.\n",
    "    Parameters\n",
    "    ----------\n",
    "        gdf :  geopandas.GeoDataFrame\n",
    "            GeoDataFrame containing house price and property impact information (columns: eg: imp_500m,..., hp )\n",
    "        impact_range : list\n",
    "            list of integers specifying which impact ranges to use for the analysis\n",
    "    Returns:\n",
    "    --------\n",
    "        impacts_hp : numpy.array\n",
    "            Array containing aggregate property values for each cell and impact zone (cell x zone)\n",
    "    '''\n",
    "    # Define impact matrix\n",
    "    imp_list = [f\"imp_{i}m\" for i in impact_range]\n",
    "    impacts = gdf.loc[:, imp_list].to_numpy()\n",
    "    \n",
    "    # Calculate aggregate  property values per impact zone:\n",
    "    impacts_hp = impacts * gdf[\"hp\"].to_numpy().reshape(-1, 1)\n",
    "    \n",
    "    return impacts_hp"
   ]
  },
  {
   "cell_type": "markdown",
   "id": "7e1d567d",
   "metadata": {},
   "source": [
    "## Calculations:"
   ]
  },
  {
   "cell_type": "markdown",
   "id": "330da5c4",
   "metadata": {},
   "source": [
    "## Calculating location cost"
   ]
  },
  {
   "cell_type": "code",
   "execution_count": 59,
   "id": "829cbcba",
   "metadata": {},
   "outputs": [],
   "source": [
    "def calculate_location_costs(gdf, damage_df, t_types_df, impact_range, externality=True):\n",
    "    # Definition of property damage matrix:\n",
    "    damage_selection = damage_df.loc[damage_df[\"Upper\"].isin(impact_range)]\n",
    "    prop_damages = damage_selection[list(t_types_df[\"Name\"])].to_numpy()\n",
    "\n",
    "    # Obtain house price values for each location\n",
    "    prop_values = calculate_property_value(gdf, impact_range)/1000000\n",
    "    \n",
    "    # Caclulation of externalities:\n",
    "    if not externality:\n",
    "        ext_cost = np.zeros((len(gdf), len(t_types)))\n",
    "    else:\n",
    "        ext_cost = np.round(prop_values @ prop_damages, 2)\n",
    "\n",
    "    # Calculation of construction costs:\n",
    "    const_cost = t_types[\"Total construction cost (million €)\"].to_numpy().reshape(1,-1)\n",
    "\n",
    "    # Calc total costs:\n",
    "    total_cost = ext_cost + const_cost\n",
    "    \n",
    "    return total_cost, ext_cost, const_cost"
   ]
  },
  {
   "cell_type": "markdown",
   "id": "1bdafc2f",
   "metadata": {},
   "source": [
    "## Calculating location power output"
   ]
  },
  {
   "cell_type": "code",
   "execution_count": 66,
   "id": "d3f5d759",
   "metadata": {},
   "outputs": [],
   "source": [
    "def calculate_wind_power(gdf_in, t_types_df, cp_df):\n",
    "    # Wind speed and air density interpolation:\n",
    "    ws_inter = t_types_df.apply(lambda x: interpolate_wind_speeds(gdf_in, ast.literal_eval(x[\"Wind speed layer (m)\"]),\n",
    "                                                          x[\"Hub height (m)\"]), axis=1)\n",
    "    ws_array = np.stack(ws_inter.values.flatten()).T\n",
    "    \n",
    "    # Wind turbine power coefficient:\n",
    "    cp_array = wind_speed_to_cp(ws_array, cp_df)\n",
    "\n",
    "    ad_inter = t_types.apply(lambda x: interpolate_air_density(gdf_in, ast.literal_eval(x[\"Wind speed layer (m)\"]),\n",
    "                                                          x[\"Hub height (m)\"]), axis=1)\n",
    "    ad_array = np.stack(ad_inter.values.flatten()).T\n",
    "\n",
    "    # Rotor blade radius:\n",
    "    blade_radius = t_types_df[\"Rotor diameter (m)\"].to_numpy()/2\n",
    "    \n",
    "    # Calculating costs using wind power function\n",
    "    wpc = (np.pi/2) * ws_array**3 * blade_radius**2 * ad_array * cp_array * 1e-6  # the 1e-6 are needed to convert from W to MW\n",
    "    \n",
    "    return wpc"
   ]
  },
  {
   "cell_type": "markdown",
   "id": "841dfce9",
   "metadata": {},
   "source": [
    "# Optimization Problem"
   ]
  },
  {
   "cell_type": "code",
   "execution_count": 67,
   "id": "dd6fbf55",
   "metadata": {},
   "outputs": [],
   "source": [
    "def minimization_problem(total_cost, wpc, expansion_goal):\n",
    "    '''\n",
    "    Main optimization function of the Wind turbine placement algorithm\n",
    "\n",
    "    Parameters\n",
    "    ----------\n",
    "    total_cost : np.array\n",
    "        Array containing the total cost (project + externality cost) for each wind turbine\n",
    "        and placement location.\n",
    "    wpc : np.array\n",
    "        Array containing the wind power capacity values for each turbine and location.\n",
    "    expansion_goal : int\n",
    "        Value representing the expansion goal (in MW).\n",
    "\n",
    "    Returns\n",
    "    -------\n",
    "    turbines_opt : np.arrays\n",
    "        Array containing Bolean values (0,1) for each turbine and location. It indicates\n",
    "        which turbine is built in which location (array element=1)\n",
    "\n",
    "    '''\n",
    "    # Create model\n",
    "    m = plp.LpProblem(\"TC_Germany\", plp.LpMinimize)\n",
    "\n",
    "\n",
    "    # Choice Variables:\n",
    "    t_list = []\n",
    "    for i in range(total_cost.shape[1]):\n",
    "        turbine = plp.LpVariable.dicts(f't{i}', range(len(total_cost)) , lowBound=0, upBound=1, cat=plp.LpBinary)\n",
    "#     turbines_100 = plp.LpVariable.dicts('t1', range(len(total_cost)) , lowBound=0, upBound=1, cat=plp.LpBinary) #plp.LpInteger\n",
    "#     turbines_150 = plp.LpVariable.dicts('t2', range(len(total_cost)) , lowBound=0, upBound=1, cat=plp.LpBinary)\n",
    "        t_list.append(list(turbine.values()))\n",
    "    \n",
    "    #turbines = np.array([list(turbines_100.values()), list(turbines_150.values())]).T\n",
    "    turbines = np.array(t_list).T\n",
    "\n",
    "    # # Objective\n",
    "    #print('Setting up Objective Function...')\n",
    "    m += plp.lpSum(total_cost * turbines)\n",
    "\n",
    "    # Constraint\n",
    "    #print('Adding constraints...')\n",
    "    m += plp.lpSum(wpc * turbines) >= expansion_goal, \"Expansion Constraint\"\n",
    "\n",
    "    for i in range(len(turbines)):\n",
    "        m += plp.lpSum(turbines[i,:]) <= 1, f\"Site constraint {i}\"\n",
    "\n",
    "\n",
    "    # Define the solver:\n",
    "        \n",
    "    # solver = plp.GUROBI_CMD(msg=0, options=[(\"MIPGap\", 1e-3)])\n",
    "    #solver = plp.PULP_CBC_CMD(msg=0)\n",
    "    solver = plp.GLPK_CMD(path='C:\\\\Program Files\\\\glpk-4.65\\\\w64\\\\glpsol.exe', msg=0, options = [\"--mipgap\", \"0.01\"])  #,\"--tmlim\", \"2000\"\n",
    "    # use other solver: plp.PULP_CBC_CMD(msg=0) ; plp.GLPK_CMD(path='C:\\\\Program Files\\\\glpk-4.65\\\\w64\\\\glpsol.exe', msg=0, options = [\"--mipgap\", \"0.001\",\"--tmlim\", \"1000\"])\n",
    "\n",
    "\n",
    "    # Optimize\n",
    "    #print('Started optimization')\n",
    "    m.solve(solver)\n",
    "\n",
    "\n",
    "    # Print the status of the solved LP\n",
    "    print(f\"Status = {plp.LpStatus[m.status]}\")\n",
    "\n",
    "    # Print the value of the objective\n",
    "    print(f\"Objective value = {plp.value(m.objective)}\")\n",
    "\n",
    "    # Print the value of the constraint:\n",
    "    sel = []\n",
    "    for constraint in m.constraints:\n",
    "        if constraint == \"Expansion_Constraint\":\n",
    "            constraint_sum = 0\n",
    "            for var, coefficient in m.constraints[constraint].items():\n",
    "                constraint_sum += var.varValue * coefficient\n",
    "                sel.append(var.varValue)\n",
    "            print(m.constraints[constraint].name, constraint_sum)\n",
    "        else:\n",
    "            pass\n",
    "    \n",
    "    turbine_opt_list = []\n",
    "    for turbine_type in t_list:\n",
    "        turbine_results = [t.varValue for t in turbine_type]\n",
    "        turbine_opt_list.append(turbine_results)\n",
    "            \n",
    "    #t1 = [t.varValue for t in list(turbines_100.values())]\n",
    "    #t2 = [t.varValue for t in list(turbines_150.values())]\n",
    "    \n",
    "    turbines_opt = np.array(turbine_opt_list).T\n",
    "    #turbines_opt = np.array([t1, t2]).T\n",
    "    \n",
    "    return turbines_opt"
   ]
  },
  {
   "cell_type": "code",
   "execution_count": 68,
   "id": "c88853a2",
   "metadata": {},
   "outputs": [],
   "source": [
    "def minimization_problem_old(total_cost, wpc, expansion_goal):\n",
    "    '''\n",
    "    Main optimization function of the Wind turbine placement algorithm\n",
    "\n",
    "    Parameters\n",
    "    ----------\n",
    "    total_cost : np.array\n",
    "        Array containing the total cost (project + externality cost) for each wind turbine\n",
    "        and placement location.\n",
    "    wpc : np.array\n",
    "        Array containing the wind power capacity values for each turbine and location.\n",
    "    expansion_goal : int\n",
    "        Value representing the expansion goal (in MW).\n",
    "\n",
    "    Returns\n",
    "    -------\n",
    "    turbines_opt : np.arrays\n",
    "        Array containing Bolean values (0,1) for each turbine and location. It indicates\n",
    "        which turbine is built in which location (array element=1)\n",
    "\n",
    "    '''\n",
    "    # Create model\n",
    "    m = plp.LpProblem(\"TC_Germany\", plp.LpMinimize)\n",
    "\n",
    "\n",
    "    # Choice Variables:\n",
    "#     t_list = []\n",
    "#     for i in range(total_cost.shape[1]):\n",
    "#         turbine = plp.LpVariable.dicts(f't{i}', range(len(total_cost)) , lowBound=0, upBound=1, cat=plp.LpBinary)\n",
    "#         t_list.append(list(turbine.values()))\n",
    "    turbines_100 = plp.LpVariable.dicts('t1', range(len(total_cost)) , lowBound=0, upBound=1, cat=plp.LpBinary) #plp.LpInteger\n",
    "    turbines_150 = plp.LpVariable.dicts('t2', range(len(total_cost)) , lowBound=0, upBound=1, cat=plp.LpBinary)\n",
    "\n",
    "    \n",
    "    turbines = np.array([list(turbines_100.values()), list(turbines_150.values())]).T\n",
    "    # turbines = np.array(t_list).T\n",
    "\n",
    "    # # Objective\n",
    "    #print('Setting up Objective Function...')\n",
    "    m += plp.lpSum(total_cost * turbines)\n",
    "\n",
    "    # Constraint\n",
    "    #print('Adding constraints...')\n",
    "    m += plp.lpSum(wpc * turbines) >= expansion_goal, \"Expansion Constraint\"\n",
    "\n",
    "    for i in range(len(turbines)):\n",
    "        m += plp.lpSum(turbines[i,:]) <= 1, f\"Site constraint {i}\"\n",
    "\n",
    "\n",
    "    # Define the solver:\n",
    "        \n",
    "    # solver = plp.GUROBI_CMD(msg=0, options=[(\"MIPGap\", 1e-3)])\n",
    "    #solver = plp.PULP_CBC_CMD(msg=0)\n",
    "    solver = plp.GLPK_CMD(path='C:\\\\Program Files\\\\glpk-4.65\\\\w64\\\\glpsol.exe', msg=0, options = [\"--mipgap\", \"0.01\"])  #,\"--tmlim\", \"2000\"\n",
    "    # use other solver: plp.PULP_CBC_CMD(msg=0) ; plp.GLPK_CMD(path='C:\\\\Program Files\\\\glpk-4.65\\\\w64\\\\glpsol.exe', msg=0, options = [\"--mipgap\", \"0.001\",\"--tmlim\", \"1000\"])\n",
    "\n",
    "\n",
    "    # Optimize\n",
    "    #print('Started optimization')\n",
    "    m.solve(solver)\n",
    "\n",
    "\n",
    "    # Print the status of the solved LP\n",
    "    print(f\"Status = {plp.LpStatus[m.status]}\")\n",
    "\n",
    "    # Print the value of the objective\n",
    "    print(f\"Objective value = {plp.value(m.objective)}\")\n",
    "\n",
    "    # Print the value of the constraint:\n",
    "    sel = []\n",
    "    for constraint in m.constraints:\n",
    "        if constraint == \"Expansion_Constraint\":\n",
    "            constraint_sum = 0\n",
    "            for var, coefficient in m.constraints[constraint].items():\n",
    "                constraint_sum += var.varValue * coefficient\n",
    "                sel.append(var.varValue)\n",
    "            print(m.constraints[constraint].name, constraint_sum)\n",
    "        else:\n",
    "            pass\n",
    "    \n",
    "#     turbine_opt_list = []\n",
    "#     for turbine_type in t_list:\n",
    "#         turbine_results = [t.varValue for t in turbine_type]\n",
    "#         turbine_opt_list.append(turbine_results)\n",
    "            \n",
    "    t1 = [t.varValue for t in list(turbines_100.values())]\n",
    "    t2 = [t.varValue for t in list(turbines_150.values())]\n",
    "    \n",
    "    # turbines_opt = np.array(turbine_opt_list).T\n",
    "    turbines_opt = np.array([t1, t2]).T\n",
    "    \n",
    "    return turbines_opt"
   ]
  },
  {
   "cell_type": "code",
   "execution_count": 74,
   "id": "73f1680c",
   "metadata": {},
   "outputs": [],
   "source": [
    "# Parameters\n",
    "imp_range = list(range(500, 5750, 250))\n",
    "externality = True"
   ]
  },
  {
   "cell_type": "code",
   "execution_count": 75,
   "id": "dcdf2bb2",
   "metadata": {},
   "outputs": [],
   "source": [
    "wpc = calculate_wind_power(opt_gdf_sub, t_types, cps)"
   ]
  },
  {
   "cell_type": "code",
   "execution_count": 78,
   "id": "bc566f7c",
   "metadata": {},
   "outputs": [],
   "source": [
    "def power_scaling(wpc_in, flh_const=4200, const_turbine=3):\n",
    "    '''\n",
    "    Function is used to scale the full wind power capacity array to a value \n",
    "    in line with a maximum FLH constraint of flh_const on a specific turbine (const_turbine)\n",
    "\n",
    "    Parameters\n",
    "    ----------\n",
    "    wpc_in : np.array\n",
    "        Numpy array containing the Wind power capacity values per turbine and location.\n",
    "    flh_const: int\n",
    "        Integer indicating the Maxiumum FLH constraint used for defining the scaling factor\n",
    "\n",
    "    Returns\n",
    "    -------\n",
    "    wpc_out : np.array\n",
    "        Array containing the scaled Wind power capacity values.\n",
    "\n",
    "    '''\n",
    "    # Scale Full load hours by the maxiumum FLH of the smaller turbine is 4000:\n",
    "    flh_max = np.max(wpc_in[:, const_turbine-1]) * 8760/(flh_const/1000)\n",
    "    if flh_max > flh_const:\n",
    "        scaling = flh_const/flh_max\n",
    "    else:\n",
    "        scaling = 1\n",
    "    \n",
    "    wpc_out = wpc_in * scaling\n",
    "    \n",
    "    return wpc_out"
   ]
  },
  {
   "cell_type": "code",
   "execution_count": null,
   "id": "f5191a6b",
   "metadata": {},
   "outputs": [],
   "source": []
  },
  {
   "cell_type": "code",
   "execution_count": 101,
   "id": "259ec92f",
   "metadata": {},
   "outputs": [
    {
     "data": {
      "text/plain": [
       "array([0.9119952137158922, 2.466783087304486, 4.250686034001723,\n",
       "       6.5861769102558885], dtype=object)"
      ]
     },
     "execution_count": 101,
     "metadata": {},
     "output_type": "execute_result"
    }
   ],
   "source": [
    "wpc.max(axis=0)"
   ]
  },
  {
   "cell_type": "code",
   "execution_count": 86,
   "id": "7d07bf8b",
   "metadata": {},
   "outputs": [
    {
     "name": "stdout",
     "output_type": "stream",
     "text": [
      "[0.43204402721371066 1.168601417280803 2.0136986301369864\n",
      " 3.120102335466152]\n"
     ]
    }
   ],
   "source": [
    "test = power_scaling(wpc, const_turbine=3)\n",
    "print(test.max(axis=0))"
   ]
  },
  {
   "cell_type": "code",
   "execution_count": null,
   "id": "1d6d7ce4",
   "metadata": {},
   "outputs": [],
   "source": [
    "total_cost = calculate_location_costs(opt_gdf_sub, damages, t_types, imp_range)"
   ]
  },
  {
   "cell_type": "code",
   "execution_count": 89,
   "id": "54ee3df2",
   "metadata": {},
   "outputs": [],
   "source": [
    "# test_cost = total_cost[:, :2]\n",
    "# test_wpc = wpc[:, :2]\n",
    "test_cost = total_cost\n",
    "test_wpc = wpc"
   ]
  },
  {
   "cell_type": "code",
   "execution_count": 86,
   "id": "56eab206",
   "metadata": {},
   "outputs": [
    {
     "name": "stdout",
     "output_type": "stream",
     "text": [
      "Status = Optimal\n",
      "Objective value = 1968.8180700000007\n",
      "Expansion_Constraint 500.28034944577087\n"
     ]
    }
   ],
   "source": [
    "result = minimization_problem_old(test_cost, test_wpc, 500)"
   ]
  },
  {
   "cell_type": "code",
   "execution_count": 90,
   "id": "7143a7db",
   "metadata": {},
   "outputs": [
    {
     "name": "stdout",
     "output_type": "stream",
     "text": [
      "Status = Optimal\n",
      "Objective value = 1203.5828\n",
      "Expansion_Constraint 502.5613040716259\n"
     ]
    }
   ],
   "source": [
    "result2 = minimization_problem(test_cost, test_wpc, 500)"
   ]
  },
  {
   "cell_type": "code",
   "execution_count": 91,
   "id": "2b9a9835",
   "metadata": {},
   "outputs": [
    {
     "data": {
      "text/plain": [
       "False"
      ]
     },
     "execution_count": 91,
     "metadata": {},
     "output_type": "execute_result"
    }
   ],
   "source": [
    "np.array_equal(result, result2)"
   ]
  },
  {
   "cell_type": "markdown",
   "id": "e5c8361d",
   "metadata": {},
   "source": [
    "# Test area"
   ]
  },
  {
   "cell_type": "code",
   "execution_count": 71,
   "id": "c40a80e9",
   "metadata": {},
   "outputs": [],
   "source": [
    "def calc_cost(turbines, total_cost, external_cost, const_cost):\n",
    "    '''\n",
    "    Function calculating total, external project and marginal cost \n",
    "    as well as the externality cost share for an array of selected turbines.\n",
    "    '''\n",
    "    marginal_cost = np.max(np.sum(total_cost * turbines, axis=1))\n",
    "    p_cost = np.sum(const_cost * turbines) \n",
    "    ex_cost = np.sum(external_cost * turbines) \n",
    "    cost_total = p_cost + ex_cost\n",
    "    ext_share = ex_cost/cost_total\n",
    "\n",
    "    \n",
    "    return [cost_total, ex_cost, p_cost, marginal_cost, ext_share]\n",
    "\n",
    "def calc_other(turbines, expansion_goal, rated_power_array):\n",
    "    '''\n",
    "    Function calculates the aggregate rated power, average FLH and the  number of turbines\n",
    "    build for each type for a given array of selected trubines\n",
    "    '''\n",
    "    turbine_count = np.sum(turbines, axis=0)\n",
    "    rated_power_agg = np.sum(turbine_count *rated_power_array)\n",
    "    flh = expansion_goal/rated_power_agg *8760\n",
    "\n",
    "    return [rated_power_agg, flh] + list(turbine_count)"
   ]
  },
  {
   "cell_type": "code",
   "execution_count": 72,
   "id": "f9cbbe7b",
   "metadata": {},
   "outputs": [],
   "source": [
    "def generate_results_df(geo_df, model, damage_df, t_type_df, impact_range, ext=True):\n",
    "    '''\n",
    "    Function calculates the cost predictions for each expansion scenario of a given model using the optimization results.\n",
    "\n",
    "    Parameters\n",
    "    ----------\n",
    "        geo_df : geopandas.GeoDataFrame\n",
    "            Input DataFrame containing the cell data from the Global Wind Atlas for all valid placement cells\n",
    "        model : dict\n",
    "            Dictionary containing arrays with the optimization results (which cells are chosen and which turbine is built in a chosen cell)\n",
    "        power_calc : str\n",
    "            Name of the power calculation type used in the optimization of the model results\n",
    "        stdy: str\n",
    "            String refering to the externality cost assumption (\"dk\": Droes & Koster (2016), \"jensen\": Jensen et al (2014))\n",
    "        ext: Bolean (default: True)\n",
    "            Bolean indicating if externality cost should be considered or not. \n",
    "\n",
    "    Returns\n",
    "    -------\n",
    "        results_df : pandas.DataFrame\n",
    "            Pandas DataFrame containing the cost predictions (total cost, externality cost, project cost and marginal cost)\n",
    "            for each expansion scenario of the selected model\n",
    "\n",
    "    '''\n",
    "    total_cost, ext_cost, const_cost = calculate_location_costs(geo_df, damage_df, t_type_df, imp_range, externality=ext)\n",
    "            \n",
    "    results = []\n",
    "    for i in list(model.keys()):\n",
    "        results.append([i] + calc_other(model[i], i, np.array([t_types[\"Rated power (MW)\"]])) + calc_cost(model[i], total_cost, ext_cost, const_cost))\n",
    "    results_df = pd.DataFrame(results, columns=['Expansion Goal', 'Expansion Goal (rated)', \n",
    "                                                'FLH (scaled)'] +  list(t_types.index) + ['Total Cost', 'Externality Cost', \n",
    "                                                'Project Cost', 'Marginal Cost', 'Ext. Share'])\n",
    "\n",
    "    return results_df"
   ]
  },
  {
   "cell_type": "code",
   "execution_count": 95,
   "id": "ccde7866",
   "metadata": {},
   "outputs": [],
   "source": [
    "def generate_optimization_output(gdf_in, opt_file_dir, damage_df,t_type_df, impact_range, out_file):\n",
    "    '''\n",
    "    Function calculates cost predictions for each file in a given opt_file_dir and generates a .xlsx table containing all cost predictions\n",
    "    in this directory.\n",
    "\n",
    "    Parameters\n",
    "    ----------\n",
    "        gdf_in: geopandas.GeoDataFrame\n",
    "            DataFrame used for the optimization process\n",
    "        opt_file_dir: str\n",
    "            String containing a path to the direcotory with the optimization results\n",
    "        out_file: str\n",
    "            Name of the output .xlsx file\n",
    "    '''\n",
    "    opt_files = glob.glob(f'{opt_file_dir}/*.pickle')\n",
    "\n",
    "    df_list = []\n",
    "    for file in opt_files:\n",
    "        # Infer optimization settings from filename:\n",
    "        filename_split = Path(file).stem.split('_')\n",
    "        szenario = filename_split[-1]\n",
    "\n",
    "        \n",
    "        if szenario == \"noext\":\n",
    "            externality = False\n",
    "        else:\n",
    "            externality = True\n",
    "            \n",
    "        # Load in optimized turbine location files:\n",
    "        opt_result = pickle.load(open(file, \"rb\"))\n",
    "        opt_result= dict(sorted(opt_result.items(), key=lambda item: item[0]))\n",
    "\n",
    "\n",
    "        opt_df = generate_results_df(gdf_in, opt_result, damage_df, t_type_df, impact_range, ext=externality)\n",
    "        opt_df['Szenario'] = szenario\n",
    "        opt_df['Externality Cost (€/kW rated)'] = opt_df['Externality Cost'] / opt_df['Expansion Goal (rated)'] *1e-3\n",
    "        opt_df['Project Cost (€/kW rated)'] = opt_df['Project Cost'] / opt_df['Expansion Goal (rated)'] *1e-3\n",
    "        df_list.append(opt_df)\n",
    "\n",
    "    df_out = pd.concat(df_list)\n",
    "    df_out.to_excel(f'{opt_file_dir}/{out_file}.xlsx', index=False)"
   ]
  },
  {
   "cell_type": "code",
   "execution_count": 74,
   "id": "69ca281d",
   "metadata": {},
   "outputs": [],
   "source": [
    "opt_result = pickle.load(open(\"E:\\Master_Thesis\\WIPLEX\\Database\\Final Outputs\\Optimization_Results\\optimization_results_DEU_500_Sze1.pickle\", \"rb\"))"
   ]
  },
  {
   "cell_type": "code",
   "execution_count": 75,
   "id": "2451eea6",
   "metadata": {},
   "outputs": [],
   "source": [
    "total_cost, ext_cost, const_cost = calculate_location_costs(opt_gdf_sub, damages, t_types, imp_range, externality=True)"
   ]
  },
  {
   "cell_type": "code",
   "execution_count": 76,
   "id": "ba507d20",
   "metadata": {},
   "outputs": [],
   "source": [
    "test = calc_cost(opt_result[100], total_cost, ext_cost, const_cost)"
   ]
  },
  {
   "cell_type": "code",
   "execution_count": 79,
   "id": "9b8cc403",
   "metadata": {},
   "outputs": [
    {
     "data": {
      "text/plain": [
       "[138.0, 6347.826086956522, 0, 0, 2, 18]"
      ]
     },
     "execution_count": 79,
     "metadata": {},
     "output_type": "execute_result"
    }
   ],
   "source": [
    "test2"
   ]
  },
  {
   "cell_type": "code",
   "execution_count": 80,
   "id": "62b7ab31",
   "metadata": {},
   "outputs": [],
   "source": [
    "lol = ['Expansion Goal', 'Expansion Goal (rated)', 'FLH (scaled)'] +  list(t_types.index) + ['Total Cost', \n",
    "                                        'Externality Cost', 'Project Cost', 'Marginal Cost', 'Ext. Share']\n"
   ]
  },
  {
   "cell_type": "code",
   "execution_count": 81,
   "id": "f60b280e",
   "metadata": {},
   "outputs": [],
   "source": [
    "res = generate_results_df(opt_gdf_sub, opt_result, damages, t_types, imp_range)"
   ]
  },
  {
   "cell_type": "code",
   "execution_count": 89,
   "id": "32082fd8",
   "metadata": {},
   "outputs": [
    {
     "data": {
      "text/plain": [
       "['optimization', 'results', 'DEU', '500']"
      ]
     },
     "execution_count": 89,
     "metadata": {},
     "output_type": "execute_result"
    }
   ],
   "source": [
    "out_folder = \"E:\\Master_Thesis\\WIPLEX\\Database\\Final Outputs\\Optimization_Results\"\n",
    "out_file = \"optimization_results_DEU_500.pickle\"\n",
    "\n",
    "Path(test_file).stem.split('_')"
   ]
  },
  {
   "cell_type": "code",
   "execution_count": 96,
   "id": "53d6921e",
   "metadata": {},
   "outputs": [],
   "source": [
    "generate_optimization_output(opt_gdf_sub, out_folder, damages ,t_types, imp_range, out_file)"
   ]
  },
  {
   "cell_type": "code",
   "execution_count": null,
   "id": "b64c8f45",
   "metadata": {},
   "outputs": [],
   "source": []
  }
 ],
 "metadata": {
  "kernelspec": {
   "display_name": "Python 3 (ipykernel)",
   "language": "python",
   "name": "python3"
  },
  "language_info": {
   "codemirror_mode": {
    "name": "ipython",
    "version": 3
   },
   "file_extension": ".py",
   "mimetype": "text/x-python",
   "name": "python",
   "nbconvert_exporter": "python",
   "pygments_lexer": "ipython3",
   "version": "3.10.1"
  }
 },
 "nbformat": 4,
 "nbformat_minor": 5
}
